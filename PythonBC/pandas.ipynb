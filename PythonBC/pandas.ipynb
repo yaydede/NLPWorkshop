{
 "cells": [
  {
   "cell_type": "markdown",
   "metadata": {},
   "source": [
    "# 15-Minutes Pandas Exercise\n",
    "\n",
    "## Jupyter Notebook Setup\n",
    "\n",
    "1. Import necessary libraries: `os`, `pandas`, and `matplotlib`"
   ]
  },
  {
   "cell_type": "code",
   "execution_count": 18,
   "metadata": {},
   "outputs": [],
   "source": [
    "import os\n",
    "import pandas as pd\n",
    "import matplotlib.pyplot as plt\n",
    "%matplotlib inline"
   ]
  },
  {
   "cell_type": "markdown",
   "metadata": {},
   "source": [
    "The last line `%matplotlib inline` is a magic command used in Jupyter notebooks. It tells Jupyter to display the plots created by matplotlib directly in the notebook, right below the code cell that produces them, rather than in a separate window. This makes it easier to visualize the results of your plotting commands inline with your code and text.\n",
    "\n",
    "However, in a non-Jupyter environment, this command would not be necessary or applicable.\n",
    "\n",
    "2. Check and set working directory"
   ]
  },
  {
   "cell_type": "code",
   "execution_count": 19,
   "metadata": {},
   "outputs": [
    {
     "data": {
      "text/plain": [
       "'/Users/YigitAydede/Library/CloudStorage/Dropbox/Documents/Courses/MBAN/NLPBootcamp/PythonBC'"
      ]
     },
     "execution_count": 19,
     "metadata": {},
     "output_type": "execute_result"
    }
   ],
   "source": [
    "os.getcwd()\n"
   ]
  },
  {
   "cell_type": "markdown",
   "metadata": {},
   "source": [
    "3. Change the current directory to the folder where you want to save the notebook."
   ]
  },
  {
   "cell_type": "code",
   "execution_count": 20,
   "metadata": {},
   "outputs": [
    {
     "data": {
      "text/plain": [
       "'/Users/YigitAydede/Library/CloudStorage/Dropbox/Documents/Courses/MBAN/NLPBootcamp/PythonBC'"
      ]
     },
     "execution_count": 20,
     "metadata": {},
     "output_type": "execute_result"
    }
   ],
   "source": [
    "os.chdir('/Users/YigitAydede/Library/CloudStorage/Dropbox/Documents/Courses/MBAN/NLPBootcamp/PythonBC')\n",
    "os.getcwd()"
   ]
  },
  {
   "cell_type": "markdown",
   "metadata": {},
   "source": [
    "4. Verify the data file exists"
   ]
  },
  {
   "cell_type": "code",
   "execution_count": 21,
   "metadata": {},
   "outputs": [
    {
     "name": "stdout",
     "output_type": "stream",
     "text": [
      "The file sales_data.csv exists.\n"
     ]
    }
   ],
   "source": [
    "import os\n",
    "\n",
    "file_path = 'sales_data.csv'\n",
    "if os.path.exists(file_path):\n",
    "    print(f\"The file {file_path} exists.\")\n",
    "else:\n",
    "    print(f\"The file {file_path} does not exist.\")\n"
   ]
  },
  {
   "cell_type": "markdown",
   "metadata": {},
   "source": [
    "5. Read the CSV file"
   ]
  },
  {
   "cell_type": "code",
   "execution_count": 22,
   "metadata": {},
   "outputs": [],
   "source": [
    "df = pd.read_csv(file_path)"
   ]
  },
  {
   "cell_type": "markdown",
   "metadata": {},
   "source": [
    "6. Use `df.info()` to get an overview of the dataset, including column names, data types, and non-null counts."
   ]
  },
  {
   "cell_type": "code",
   "execution_count": 23,
   "metadata": {},
   "outputs": [
    {
     "name": "stdout",
     "output_type": "stream",
     "text": [
      "<class 'pandas.core.frame.DataFrame'>\n",
      "RangeIndex: 10000 entries, 0 to 9999\n",
      "Data columns (total 5 columns):\n",
      " #   Column    Non-Null Count  Dtype  \n",
      "---  ------    --------------  -----  \n",
      " 0   Date      10000 non-null  object \n",
      " 1   Product   10000 non-null  object \n",
      " 2   Quantity  10000 non-null  int64  \n",
      " 3   Price     10000 non-null  float64\n",
      " 4   Region    10000 non-null  object \n",
      "dtypes: float64(1), int64(1), object(3)\n",
      "memory usage: 390.8+ KB\n",
      "None\n"
     ]
    }
   ],
   "source": [
    "# Display basic information about the dataset\n",
    "print(df.info())"
   ]
  },
  {
   "cell_type": "markdown",
   "metadata": {},
   "source": [
    "The output is the result of calling the `info()`` method on a pandas DataFrame. This method gives a concise summary of the DataFrame, including:\n",
    "\n",
    "1. Class Type: <class 'pandas.core.frame.DataFrame'> indicates that the object is a DataFrame.\n",
    "2. Range Index: RangeIndex: 10000 entries, 0 to 9999 specifies the range of the index, showing that the DataFrame has 10,000 rows, indexed from 0 to 9999.\n",
    "3. Data Columns: Data columns (total 5 columns): indicates there are 5 columns in the DataFrame.\n",
    "4. Column Information:\n",
    "- `#`: Sequential number of the columns.\n",
    "- Column: Name of the column.\n",
    "- Non-Null Count: Number of non-null (non-missing) entries in each column.\n",
    "- Dtype: Data type of the entries in each column.\n",
    "\n",
    "For this DataFrame:\n",
    "\n",
    "- Date: 10,000 non-null entries, dtype object (typically used for strings).\n",
    "- Product: 10,000 non-null entries, dtype object.\n",
    "- Quantity: 10,000 non-null entries, dtype int64 (integer).\n",
    "- Price: 10,000 non-null entries, dtype float64 (floating-point number).\n",
    "- Region: 10,000 non-null entries, dtype object.\n",
    "- Dtype Summary: dtypes: float64(1), int64(1), object(3) provides a count of the different data types present in the DataFrame.\n",
    "\n",
    "Memory Usage: memory usage: 390.8+ KB indicates the approximate amount of memory used by the DataFrame.\n",
    "\n",
    "None: This is the return value of the info() method, which is None as the method is used for its side effect (printing the summary) rather than returning a value.\n",
    "\n",
    "In the context of pandas DataFrames:\n",
    "\n",
    "`dtype`stands for \"data type\" and refers to the type of data stored in each column of a DataFrame. It is an attribute of pandas Series and DataFrames that describes the kind of elements contained within. Common data types (dtypes) in pandas include:\n",
    "\n",
    "- int64: 64-bit integer\n",
    "- float64: 64-bit floating-point number\n",
    "- bool: Boolean (True/False)\n",
    "- datetime64[ns]: Date and time\n",
    "- timedelta[ns]: Difference between two datetime values\n",
    "- category: Categorical data\n",
    "- object: General-purpose data type for text or mixed types\n",
    "\n",
    "object\n",
    "object is a general-purpose dtype in pandas. It is used to store text data (strings) or mixed types. When pandas encounters data that doesn't fit neatly into one of the more specific dtypes (like integers, floats, or booleans), it uses object as a fallback. For example:\n",
    "\n",
    "Columns containing strings (e.g., names, addresses) are typically of dtype object.\n",
    "Columns with mixed data types (e.g., a mix of integers, floats, and strings) will also be of dtype object.\n",
    "\n",
    "\n",
    "\n",
    "\n",
    "\n"
   ]
  },
  {
   "cell_type": "markdown",
   "metadata": {},
   "source": [
    "7. Use `df.head()` to show us the first few rows of the data."
   ]
  },
  {
   "cell_type": "code",
   "execution_count": 24,
   "metadata": {},
   "outputs": [
    {
     "data": {
      "text/html": [
       "<div>\n",
       "<style scoped>\n",
       "    .dataframe tbody tr th:only-of-type {\n",
       "        vertical-align: middle;\n",
       "    }\n",
       "\n",
       "    .dataframe tbody tr th {\n",
       "        vertical-align: top;\n",
       "    }\n",
       "\n",
       "    .dataframe thead th {\n",
       "        text-align: right;\n",
       "    }\n",
       "</style>\n",
       "<table border=\"1\" class=\"dataframe\">\n",
       "  <thead>\n",
       "    <tr style=\"text-align: right;\">\n",
       "      <th></th>\n",
       "      <th>Date</th>\n",
       "      <th>Product</th>\n",
       "      <th>Quantity</th>\n",
       "      <th>Price</th>\n",
       "      <th>Region</th>\n",
       "    </tr>\n",
       "  </thead>\n",
       "  <tbody>\n",
       "    <tr>\n",
       "      <th>0</th>\n",
       "      <td>2022-03-31</td>\n",
       "      <td>Laptop</td>\n",
       "      <td>10</td>\n",
       "      <td>398.041660</td>\n",
       "      <td>South</td>\n",
       "    </tr>\n",
       "    <tr>\n",
       "      <th>1</th>\n",
       "      <td>2022-06-13</td>\n",
       "      <td>Tablet</td>\n",
       "      <td>9</td>\n",
       "      <td>118.846586</td>\n",
       "      <td>South</td>\n",
       "    </tr>\n",
       "    <tr>\n",
       "      <th>2</th>\n",
       "      <td>2022-10-06</td>\n",
       "      <td>Smartphone</td>\n",
       "      <td>8</td>\n",
       "      <td>484.396535</td>\n",
       "      <td>West</td>\n",
       "    </tr>\n",
       "    <tr>\n",
       "      <th>3</th>\n",
       "      <td>2022-03-04</td>\n",
       "      <td>Smartphone</td>\n",
       "      <td>10</td>\n",
       "      <td>765.314520</td>\n",
       "      <td>West</td>\n",
       "    </tr>\n",
       "    <tr>\n",
       "      <th>4</th>\n",
       "      <td>2022-12-02</td>\n",
       "      <td>Laptop</td>\n",
       "      <td>9</td>\n",
       "      <td>815.330139</td>\n",
       "      <td>East</td>\n",
       "    </tr>\n",
       "  </tbody>\n",
       "</table>\n",
       "</div>"
      ],
      "text/plain": [
       "         Date     Product  Quantity       Price Region\n",
       "0  2022-03-31      Laptop        10  398.041660  South\n",
       "1  2022-06-13      Tablet         9  118.846586  South\n",
       "2  2022-10-06  Smartphone         8  484.396535   West\n",
       "3  2022-03-04  Smartphone        10  765.314520   West\n",
       "4  2022-12-02      Laptop         9  815.330139   East"
      ]
     },
     "execution_count": 24,
     "metadata": {},
     "output_type": "execute_result"
    }
   ],
   "source": [
    "# Display the first few rows of the dataset\n",
    "df.head()"
   ]
  },
  {
   "cell_type": "markdown",
   "metadata": {},
   "source": [
    "8. Use `df.describe()` to provide a statistical summary of the numerical columns."
   ]
  },
  {
   "cell_type": "code",
   "execution_count": 25,
   "metadata": {},
   "outputs": [
    {
     "data": {
      "text/html": [
       "<div>\n",
       "<style scoped>\n",
       "    .dataframe tbody tr th:only-of-type {\n",
       "        vertical-align: middle;\n",
       "    }\n",
       "\n",
       "    .dataframe tbody tr th {\n",
       "        vertical-align: top;\n",
       "    }\n",
       "\n",
       "    .dataframe thead th {\n",
       "        text-align: right;\n",
       "    }\n",
       "</style>\n",
       "<table border=\"1\" class=\"dataframe\">\n",
       "  <thead>\n",
       "    <tr style=\"text-align: right;\">\n",
       "      <th></th>\n",
       "      <th>Quantity</th>\n",
       "      <th>Price</th>\n",
       "    </tr>\n",
       "  </thead>\n",
       "  <tbody>\n",
       "    <tr>\n",
       "      <th>count</th>\n",
       "      <td>10000.000000</td>\n",
       "      <td>10000.000000</td>\n",
       "    </tr>\n",
       "    <tr>\n",
       "      <th>mean</th>\n",
       "      <td>5.455000</td>\n",
       "      <td>549.258954</td>\n",
       "    </tr>\n",
       "    <tr>\n",
       "      <th>std</th>\n",
       "      <td>2.871794</td>\n",
       "      <td>259.564628</td>\n",
       "    </tr>\n",
       "    <tr>\n",
       "      <th>min</th>\n",
       "      <td>1.000000</td>\n",
       "      <td>100.039033</td>\n",
       "    </tr>\n",
       "    <tr>\n",
       "      <th>25%</th>\n",
       "      <td>3.000000</td>\n",
       "      <td>323.127504</td>\n",
       "    </tr>\n",
       "    <tr>\n",
       "      <th>50%</th>\n",
       "      <td>5.000000</td>\n",
       "      <td>547.014960</td>\n",
       "    </tr>\n",
       "    <tr>\n",
       "      <th>75%</th>\n",
       "      <td>8.000000</td>\n",
       "      <td>772.120157</td>\n",
       "    </tr>\n",
       "    <tr>\n",
       "      <th>max</th>\n",
       "      <td>10.000000</td>\n",
       "      <td>999.705039</td>\n",
       "    </tr>\n",
       "  </tbody>\n",
       "</table>\n",
       "</div>"
      ],
      "text/plain": [
       "           Quantity         Price\n",
       "count  10000.000000  10000.000000\n",
       "mean       5.455000    549.258954\n",
       "std        2.871794    259.564628\n",
       "min        1.000000    100.039033\n",
       "25%        3.000000    323.127504\n",
       "50%        5.000000    547.014960\n",
       "75%        8.000000    772.120157\n",
       "max       10.000000    999.705039"
      ]
     },
     "execution_count": 25,
     "metadata": {},
     "output_type": "execute_result"
    }
   ],
   "source": [
    "df.describe()\n"
   ]
  },
  {
   "cell_type": "markdown",
   "metadata": {},
   "source": [
    "9. Check for missing values using `df.isnull().sum()`."
   ]
  },
  {
   "cell_type": "code",
   "execution_count": 26,
   "metadata": {},
   "outputs": [
    {
     "data": {
      "text/plain": [
       "Date        0\n",
       "Product     0\n",
       "Quantity    0\n",
       "Price       0\n",
       "Region      0\n",
       "dtype: int64"
      ]
     },
     "execution_count": 26,
     "metadata": {},
     "output_type": "execute_result"
    }
   ],
   "source": [
    "df.isnull().sum()\n"
   ]
  },
  {
   "cell_type": "markdown",
   "metadata": {},
   "source": [
    "And we can remove the missing values"
   ]
  },
  {
   "cell_type": "code",
   "execution_count": null,
   "metadata": {},
   "outputs": [],
   "source": [
    "df.dropna(inplace=True)"
   ]
  },
  {
   "cell_type": "markdown",
   "metadata": {},
   "source": [
    "The method `df.dropna(inplace=True)` is used in pandas to remove missing values (NaNs) from the DataFrame df. Here's a detailed explanation of what it does:\n",
    "\n",
    "This method is used to remove rows or columns that contain missing values (NaNs).\n",
    "inplace=True: This argument modifies the DataFrame in place. Instead of creating a new DataFrame with the missing values removed, it updates the existing DataFrame df.\n",
    "\n",
    "How It Works\n",
    "When you call df.dropna(inplace=True), it will remove all rows that contain at least one missing value (NaN) if no additional parameters are specified. It also updates the DataFrame df directly without needing to reassign it to a new variable.\n"
   ]
  },
  {
   "cell_type": "markdown",
   "metadata": {},
   "source": [
    "9. Calculate total sales by multiplying Quantity and Price."
   ]
  },
  {
   "cell_type": "code",
   "execution_count": 27,
   "metadata": {},
   "outputs": [
    {
     "data": {
      "text/html": [
       "<div>\n",
       "<style scoped>\n",
       "    .dataframe tbody tr th:only-of-type {\n",
       "        vertical-align: middle;\n",
       "    }\n",
       "\n",
       "    .dataframe tbody tr th {\n",
       "        vertical-align: top;\n",
       "    }\n",
       "\n",
       "    .dataframe thead th {\n",
       "        text-align: right;\n",
       "    }\n",
       "</style>\n",
       "<table border=\"1\" class=\"dataframe\">\n",
       "  <thead>\n",
       "    <tr style=\"text-align: right;\">\n",
       "      <th></th>\n",
       "      <th>Quantity</th>\n",
       "      <th>Price</th>\n",
       "      <th>Total Sales</th>\n",
       "    </tr>\n",
       "  </thead>\n",
       "  <tbody>\n",
       "    <tr>\n",
       "      <th>count</th>\n",
       "      <td>10000.000000</td>\n",
       "      <td>10000.000000</td>\n",
       "      <td>10000.000000</td>\n",
       "    </tr>\n",
       "    <tr>\n",
       "      <th>mean</th>\n",
       "      <td>5.455000</td>\n",
       "      <td>549.258954</td>\n",
       "      <td>2986.553337</td>\n",
       "    </tr>\n",
       "    <tr>\n",
       "      <th>std</th>\n",
       "      <td>2.871794</td>\n",
       "      <td>259.564628</td>\n",
       "      <td>2227.921417</td>\n",
       "    </tr>\n",
       "    <tr>\n",
       "      <th>min</th>\n",
       "      <td>1.000000</td>\n",
       "      <td>100.039033</td>\n",
       "      <td>100.039033</td>\n",
       "    </tr>\n",
       "    <tr>\n",
       "      <th>25%</th>\n",
       "      <td>3.000000</td>\n",
       "      <td>323.127504</td>\n",
       "      <td>1142.239718</td>\n",
       "    </tr>\n",
       "    <tr>\n",
       "      <th>50%</th>\n",
       "      <td>5.000000</td>\n",
       "      <td>547.014960</td>\n",
       "      <td>2404.393648</td>\n",
       "    </tr>\n",
       "    <tr>\n",
       "      <th>75%</th>\n",
       "      <td>8.000000</td>\n",
       "      <td>772.120157</td>\n",
       "      <td>4359.697954</td>\n",
       "    </tr>\n",
       "    <tr>\n",
       "      <th>max</th>\n",
       "      <td>10.000000</td>\n",
       "      <td>999.705039</td>\n",
       "      <td>9995.667353</td>\n",
       "    </tr>\n",
       "  </tbody>\n",
       "</table>\n",
       "</div>"
      ],
      "text/plain": [
       "           Quantity         Price   Total Sales\n",
       "count  10000.000000  10000.000000  10000.000000\n",
       "mean       5.455000    549.258954   2986.553337\n",
       "std        2.871794    259.564628   2227.921417\n",
       "min        1.000000    100.039033    100.039033\n",
       "25%        3.000000    323.127504   1142.239718\n",
       "50%        5.000000    547.014960   2404.393648\n",
       "75%        8.000000    772.120157   4359.697954\n",
       "max       10.000000    999.705039   9995.667353"
      ]
     },
     "execution_count": 27,
     "metadata": {},
     "output_type": "execute_result"
    }
   ],
   "source": [
    "df['Total Sales'] = df['Quantity'] * df['Price']\n",
    "df.describe()"
   ]
  },
  {
   "cell_type": "markdown",
   "metadata": {},
   "source": [
    "10. Report the average price and total sales for each product."
   ]
  },
  {
   "cell_type": "code",
   "execution_count": 28,
   "metadata": {},
   "outputs": [
    {
     "name": "stdout",
     "output_type": "stream",
     "text": [
      "                 Price   Total Sales\n",
      "Product                             \n",
      "Headphones  548.321028  5.778406e+06\n",
      "Laptop      546.433465  5.982554e+06\n",
      "Smartphone  546.308102  6.084072e+06\n",
      "Smartwatch  551.088800  6.040751e+06\n",
      "Tablet      554.176400  5.979750e+06\n"
     ]
    }
   ],
   "source": [
    "\"\"\"\n",
    "Calculates the mean price and total sales for each product in the DataFrame `df`.\n",
    "\n",
    "The resulting `product_stats` DataFrame contains the following columns:\n",
    "- `Price`: the mean price for each product\n",
    "- `Total Sales`: the total sales for each product\n",
    "\"\"\"\n",
    "product_stats = df.groupby('Product').agg({'Price': 'mean', 'Total Sales': 'sum'})\n",
    "print(product_stats)\n"
   ]
  },
  {
   "cell_type": "markdown",
   "metadata": {},
   "source": [
    "11. Sort the same table by the Total Sales column in ascending order. Save it as a CSV file."
   ]
  },
  {
   "cell_type": "code",
   "execution_count": 29,
   "metadata": {},
   "outputs": [
    {
     "name": "stdout",
     "output_type": "stream",
     "text": [
      "                 Price   Total Sales\n",
      "Product                             \n",
      "Headphones  548.321028  5.778406e+06\n",
      "Tablet      554.176400  5.979750e+06\n",
      "Laptop      546.433465  5.982554e+06\n",
      "Smartwatch  551.088800  6.040751e+06\n",
      "Smartphone  546.308102  6.084072e+06\n"
     ]
    }
   ],
   "source": [
    "product_stats_sorted = product_stats.sort_values('Total Sales', ascending=True)\n",
    "print(product_stats_sorted)\n",
    "product_stats_sorted.to_csv('product_stats.csv')\n"
   ]
  },
  {
   "cell_type": "markdown",
   "metadata": {},
   "source": [
    "12. Find the correlation between Average Price and Total Sales\n"
   ]
  },
  {
   "cell_type": "code",
   "execution_count": 30,
   "metadata": {},
   "outputs": [
    {
     "name": "stdout",
     "output_type": "stream",
     "text": [
      "The correlation between Average Price and Total Sales is: -0.009575689060696368\n"
     ]
    }
   ],
   "source": [
    "correlation = product_stats['Price'].corr(product_stats['Total Sales'])\n",
    "print(f\"The correlation between Average Price and Total Sales is: {correlation}\")\n"
   ]
  },
  {
   "cell_type": "markdown",
   "metadata": {},
   "source": [
    "13. Create a line plot to visualize the monthly sales trend."
   ]
  },
  {
   "cell_type": "code",
   "execution_count": 31,
   "metadata": {},
   "outputs": [
    {
     "name": "stderr",
     "output_type": "stream",
     "text": [
      "/var/folders/b2/gpnsjh9j6bv5prtx7w5lsym80000gp/T/ipykernel_80045/2285257092.py:3: FutureWarning: 'M' is deprecated and will be removed in a future version, please use 'ME' instead.\n",
      "  monthly_sales = df.resample('M').sum()\n"
     ]
    },
    {
     "data": {
      "image/png": "[encoded data removed]",
      "text/plain": [
       "<Figure size 640x480 with 1 Axes>"
      ]
     },
     "metadata": {},
     "output_type": "display_data"
    }
   ],
   "source": [
    "df['Date'] = pd.to_datetime(df['Date'])\n",
    "df.set_index('Date', inplace=True)\n",
    "monthly_sales = df.resample('M').sum()\n",
    "monthly_sales['Total Sales'].plot(kind='line')\n",
    "plt.xlabel('Month')\n",
    "plt.ylabel('Total Sales')\n",
    "plt.title('Monthly Sales Trend')\n",
    "plt.show()\n"
   ]
  },
  {
   "cell_type": "markdown",
   "metadata": {},
   "source": [
    "- The first line converts the 'Date' column in the DataFrame df from a string format to a datetime format using the ``pd.to_datetime()` function. This conversion is essential for performing time series operations like resampling.\n",
    "- The second line sets the 'Date' column as the index of the DataFrame. By doing this, you make the DataFrame suitable for time series operations, as the index will now represent the dates. `inplace=True` modifies the DataFrame in place, so you don't need to assign it back to df.\n",
    "- The third line resamples the data to a monthly frequency using the `resample()` method. The `'M'` argument specifies that you want to resample to the end of each month. The `'mean'` argument specifies that you want to calculate the mean of the data within each month.\n",
    "- The fourth line line creates a line plot of the 'Total Sales' column from the monthly_sales DataFrame. `kind='line'` specifies that the plot should be a line plot."
   ]
  },
  {
   "cell_type": "markdown",
   "metadata": {},
   "source": [
    "14. Calculate and display sales by region"
   ]
  },
  {
   "cell_type": "code",
   "execution_count": 32,
   "metadata": {},
   "outputs": [
    {
     "name": "stdout",
     "output_type": "stream",
     "text": [
      "Region\n",
      "Central    5.959897e+06\n",
      "East       5.873895e+06\n",
      "North      6.170071e+06\n",
      "South      5.688002e+06\n",
      "West       6.173668e+06\n",
      "Name: Total Sales, dtype: float64\n"
     ]
    }
   ],
   "source": [
    "sales_by_region = df.groupby('Region')['Total Sales'].sum()\n",
    "print(sales_by_region)\n"
   ]
  },
  {
   "cell_type": "markdown",
   "metadata": {},
   "source": [
    "15. Find the day with highest sales"
   ]
  },
  {
   "cell_type": "code",
   "execution_count": 33,
   "metadata": {},
   "outputs": [
    {
     "name": "stdout",
     "output_type": "stream",
     "text": [
      "The day with the highest sales is: 2023-01-13 00:00:00\n"
     ]
    }
   ],
   "source": [
    "highest_sales_day = df.groupby('Date')['Total Sales'].sum().idxmax()\n",
    "print(f\"The day with the highest sales is: {highest_sales_day}\")\n"
   ]
  },
  {
   "cell_type": "markdown",
   "metadata": {},
   "source": [
    "The `idxmax()` method returns the index of the first occurrence of the maximum value in the Series. In this case, it returns the date with the highest total sales."
   ]
  },
  {
   "cell_type": "markdown",
   "metadata": {},
   "source": [
    "16. Report the months when the maximum and minumum sales happens by product "
   ]
  },
  {
   "cell_type": "markdown",
   "metadata": {},
   "source": [
    "The error you're encountering occurs because the Date column has been set as the index of the DataFrame. When you attempt to access df.loc[max_sales_month, ['Product', 'Date']], it cannot find the Date column because it's now an index, not a regular column.\n",
    "\n",
    "To resolve this, you can reset the index before attempting to access the columns. Here's how you can do it:"
   ]
  },
  {
   "cell_type": "code",
   "execution_count": 34,
   "metadata": {},
   "outputs": [
    {
     "name": "stdout",
     "output_type": "stream",
     "text": [
      "        Product Month with Maximum Sales Month with Minimum Sales\n",
      "0    Headphones               2023-03-11               2023-06-30\n",
      "1    Headphones               2023-03-11               2023-01-07\n",
      "2    Headphones               2023-03-11               2023-01-07\n",
      "3    Headphones               2023-03-11               2023-01-07\n",
      "4    Headphones               2023-03-11               2022-02-17\n",
      "..          ...                      ...                      ...\n",
      "696  Smartphone               2023-09-17               2022-02-17\n",
      "697  Smartphone               2023-09-17               2022-02-17\n",
      "698  Smartphone               2023-09-17               2023-02-11\n",
      "699  Smartphone               2023-09-17               2023-02-11\n",
      "700  Smartphone               2023-09-17               2023-02-11\n",
      "\n",
      "[701 rows x 3 columns]\n"
     ]
    }
   ],
   "source": [
    "import pandas as pd\n",
    "\n",
    "# Load the data from a CSV file\n",
    "df = pd.read_csv(file_path)\n",
    "\n",
    "# Calculate 'Total Sales' as the product of 'Quantity' and 'Price'\n",
    "df['Total Sales'] = df['Quantity'] * df['Price']\n",
    "\n",
    "# Ensure 'Date' column is in datetime format\n",
    "df['Date'] = pd.to_datetime(df['Date'])\n",
    "\n",
    "# Set 'Date' column as the index for time series operations\n",
    "df.set_index('Date', inplace=True)\n",
    "\n",
    "# Find the index of the row with maximum sales for each product\n",
    "max_sales_idx = df.groupby('Product')['Total Sales'].idxmax()\n",
    "# Get the corresponding rows and reset the index to turn 'Date' back into a column\n",
    "max_sales_month_df = df.loc[max_sales_idx].reset_index()[['Product', 'Date']]\n",
    "# Rename the 'Date' column for clarity\n",
    "max_sales_month_df.rename(columns={'Date': 'Month with Maximum Sales'}, inplace=True)\n",
    "\n",
    "# Find the index of the row with minimum sales for each product\n",
    "min_sales_idx = df.groupby('Product')['Total Sales'].idxmin()\n",
    "# Get the corresponding rows and reset the index to turn 'Date' back into a column\n",
    "min_sales_month_df = df.loc[min_sales_idx].reset_index()[['Product', 'Date']]\n",
    "# Rename the 'Date' column for clarity\n",
    "min_sales_month_df.rename(columns={'Date': 'Month with Minimum Sales'}, inplace=True)\n",
    "\n",
    "# Merge the two DataFrames on the 'Product' column\n",
    "sales_month = pd.merge(max_sales_month_df, min_sales_month_df, on='Product')\n",
    "\n",
    "# Display the result\n",
    "print(sales_month)\n"
   ]
  }
 ],
 "metadata": {
  "kernelspec": {
   "display_name": "Python 3 (ipykernel)",
   "language": "python",
   "name": "python3"
  },
  "language_info": {
   "codemirror_mode": {
    "name": "ipython",
    "version": 3
   },
   "file_extension": ".py",
   "mimetype": "text/x-python",
   "name": "python",
   "nbconvert_exporter": "python",
   "pygments_lexer": "ipython3",
   "version": "3.11.5"
  }
 },
 "nbformat": 4,
 "nbformat_minor": 4
}
