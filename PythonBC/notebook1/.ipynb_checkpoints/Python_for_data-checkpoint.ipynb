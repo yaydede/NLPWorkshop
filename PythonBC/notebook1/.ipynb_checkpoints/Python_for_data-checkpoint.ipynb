{
 "cells": [
  {
   "cell_type": "markdown",
   "id": "0badb5f4",
   "metadata": {},
   "source": [
    "# Notebook for Data Analytics in Python\n",
    "\n",
    "**Python was not written with data analysis in mind**.  It's a general purpose programing language!\n",
    "\n",
    "This notebook is similar to Rmarkdown, but less practical:-)  Knitting a Jupyter Notebook to a PDF is a multi-step process that typically involves converting the notebook to a different format first (like HTML or LaTeX) and then to a PDF. Here's a general process you can follow:\n",
    "  \n",
    "- `nbconvert` is a tool provided by Jupyter that allows you to convert notebooks to various other formats, including HTML and PDF. First, ensure that `nbconvert` is installed. Run this command in your terminal:`conda install nbconvert`\n",
    "- To convert a notebook to PDF, you need a TeX distribution installed. nbconvert uses TeX to generate PDFs. For Windows, you can use MikTeX. For macOS, MacTeX is a common choice.\n",
    "- `jupyter nbconvert --to pdf YourNotebook.ipynb`\n",
    "- `jupyter nbconvert --to html YourNotebook.ipynb`"
   ]
  },
  {
   "cell_type": "markdown",
   "id": "b4ab2d2a",
   "metadata": {},
   "source": [
    "# Introduction"
   ]
  },
  {
   "cell_type": "markdown",
   "id": "f063c2f3-0521-4c3c-8e96-a32d5c9a7808",
   "metadata": {},
   "source": [
    "The following command instructs Python to join together the numbers 3, 4, and 5, and to save them as a list named x. When we type x, it gives us back the list.b"
   ]
  },
  {
   "cell_type": "code",
   "execution_count": 1,
   "id": "7e541716-3cc4-45d7-a090-d88b58a50fdf",
   "metadata": {},
   "outputs": [
    {
     "data": {
      "text/plain": [
       "[3, 4, 5]"
      ]
     },
     "execution_count": 1,
     "metadata": {},
     "output_type": "execute_result"
    }
   ],
   "source": [
    "x = [3, 4, 5]\n",
    "x"
   ]
  },
  {
   "cell_type": "markdown",
   "id": "27d0cf94-d7e9-43b6-8b67-0866debee8b0",
   "metadata": {},
   "source": [
    "Note that we used the brackets [] to construct this list. We will often want to add two sets of numbers together. It is reasonable\n",
    "to try the following code, though it will not produce the desired results."
   ]
  },
  {
   "cell_type": "code",
   "execution_count": 2,
   "id": "1075788e-2412-40c5-a26d-d9325ff54b13",
   "metadata": {},
   "outputs": [
    {
     "data": {
      "text/plain": [
       "[3, 4, 5, 4, 9, 7]"
      ]
     },
     "execution_count": 2,
     "metadata": {},
     "output_type": "execute_result"
    }
   ],
   "source": [
    "y = [4, 9, 7]\n",
    "x + y"
   ]
  },
  {
   "cell_type": "markdown",
   "id": "c4b68356-6cd5-4e47-adc0-3ddf435c1ff0",
   "metadata": {},
   "source": [
    "The result may appear slightly counterintuitive: why did Python not add the entries of the lists element-by-element? In Python, lists hold arbitrary objects, and are added using concatenation. In fact, concatenation is the behavior that we saw earlier when we entered \"hello\" + \" \" + \"world\". This example reflects the fact that Python is a general-purpose programming language. Much of Python’s data-specific functionality comes from other packages, notably `numpy` and `pandas`. We'll see a lot but here is the starter:"
   ]
  },
  {
   "cell_type": "code",
   "execution_count": 1,
   "id": "7c135058",
   "metadata": {},
   "outputs": [
    {
     "data": {
      "text/plain": [
       "array([ 7, 13, 12])"
      ]
     },
     "execution_count": 1,
     "metadata": {},
     "output_type": "execute_result"
    }
   ],
   "source": [
    "import numpy as np\n",
    "x = np.array([3, 4, 5])\n",
    "y = np.array([4, 9, 7])\n",
    "x + y"
   ]
  },
  {
   "cell_type": "markdown",
   "id": "3bcfcd76",
   "metadata": {},
   "source": [
    "In `numpy`, matrices are typically represented as two-dimensional arrays, and vectors as one-dimensional arrays.  We'll see `numpy` later in Cahpter 9 more detail.  Let's start with simple examples without calling a library"
   ]
  },
  {
   "cell_type": "code",
   "execution_count": null,
   "id": "9fc28877-0086-44bc-9cf5-ea57148e3b79",
   "metadata": {},
   "outputs": [],
   "source": [
    "Create two variables named `a` and `b` so that they contain the following strings respectively: `23 to 0` and `C'est la piquette, Jack!`."
   ]
  },
  {
   "cell_type": "code",
   "execution_count": 1,
   "id": "0f9c527a",
   "metadata": {},
   "outputs": [],
   "source": [
    "a = \"23 to 0\"\n",
    "b = \"C'est la piquette, Jack!\""
   ]
  },
  {
   "cell_type": "code",
   "execution_count": 2,
   "id": "4399ddb3",
   "metadata": {
    "scrolled": true
   },
   "outputs": [
    {
     "name": "stdout",
     "output_type": "stream",
     "text": [
      "23 to 0\n",
      "C'est la piquette, Jack!\n"
     ]
    }
   ],
   "source": [
    "print(a)\n",
    "print(b)"
   ]
  },
  {
   "cell_type": "markdown",
   "id": "e0299254",
   "metadata": {},
   "source": [
    "Display the number of characters from a, then b."
   ]
  },
  {
   "cell_type": "code",
   "execution_count": 25,
   "id": "3456a26d",
   "metadata": {},
   "outputs": [
    {
     "name": "stdout",
     "output_type": "stream",
     "text": [
      "7\n",
      "24\n"
     ]
    }
   ],
   "source": [
    "print(len(a))\n",
    "print(len(b))"
   ]
  },
  {
   "cell_type": "markdown",
   "id": "c7516a16",
   "metadata": {},
   "source": [
    "Concatenate a and b in a single string, adding a comma as a separating character."
   ]
  },
  {
   "cell_type": "code",
   "execution_count": 29,
   "id": "687b5277",
   "metadata": {},
   "outputs": [
    {
     "name": "stdout",
     "output_type": "stream",
     "text": [
      "23 to 0, C'est la piquette, Jack!\n"
     ]
    }
   ],
   "source": [
    "print(a + \", \"+ b)"
   ]
  },
  {
   "cell_type": "markdown",
   "id": "22b72cbf",
   "metadata": {},
   "source": [
    "Same question by choosing a separation that allows a line break between the two sentences."
   ]
  },
  {
   "cell_type": "code",
   "execution_count": 32,
   "id": "dc9cf7aa",
   "metadata": {},
   "outputs": [
    {
     "name": "stdout",
     "output_type": "stream",
     "text": [
      "23 to 0\n",
      "C'est la piquette, Jack!\n"
     ]
    }
   ],
   "source": [
    "print(a + \"\\n\" + b)"
   ]
  },
  {
   "cell_type": "markdown",
   "id": "02a3924b",
   "metadata": {},
   "source": [
    "Using the appropriate method, capitalize a and b."
   ]
  },
  {
   "cell_type": "code",
   "execution_count": 42,
   "id": "849d6514",
   "metadata": {},
   "outputs": [
    {
     "name": "stdout",
     "output_type": "stream",
     "text": [
      "23 TO 0\n",
      "C'EST LA PIQUETTE, JACK!\n"
     ]
    }
   ],
   "source": [
    "a = a.upper()\n",
    "b = b.upper()\n",
    "print(a)\n",
    "print(b)"
   ]
  },
  {
   "cell_type": "markdown",
   "id": "eeeab126",
   "metadata": {},
   "source": [
    "Using the appropriate method, lowercase a and b."
   ]
  },
  {
   "cell_type": "code",
   "execution_count": 44,
   "id": "ec4326e0",
   "metadata": {},
   "outputs": [
    {
     "name": "stdout",
     "output_type": "stream",
     "text": [
      "23 to 0\n",
      "c'est la piquette, jack!\n"
     ]
    }
   ],
   "source": [
    "a = a.lower()\n",
    "b = b.lower()\n",
    "print(a)\n",
    "print(b)"
   ]
  },
  {
   "cell_type": "markdown",
   "id": "01841692",
   "metadata": {},
   "source": [
    "Extract the word la and Jack from the string b, using indexes."
   ]
  },
  {
   "cell_type": "code",
   "execution_count": 58,
   "id": "acf0d643",
   "metadata": {
    "scrolled": true
   },
   "outputs": [
    {
     "name": "stdout",
     "output_type": "stream",
     "text": [
      "la\n",
      "jack\n"
     ]
    }
   ],
   "source": [
    "#la\n",
    "ind = b.find(\"la\")\n",
    "l = len(\"la\")\n",
    "print(b[ind:ind + l])\n",
    "#Jack\n",
    "ind = b.find(\"jack\")\n",
    "l = len(\"jack\")\n",
    "print(b[ind:ind + l])"
   ]
  },
  {
   "cell_type": "markdown",
   "id": "3b2405ad",
   "metadata": {},
   "source": [
    "Look for the sub-chain piqu in b, then do the same with the sub-chain mauvais."
   ]
  },
  {
   "cell_type": "markdown",
   "id": "c7bb01a7",
   "metadata": {
    "jp-MarkdownHeadingCollapsed": true
   },
   "source": [
    "# Types of Data"
   ]
  },
  {
   "cell_type": "markdown",
   "id": "4bc722e7",
   "metadata": {},
   "source": [
    "`str()`, `int()`, `float()`, `date()`"
   ]
  },
  {
   "cell_type": "code",
   "execution_count": 63,
   "id": "b735f701",
   "metadata": {},
   "outputs": [
    {
     "name": "stdout",
     "output_type": "stream",
     "text": [
      "<class 'float'>\n",
      "1\n",
      "False\n"
     ]
    }
   ],
   "source": [
    "x = 1.5\n",
    "print(type(x))\n",
    "print(int(x))\n",
    "print(x == 1)"
   ]
  },
  {
   "cell_type": "markdown",
   "id": "bbed5d82",
   "metadata": {},
   "source": [
    "# Structures"
   ]
  },
  {
   "cell_type": "markdown",
   "id": "2ff29394",
   "metadata": {},
   "source": [
    "## Lists"
   ]
  },
  {
   "cell_type": "code",
   "execution_count": 64,
   "id": "85354613",
   "metadata": {},
   "outputs": [
    {
     "name": "stdout",
     "output_type": "stream",
     "text": [
      "['Pascaline', 'Gauthier', 'Xuan', 'Jimmy']\n"
     ]
    }
   ],
   "source": [
    "x = [\"Pascaline\", \"Gauthier\", \"Xuan\", \"Jimmy\"]\n",
    "print(x)"
   ]
  },
  {
   "cell_type": "code",
   "execution_count": 65,
   "id": "7c89ce8a",
   "metadata": {},
   "outputs": [
    {
     "name": "stdout",
     "output_type": "stream",
     "text": [
      "['Piketty', 'Thomas', 1971]\n"
     ]
    }
   ],
   "source": [
    "z = [\"Piketty\", \"Thomas\", 1971]\n",
    "print(z)"
   ]
  },
  {
   "cell_type": "code",
   "execution_count": 67,
   "id": "4a664651",
   "metadata": {},
   "outputs": [
    {
     "name": "stdout",
     "output_type": "stream",
     "text": [
      "Pascaline\n",
      "Jimmy\n"
     ]
    }
   ],
   "source": [
    "print(x[0]) # The first element of x\n",
    "print(x[-1]) # The last element of x"
   ]
  },
  {
   "cell_type": "code",
   "execution_count": 68,
   "id": "24c7ed78",
   "metadata": {},
   "outputs": [
    {
     "name": "stdout",
     "output_type": "stream",
     "text": [
      "['Gauthier']\n",
      "['Xuan', 'Jimmy']\n",
      "['Pascaline', 'Gauthier']\n"
     ]
    }
   ],
   "source": [
    "print(x[1:2]) # The first and second elements of x\n",
    "print(x[2:]) # From the second element (not included) to the end of x\n",
    "print(x[:-2]) # From the first to the penultimate (not included)"
   ]
  },
  {
   "cell_type": "code",
   "execution_count": 77,
   "id": "4f7ceb56",
   "metadata": {},
   "outputs": [
    {
     "name": "stdout",
     "output_type": "stream",
     "text": [
      "John\n"
     ]
    }
   ],
   "source": [
    "tweets = [\"aaa\", \"bbb\"]\n",
    "followers = [\"Anne\", \"Bob\", \"Irma\", \"John\"]\n",
    "conuts = [tweets, followers]\n",
    "res = conuts[1][3] # The 4th item of the 2nd item on the list counts\n",
    "print(res)"
   ]
  },
  {
   "cell_type": "code",
   "execution_count": 80,
   "id": "a49000ef",
   "metadata": {},
   "outputs": [
    {
     "name": "stdout",
     "output_type": "stream",
     "text": [
      "2\n",
      "4\n"
     ]
    }
   ],
   "source": [
    "print(len(conuts))\n",
    "print(len(conuts[1]))"
   ]
  },
  {
   "cell_type": "markdown",
   "id": "e0461945",
   "metadata": {},
   "source": [
    "### Modifications"
   ]
  },
  {
   "cell_type": "code",
   "execution_count": 81,
   "id": "b7224617",
   "metadata": {},
   "outputs": [
    {
     "name": "stdout",
     "output_type": "stream",
     "text": [
      "[1, 3, 5, 7, 9]\n"
     ]
    }
   ],
   "source": [
    "x = [1, 3, 5, 6, 9]\n",
    "x[3] = 7 # Replacing the 4th element\n",
    "print(x)"
   ]
  },
  {
   "cell_type": "code",
   "execution_count": 83,
   "id": "0533fce5",
   "metadata": {},
   "outputs": [
    {
     "name": "stdout",
     "output_type": "stream",
     "text": [
      "[1, 3, 5, 7, 9, 11, 11]\n",
      "[1, 3, 5, 7, 9, 11, 11, 13, 15]\n"
     ]
    }
   ],
   "source": [
    "x.append(11) # Add value 11 at the end of the list \n",
    "print(x)\n",
    "y = [13, 15]\n",
    "x.extend(y)\n",
    "print(x)"
   ]
  },
  {
   "cell_type": "code",
   "execution_count": 84,
   "id": "920c95a6",
   "metadata": {},
   "outputs": [
    {
     "name": "stdout",
     "output_type": "stream",
     "text": [
      "[1, 5, 7, 9, 11, 11, 13, 15]\n"
     ]
    }
   ],
   "source": [
    "x.remove(3) # Remove the fourth element\n",
    "print(x)\n",
    "x = [1, 3, 5, 6, 9]\n",
    "del x[3] # Remove the fourth element\n",
    "print(x)"
   ]
  },
  {
   "cell_type": "code",
   "execution_count": 85,
   "id": "02940e24",
   "metadata": {},
   "outputs": [
    {
     "name": "stdout",
     "output_type": "stream",
     "text": [
      "[1, 3, 5, 7, 9]\n"
     ]
    }
   ],
   "source": [
    "x = [1, 3, 5, 6, 10]\n",
    "x[3:5] = [7, 9] # Replaces 4th and 5th values\n",
    "print(x)"
   ]
  },
  {
   "cell_type": "code",
   "execution_count": 86,
   "id": "76e03cf8",
   "metadata": {},
   "outputs": [
    {
     "name": "stdout",
     "output_type": "stream",
     "text": [
      "[1, 2, 'a', 'b', 'c', 'd', 4, 5]\n"
     ]
    }
   ],
   "source": [
    "x = [1, 2, 3, 4, 5]\n",
    "x[2:3] = ['a', 'b', 'c', 'd'] # Replaces the 3rd value\n",
    "print(x)"
   ]
  },
  {
   "cell_type": "markdown",
   "id": "d3df18fb",
   "metadata": {},
   "source": [
    "Verifying if a Value is Present"
   ]
  },
  {
   "cell_type": "code",
   "execution_count": 87,
   "id": "36c9f481",
   "metadata": {},
   "outputs": [
    {
     "name": "stdout",
     "output_type": "stream",
     "text": [
      "True\n"
     ]
    }
   ],
   "source": [
    "x = [1, 2, 3, 4, 5]\n",
    "print(1 in x)"
   ]
  },
  {
   "cell_type": "markdown",
   "id": "1bc3f9f4",
   "metadata": {},
   "source": [
    "Be careful, copying a list is not trivial in Python. Let’s take an example."
   ]
  },
  {
   "cell_type": "code",
   "execution_count": 88,
   "id": "8c8d7262",
   "metadata": {},
   "outputs": [
    {
     "name": "stdout",
     "output_type": "stream",
     "text": [
      "[0, 2, 3]\n",
      "[0, 2, 3]\n"
     ]
    }
   ],
   "source": [
    "x = [1, 2, 3]\n",
    "y = x\n",
    "y[0] = 0\n",
    "print(y)\n",
    "print(x)"
   ]
  },
  {
   "cell_type": "markdown",
   "id": "f73dd29c",
   "metadata": {},
   "source": [
    "To copy a list, there are several ways to do so. Among them, the use of the list() function:"
   ]
  },
  {
   "cell_type": "code",
   "execution_count": 89,
   "id": "316100ba",
   "metadata": {},
   "outputs": [
    {
     "name": "stdout",
     "output_type": "stream",
     "text": [
      "x :  [1, 2, 3]\n",
      "y :  [0, 2, 3]\n"
     ]
    }
   ],
   "source": [
    "x = [1, 2, 3]\n",
    "y = list(x)\n",
    "y[0] = 0\n",
    "print(\"x : \", x)\n",
    "print(\"y : \", y)"
   ]
  },
  {
   "cell_type": "markdown",
   "id": "784e7ca9",
   "metadata": {},
   "source": [
    "It can be noted that when a splitting is done, a new object is created, not a reference:"
   ]
  },
  {
   "cell_type": "code",
   "execution_count": 90,
   "id": "9bdffe05",
   "metadata": {},
   "outputs": [
    {
     "name": "stdout",
     "output_type": "stream",
     "text": [
      "x :  [1, 2, 3, 4]\n",
      "y :  [0, 2]\n"
     ]
    }
   ],
   "source": [
    "x = [1, 2, 3, 4]\n",
    "y = x[:2]\n",
    "y[0] = 0\n",
    "print(\"x : \", x)\n",
    "print(\"y : \", y)"
   ]
  },
  {
   "cell_type": "markdown",
   "id": "4115ba86",
   "metadata": {},
   "source": [
    "### Sorting"
   ]
  },
  {
   "cell_type": "code",
   "execution_count": 1,
   "id": "6a667e59",
   "metadata": {},
   "outputs": [
    {
     "name": "stdout",
     "output_type": "stream",
     "text": [
      "[1, 2, 3, 4]\n"
     ]
    }
   ],
   "source": [
    "x = [2, 1, 4, 3]\n",
    "x.sort()\n",
    "print(x)"
   ]
  },
  {
   "cell_type": "markdown",
   "id": "210c203f",
   "metadata": {},
   "source": [
    "## Tuples\n",
    "The tuples are sequences of Python objects.\n",
    "To create a tuple, one lists the values, separated by commas\n",
    "Unlike lists, tuplets are inalterable (i.e. cannot be modified after they have been\n",
    "created)"
   ]
  },
  {
   "cell_type": "code",
   "execution_count": 92,
   "id": "28e27326",
   "metadata": {},
   "outputs": [
    {
     "name": "stdout",
     "output_type": "stream",
     "text": [
      "(1, 4, 9, 16, 25)\n"
     ]
    },
    {
     "ename": "TypeError",
     "evalue": "'tuple' object does not support item assignment",
     "output_type": "error",
     "traceback": [
      "\u001b[0;31m---------------------------------------------------------------------------\u001b[0m",
      "\u001b[0;31mTypeError\u001b[0m                                 Traceback (most recent call last)",
      "Cell \u001b[0;32mIn[92], line 3\u001b[0m\n\u001b[1;32m      1\u001b[0m x \u001b[38;5;241m=\u001b[39m \u001b[38;5;241m1\u001b[39m, \u001b[38;5;241m4\u001b[39m, \u001b[38;5;241m9\u001b[39m, \u001b[38;5;241m16\u001b[39m, \u001b[38;5;241m25\u001b[39m\n\u001b[1;32m      2\u001b[0m \u001b[38;5;28mprint\u001b[39m(x)\n\u001b[0;32m----> 3\u001b[0m x[\u001b[38;5;241m0\u001b[39m] \u001b[38;5;241m=\u001b[39m \u001b[38;5;241m1\u001b[39m\n",
      "\u001b[0;31mTypeError\u001b[0m: 'tuple' object does not support item assignment"
     ]
    }
   ],
   "source": [
    "x = 1, 4, 9, 16, 25\n",
    "print(x)\n",
    "x[0] = 1"
   ]
  },
  {
   "cell_type": "markdown",
   "id": "8a1e125a",
   "metadata": {},
   "source": [
    "## Sets\n",
    "Sets are unordered collections of unique elements. The sets are unalterable, not indexed.\n",
    "To create a set, Python provides the set() function. One or more elements constituting the set are provided, separated by commas and surrounded by braces. During the creation of a set, if there are duplicates in the values provided, these will be deleted to keep only one value"
   ]
  },
  {
   "cell_type": "code",
   "execution_count": 93,
   "id": "e1ad7cae",
   "metadata": {},
   "outputs": [
    {
     "name": "stdout",
     "output_type": "stream",
     "text": [
      "{'Nice', 'Marseille', 'Aix-en-Provence', 'Rennes'}\n"
     ]
    }
   ],
   "source": [
    "new_set = set({\"Marseille\", \"Aix-en-Provence\", \"Nice\", \"Rennes\"})\n",
    "print(new_set)"
   ]
  },
  {
   "cell_type": "markdown",
   "id": "7e38ef16",
   "metadata": {},
   "source": [
    "Equivalently, rather than using the set() function, the set can only be defined using the brackets:"
   ]
  },
  {
   "cell_type": "code",
   "execution_count": null,
   "id": "0423bb5b",
   "metadata": {},
   "outputs": [],
   "source": [
    "new_set = {\"Marseille\", \"Aix-en-Provence\", \"Nice\", \"Rennes\"}\n",
    "print(new_set)"
   ]
  },
  {
   "cell_type": "code",
   "execution_count": 94,
   "id": "4dc17eb1",
   "metadata": {},
   "outputs": [
    {
     "name": "stdout",
     "output_type": "stream",
     "text": [
      "{'Nice', 'Marseille', 'Rennes', 'Aix-en-Provence'}\n"
     ]
    }
   ],
   "source": [
    "new_set = set({\"Marseille\", \"Aix-en-Provence\", \"Nice\", \"Marseille\", \"Rennes\"})\n",
    "print(new_set)"
   ]
  },
  {
   "cell_type": "markdown",
   "id": "2cc0646a",
   "metadata": {},
   "source": [
    "If the element is already present, it will not be added:"
   ]
  },
  {
   "cell_type": "code",
   "execution_count": 95,
   "id": "f4934dd8",
   "metadata": {},
   "outputs": [
    {
     "name": "stdout",
     "output_type": "stream",
     "text": [
      "{'Nice', 'Marseille', 'Rennes', 'Aix-en-Provence'}\n"
     ]
    }
   ],
   "source": [
    "new_set.add(\"Rennes\")\n",
    "print(new_set)"
   ]
  },
  {
   "cell_type": "code",
   "execution_count": 96,
   "id": "175c8d26",
   "metadata": {},
   "outputs": [
    {
     "name": "stdout",
     "output_type": "stream",
     "text": [
      "{'Nice', 'Toulon', 'Aix-en-Provence', 'Marseille', 'Rennes'}\n"
     ]
    }
   ],
   "source": [
    "new_set.add(\"Toulon\")\n",
    "print(new_set)"
   ]
  },
  {
   "cell_type": "code",
   "execution_count": 97,
   "id": "a4142345",
   "metadata": {},
   "outputs": [
    {
     "name": "stdout",
     "output_type": "stream",
     "text": [
      "{'Nice', 'Aix-en-Provence', 'Marseille', 'Rennes'}\n"
     ]
    }
   ],
   "source": [
    "new_set.remove(\"Toulon\")\n",
    "print(new_set)"
   ]
  },
  {
   "cell_type": "code",
   "execution_count": 98,
   "id": "bc4e335f",
   "metadata": {},
   "outputs": [
    {
     "name": "stdout",
     "output_type": "stream",
     "text": [
      "True\n"
     ]
    }
   ],
   "source": [
    "print(\"Marseille\" in new_set)"
   ]
  },
  {
   "cell_type": "code",
   "execution_count": 99,
   "id": "667bea03",
   "metadata": {
    "scrolled": true
   },
   "outputs": [
    {
     "name": "stdout",
     "output_type": "stream",
     "text": [
      "y :  {'Nice', 'Toulon', 'Marseille', 'Aix-en-Provence'}\n"
     ]
    }
   ],
   "source": [
    "new_set = set({\"Marseille\", \"Aix-en-Provence\", \"Nice\"})\n",
    "y = new_set.copy()\n",
    "y.add(\"Toulon\")\n",
    "print(\"y : \", y)"
   ]
  },
  {
   "cell_type": "markdown",
   "id": "f68a2d3b",
   "metadata": {},
   "source": [
    "#### Conversion to a List\n",
    "One of the interests of sets is that they contain unique elements. Also, when you want to obtain the distinct elements of a list, it is possible to convert it into a set (with the set() function), then to convert the set into a list (with the list() function):"
   ]
  },
  {
   "cell_type": "code",
   "execution_count": 102,
   "id": "6f587a97",
   "metadata": {},
   "outputs": [
    {
     "name": "stdout",
     "output_type": "stream",
     "text": [
      "['Marseille', 'Aix-en-Provence', 'Marseille', 'Marseille']\n"
     ]
    }
   ],
   "source": [
    "my_list = [\"Marseille\", \"Aix-en-Provence\", \"Marseille\", \"Marseille\"]\n",
    "print(my_list)"
   ]
  },
  {
   "cell_type": "code",
   "execution_count": 103,
   "id": "6818e5cb",
   "metadata": {},
   "outputs": [
    {
     "name": "stdout",
     "output_type": "stream",
     "text": [
      "{'Marseille', 'Aix-en-Provence'}\n"
     ]
    }
   ],
   "source": [
    "my_set = set(my_list)\n",
    "print(my_set)"
   ]
  },
  {
   "cell_type": "code",
   "execution_count": 104,
   "id": "5f28c824",
   "metadata": {},
   "outputs": [
    {
     "name": "stdout",
     "output_type": "stream",
     "text": [
      "['Marseille', 'Aix-en-Provence']\n"
     ]
    }
   ],
   "source": [
    "my_new_list = list(my_set)\n",
    "print(my_new_list)"
   ]
  },
  {
   "cell_type": "markdown",
   "id": "2451b106",
   "metadata": {},
   "source": [
    "## Dictionaries\n",
    "Python dictionaries are an implementation of key-value objects, the keys being indexed.\n",
    "Keys are often text, values can be of different types and structures.\n",
    "To create a dictionary, you can proceed by using braces ({})."
   ]
  },
  {
   "cell_type": "code",
   "execution_count": 106,
   "id": "6172401d",
   "metadata": {},
   "outputs": [
    {
     "name": "stdout",
     "output_type": "stream",
     "text": [
      "{'nom': 'Kyrie', 'prenom': 'John', 'naissance': 1992, 'equipes': ['Cleveland', 'Boston']}\n",
      "John\n",
      "False\n"
     ]
    }
   ],
   "source": [
    "my_dict = { \"nom\": \"Kyrie\",\n",
    "\"prenom\": \"John\",\n",
    "\"naissance\": 1992,\n",
    "\"equipes\": [\"Cleveland\", \"Boston\"]}\n",
    "print(my_dict)\n",
    "print(my_dict[\"prenom\"])\n",
    "print(\"age\" in my_dict)"
   ]
  },
  {
   "cell_type": "code",
   "execution_count": 108,
   "id": "65d05af8",
   "metadata": {},
   "outputs": [
    {
     "name": "stdout",
     "output_type": "stream",
     "text": [
      "dict_keys(['nom', 'prenom', 'naissance', 'equipes'])\n",
      "['nom', 'prenom', 'naissance', 'equipes']\n"
     ]
    }
   ],
   "source": [
    "the_keys = my_dict.keys()\n",
    "print(the_keys)\n",
    "the_keys_list = list(the_keys)\n",
    "print(the_keys_list)"
   ]
  },
  {
   "cell_type": "code",
   "execution_count": 109,
   "id": "45a2fe70",
   "metadata": {},
   "outputs": [
    {
     "name": "stdout",
     "output_type": "stream",
     "text": [
      "dict_values(['Kyrie', 'John', 1992, ['Cleveland', 'Boston']])\n"
     ]
    }
   ],
   "source": [
    "the_values = my_dict.values()\n",
    "print(the_values)"
   ]
  },
  {
   "cell_type": "markdown",
   "id": "bcf9b3f5",
   "metadata": {},
   "source": [
    "# Operators"
   ]
  },
  {
   "cell_type": "markdown",
   "id": "4431cf04",
   "metadata": {},
   "source": [
    "To raise a number to a given power, we use two stars (**)\n",
    "the inclusion tests are performed using the operator in."
   ]
  },
  {
   "cell_type": "code",
   "execution_count": 110,
   "id": "12ce9f07",
   "metadata": {
    "scrolled": true
   },
   "outputs": [
    {
     "name": "stdout",
     "output_type": "stream",
     "text": [
      "True\n",
      "True\n"
     ]
    },
    {
     "data": {
      "text/plain": [
       "True"
      ]
     },
     "execution_count": 110,
     "metadata": {},
     "output_type": "execute_result"
    }
   ],
   "source": [
    "print(3 in [1,2, 3])\n",
    "print(4 not in [1,2, 3])\n",
    "dictionnaire = {\"nom\": \"Rockwell\", \"prenom\": \"Criquette\"}\n",
    "\"age\" not in dictionnaire.keys()"
   ]
  },
  {
   "cell_type": "markdown",
   "id": "01fdfade",
   "metadata": {},
   "source": [
    "And, Or"
   ]
  },
  {
   "cell_type": "code",
   "execution_count": 111,
   "id": "cbbbdbee",
   "metadata": {},
   "outputs": [
    {
     "name": "stdout",
     "output_type": "stream",
     "text": [
      "False\n",
      "True\n"
     ]
    }
   ],
   "source": [
    "x = True\n",
    "y = False\n",
    "print(x and y)\n",
    "\n",
    "x = True\n",
    "y = True \n",
    "print(x and y)"
   ]
  },
  {
   "cell_type": "markdown",
   "id": "d5606556",
   "metadata": {},
   "source": [
    "Look lsit of math and stat functions "
   ]
  },
  {
   "cell_type": "markdown",
   "id": "60a4e43c",
   "metadata": {},
   "source": [
    "# Loading and Saving Data\n",
    "When we launch Jupyter Notebook, a tree structure is displayed, and we navigate inside it to create or open a notebook. The directory containing the notebook is the current directory. When Python is told to import data (or export objects), the origin (or destination) will be indicated relatively in the current directory, unless absolute paths (i.e., a path from the root /) are used.  \n",
    "\n",
    "If a Python program is started from a terminal, the current directory is the directory in which the terminal is located at the time the program is started.  "
   ]
  },
  {
   "cell_type": "code",
   "execution_count": 114,
   "id": "ab957c7c",
   "metadata": {},
   "outputs": [
    {
     "name": "stdout",
     "output_type": "stream",
     "text": [
      "/Users/yigitaydede/Library/CloudStorage/Dropbox/Python\n"
     ]
    },
    {
     "data": {
      "text/plain": [
       "['PythR.Rmd',\n",
       " 'try.py',\n",
       " '.Rhistory',\n",
       " 'Untitled.ipynb',\n",
       " 'PythR_v2.pdf',\n",
       " 'PythR_v2.Rmd',\n",
       " 'PythR.html',\n",
       " 'StatisticsMachineLearningPython.pdf',\n",
       " '.ipynb_checkpoints',\n",
       " 'flights.csv']"
      ]
     },
     "execution_count": 114,
     "metadata": {},
     "output_type": "execute_result"
    }
   ],
   "source": [
    "import os\n",
    "cwd = os.getcwd()\n",
    "print(cwd)\n",
    "os.listdir()"
   ]
  },
  {
   "cell_type": "code",
   "execution_count": 118,
   "id": "b7b336f1",
   "metadata": {
    "scrolled": true
   },
   "outputs": [
    {
     "name": "stderr",
     "output_type": "stream",
     "text": [
      "IOPub data rate exceeded.\n",
      "The notebook server will temporarily stop sending output\n",
      "to the client in order to avoid crashing it.\n",
      "To change this limit, set the config variable\n",
      "`--NotebookApp.iopub_data_rate_limit`.\n",
      "\n",
      "Current values:\n",
      "NotebookApp.iopub_data_rate_limit=1000000.0 (bytes/sec)\n",
      "NotebookApp.rate_limit_window=3.0 (secs)\n",
      "\n"
     ]
    }
   ],
   "source": [
    "path = \"flights.csv\"\n",
    "my_file = open(path, mode = \"r\")\n",
    "print(my_file.read())"
   ]
  },
  {
   "cell_type": "markdown",
   "id": "d61e3dac",
   "metadata": {},
   "source": [
    "It is important to remember to close the file once we have finished using it. To do this, we use the close() method."
   ]
  },
  {
   "cell_type": "code",
   "execution_count": 119,
   "id": "4958415b",
   "metadata": {},
   "outputs": [],
   "source": [
    "my_file.close()"
   ]
  },
  {
   "cell_type": "markdown",
   "id": "3da78f3d",
   "metadata": {},
   "source": [
    "A common practice in Python is to open a file in a with block. The reason for this choice is that a file opened in such a block is automatically closed at the end of the block."
   ]
  },
  {
   "cell_type": "code",
   "execution_count": 120,
   "id": "553aed16",
   "metadata": {},
   "outputs": [
    {
     "name": "stdout",
     "output_type": "stream",
     "text": [
      "YEAR,MONTH,DAY,DAY_OF_WEEK,AIRLINE,FLIGHT_NUMBER,TAIL_NUMBER,ORIGIN_AIRPORT,DESTINATION_AIRPORT,SCHEDULED_DEPARTURE,DEPARTURE_TIME,DEPARTURE_DELAY,TAXI_OUT,WHEELS_OFF,SCHEDULED_TIME,ELAPSED_TIME,AIR_TIME,DISTANCE,WHEELS_ON,TAXI_IN,SCHEDULED_ARRIVAL,ARRIVAL_TIME,ARRIVAL_DELAY,DIVERTED,CANCELLED,CANCELLATION_REASON,AIR_SYSTEM_DELAY,SECURITY_DELAY,AIRLINE_DELAY,LATE_AIRCRAFT_DELAY,WEATHER_DELAY\n",
      "2015,1,1,4,AS,98,N407AS,ANC,SEA,0005,2354,-11,21,0015,205,194,169,1448,0404,4,0430,0408,-22,0,0,,,,,,\n",
      "2015,1,1,4,AA,2336,N3KUAA,LAX,PBI,0010,0002,-8,12,0014,280,279,263,2330,0737,4,0750,0741,-9,0,0,,,,,,\n",
      "2015,1,1,4,US,840,N171US,SFO,CLT,0020,0018,-2,16,0034,286,293,266,2296,0800,11,0806,0811,5,0,0,,,,,,\n",
      "2015,1,1,4,AA,258,N3HYAA,LAX,MIA,0020,0015,-5,15,0030,285,281,258,2342,0748,8,0805,0756,-9,0,0,,,,,,\n"
     ]
    }
   ],
   "source": [
    "path = \"flights.csv\"\n",
    "num_lines = 5  # Number of lines you want to print (similar to head in R)\n",
    "\n",
    "with open(path, mode=\"r\") as my_file:\n",
    "    for i in range(num_lines):\n",
    "        line = my_file.readline()\n",
    "        print(line.strip())  # strip() removes trailing newlines or spaces"
   ]
  },
  {
   "cell_type": "markdown",
   "id": "0121c12c",
   "metadata": {},
   "source": [
    "In this code:\n",
    "  \n",
    "- `open(path, mode=\"r\")` opens the file in read mode. \n",
    "- `with` is used for context management. It handles opening and closing the file properly, even if an error occurs. \n",
    "- `readline()` reads one line from the file each time it is called. \n",
    "- The `for` loop runs `num_lines` times (5 in this case), each time printing a line from the file.\n",
    "- `line.strip()` is used to remove any extra newline characters or spaces at the end of each line for cleaner output.\n",
    "\n",
    "This code will print the first 5 lines of the file \"flights.csv\". You can adjust num_lines to print as many lines as you need."
   ]
  },
  {
   "cell_type": "markdown",
   "id": "20c27206",
   "metadata": {},
   "source": [
    "In Python, the most common way to import a CSV file as a DataFrame (which is similar to a data.frame in R) is to use the `pandas` library. Pandas is a powerful data manipulation and analysis tool, and it provides a DataFrame object that is quite similar to R's data.frame."
   ]
  },
  {
   "cell_type": "markdown",
   "id": "9ea4c814",
   "metadata": {},
   "source": [
    "Main Values for How to Open Files.\n",
    "r: Opening to read (default), w:Opening to write, x:Opening to create a document, fails if the file already exists, a: Opening to write, adding at the end of the file if it already exists, +: Opening for update (read and write) To be added to an opening mode for binary files (rb or wb), t:Text mode (automatic decoding of bytes in Unicode). Default if not specified (adds to the mode, like b)"
   ]
  },
  {
   "cell_type": "code",
   "execution_count": 121,
   "id": "3d57e8de",
   "metadata": {
    "scrolled": true
   },
   "outputs": [
    {
     "name": "stderr",
     "output_type": "stream",
     "text": [
      "/var/folders/wt/4xtk6v051vd349k3wktfld480000gn/T/ipykernel_14181/1726951512.py:4: DtypeWarning: Columns (7,8) have mixed types. Specify dtype option on import or set low_memory=False.\n",
      "  df = pd.read_csv(path)\n"
     ]
    }
   ],
   "source": [
    "import pandas as pd\n",
    "\n",
    "path = \"flights.csv\"\n",
    "df = pd.read_csv(path)\n",
    "\n",
    "# Now you can work with the DataFrame 'df' just like a data.frame in R"
   ]
  },
  {
   "cell_type": "markdown",
   "id": "c31a7124",
   "metadata": {},
   "source": [
    "The warning you're encountering, `DtypeWarning: Columns (7,8) have mixed types. Specify dtype option on import or set low_memory=False`, is raised by pandas when it detects columns in your CSV file that have mixed data types. This can happen if, for example, a column contains both numbers and strings.\n",
    "\n",
    "If you're okay with pandas inferring the data types, and the mixed types don't pose a problem for your analysis, you can choose to ignore this warning. After loading the data, if you find that certain columns need to be a different data type, you can convert them using the `astype()` method."
   ]
  },
  {
   "cell_type": "code",
   "execution_count": 122,
   "id": "a645ac31",
   "metadata": {},
   "outputs": [
    {
     "name": "stdout",
     "output_type": "stream",
     "text": [
      "   YEAR  MONTH  DAY  DAY_OF_WEEK AIRLINE  FLIGHT_NUMBER TAIL_NUMBER  \\\n",
      "0  2015      1    1            4      AS             98      N407AS   \n",
      "1  2015      1    1            4      AA           2336      N3KUAA   \n",
      "2  2015      1    1            4      US            840      N171US   \n",
      "3  2015      1    1            4      AA            258      N3HYAA   \n",
      "4  2015      1    1            4      AS            135      N527AS   \n",
      "\n",
      "  ORIGIN_AIRPORT DESTINATION_AIRPORT  SCHEDULED_DEPARTURE  ...  ARRIVAL_TIME  \\\n",
      "0            ANC                 SEA                    5  ...         408.0   \n",
      "1            LAX                 PBI                   10  ...         741.0   \n",
      "2            SFO                 CLT                   20  ...         811.0   \n",
      "3            LAX                 MIA                   20  ...         756.0   \n",
      "4            SEA                 ANC                   25  ...         259.0   \n",
      "\n",
      "   ARRIVAL_DELAY  DIVERTED  CANCELLED  CANCELLATION_REASON  AIR_SYSTEM_DELAY  \\\n",
      "0          -22.0         0          0                  NaN               NaN   \n",
      "1           -9.0         0          0                  NaN               NaN   \n",
      "2            5.0         0          0                  NaN               NaN   \n",
      "3           -9.0         0          0                  NaN               NaN   \n",
      "4          -21.0         0          0                  NaN               NaN   \n",
      "\n",
      "   SECURITY_DELAY  AIRLINE_DELAY  LATE_AIRCRAFT_DELAY  WEATHER_DELAY  \n",
      "0             NaN            NaN                  NaN            NaN  \n",
      "1             NaN            NaN                  NaN            NaN  \n",
      "2             NaN            NaN                  NaN            NaN  \n",
      "3             NaN            NaN                  NaN            NaN  \n",
      "4             NaN            NaN                  NaN            NaN  \n",
      "\n",
      "[5 rows x 31 columns]\n"
     ]
    }
   ],
   "source": [
    "print(df.head())"
   ]
  },
  {
   "cell_type": "markdown",
   "id": "7e01dd01",
   "metadata": {},
   "source": [
    "When using `pandas.read_csv()` to read a CSV file in Python, you don't need to specify a file mode like 'r' for read or 'w' for write, as you would when using Python's built-in `open()` function. The `read_csv()` function from pandas is specifically designed for reading CSV files, and it handles the file opening and reading internally. It always opens the file in the appropriate mode for reading."
   ]
  },
  {
   "cell_type": "markdown",
   "id": "73db2236",
   "metadata": {},
   "source": [
    "#### Import from the Internet\n",
    "To import a text file from the Internet, methods from the urllib library can be used:"
   ]
  },
  {
   "cell_type": "code",
   "execution_count": 125,
   "id": "1572960c",
   "metadata": {},
   "outputs": [
    {
     "name": "stdout",
     "output_type": "stream",
     "text": [
      "b\"Bonjour, je suis un fichier au format txt.\\nJe contiens plusieurs lignes, l'id\\xc3\\xa9e \\xc3\\xa9tant de montrer comment fonctionne l'importation d'un tel fichier dans Python.\\nTrois lignes devraient suffir.\"\n"
     ]
    }
   ],
   "source": [
    "import urllib\n",
    "from urllib.request import urlopen\n",
    "url = \"http://egallic.fr/Enseignement/Python/fichiers_exemples/fichier_texte.txt\" \n",
    "with urllib.request.urlopen(url) as my_file:\n",
    "    data = my_file.read()\n",
    "print(data)"
   ]
  },
  {
   "cell_type": "code",
   "execution_count": 126,
   "id": "985e12b8",
   "metadata": {},
   "outputs": [
    {
     "name": "stdout",
     "output_type": "stream",
     "text": [
      "Bonjour, je suis un fichier au format txt.\n",
      "Je contiens plusieurs lignes, l'idée étant de montrer comment fonctionne l'importation d'un tel fichier dans Python.\n",
      "Trois lignes devraient suffir.\n"
     ]
    }
   ],
   "source": [
    "print(data.decode())"
   ]
  },
  {
   "cell_type": "markdown",
   "id": "7a422ad2",
   "metadata": {},
   "source": [
    "#### CSV\n",
    "Many databases export their data to CSV (e.g., World Bank, FAO, Eurostat, etc.). To import them into Python, you can use the csv module.  Again, we use the `open()` function, with the parameters described earlier"
   ]
  },
  {
   "cell_type": "code",
   "execution_count": 129,
   "id": "b2d87578",
   "metadata": {},
   "outputs": [
    {
     "name": "stdout",
     "output_type": "stream",
     "text": [
      "['YEAR', 'MONTH', 'DAY', 'DAY_OF_WEEK', 'AIRLINE', 'FLIGHT_NUMBER', 'TAIL_NUMBER', 'ORIGIN_AIRPORT', 'DESTINATION_AIRPORT', 'SCHEDULED_DEPARTURE', 'DEPARTURE_TIME', 'DEPARTURE_DELAY', 'TAXI_OUT', 'WHEELS_OFF', 'SCHEDULED_TIME', 'ELAPSED_TIME', 'AIR_TIME', 'DISTANCE', 'WHEELS_ON', 'TAXI_IN', 'SCHEDULED_ARRIVAL', 'ARRIVAL_TIME', 'ARRIVAL_DELAY', 'DIVERTED', 'CANCELLED', 'CANCELLATION_REASON', 'AIR_SYSTEM_DELAY', 'SECURITY_DELAY', 'AIRLINE_DELAY', 'LATE_AIRCRAFT_DELAY', 'WEATHER_DELAY']\n",
      "['2015', '1', '1', '4', 'AS', '98', 'N407AS', 'ANC', 'SEA', '0005', '2354', '-11', '21', '0015', '205', '194', '169', '1448', '0404', '4', '0430', '0408', '-22', '0', '0', '', '', '', '', '', '']\n",
      "['2015', '1', '1', '4', 'AA', '2336', 'N3KUAA', 'LAX', 'PBI', '0010', '0002', '-8', '12', '0014', '280', '279', '263', '2330', '0737', '4', '0750', '0741', '-9', '0', '0', '', '', '', '', '', '']\n",
      "['2015', '1', '1', '4', 'US', '840', 'N171US', 'SFO', 'CLT', '0020', '0018', '-2', '16', '0034', '286', '293', '266', '2296', '0800', '11', '0806', '0811', '5', '0', '0', '', '', '', '', '', '']\n",
      "['2015', '1', '1', '4', 'AA', '258', 'N3HYAA', 'LAX', 'MIA', '0020', '0015', '-5', '15', '0030', '285', '281', '258', '2342', '0748', '8', '0805', '0756', '-9', '0', '0', '', '', '', '', '', '']\n"
     ]
    }
   ],
   "source": [
    "import csv\n",
    "path = \"flights.csv\" \n",
    "with open(path) as my_file:\n",
    "    my_file_reader = csv.reader(my_file, delimiter=',', quotechar='\"')\n",
    "    data = [x for x in my_file_reader]\n",
    "\n",
    "# Print the first five observations\n",
    "for row in data[:5]:\n",
    "    print(row)"
   ]
  },
  {
   "cell_type": "markdown",
   "id": "0f4da512",
   "metadata": {},
   "source": [
    "The two code snippets illustrate two different methods of reading a CSV file in Python: one using the built-in csv module (just above) and the other using the `pandas` library. Both methods achieve the same basic goal — reading data from a CSV file — but they have some key differences in terms of ease of use, functionality, and the data structure they return. `pandas.read_csv` returns a DataFrame, a powerful data structure that provides a lot of functionalities for data manipulation and analysis."
   ]
  },
  {
   "cell_type": "markdown",
   "id": "8b0c2348",
   "metadata": {},
   "source": [
    "#### Excel Files\n",
    "We can use the pandas library to read Excel files in Python. Pandas provides the `read_excel()` function, which is specifically designed for this purpose. This function can handle various Excel formats such as .xlsx, .xlsm, .xlsb, and .xls. However, to read Excel files, we need to have the `openpyxl` (for .xlsx files) or xlrd (for older .xls files) packages installed. You can install these packages via pip:\n",
    "\n",
    "`pip install openpyxl` and `pip install xlrd`"
   ]
  },
  {
   "cell_type": "code",
   "execution_count": 136,
   "id": "b31c7fed",
   "metadata": {},
   "outputs": [
    {
     "name": "stdout",
     "output_type": "stream",
     "text": [
      "                          NAME         ID    50  /100  50.1  /100.1    40  \\\n",
      "0  Alimohammadi Sagvand, Sanaz  A00422960  49.0    98  47.0      94  31.0   \n",
      "1                  Biao, Yanan  A00429012  48.5    97  48.0      96  38.0   \n",
      "2                    Cai, Ying  A00431323  49.5    99  49.5      99  28.5   \n",
      "3                 Cao, Hanmeng  A00406435  50.0   100  49.0      98  34.5   \n",
      "4                   Cao, Hanyu  A00398061  46.0    92  47.0      94  39.0   \n",
      "\n",
      "   /100.2    60     /100.3  A25MT30F45  A25F75 Letter Mark  \n",
      "0   77.50  46.0  76.666667      81.750  81.500          A-  \n",
      "1   95.00  57.0  95.000000      95.375  95.375          A+  \n",
      "2   71.25  46.0  76.666667      80.625  82.250          A-  \n",
      "3   86.25  59.5  99.166667      95.250  99.125          A+  \n",
      "4   97.50  58.0  96.666667      96.000  95.750          A+  \n"
     ]
    }
   ],
   "source": [
    "df2 = pd.read_excel(\"660218A.xlsx\", header = 0)\n",
    "print(df2.head())"
   ]
  },
  {
   "cell_type": "markdown",
   "id": "62877cee",
   "metadata": {},
   "source": [
    "#### Exporting\n",
    "In Python, especially in data science and analytics, the most common file types for saving work depend on the nature of the work and the requirements for data storage, sharing, and interoperability. Here are some of the most commonly used file types:\n",
    "\n",
    "1. CSV (Comma-Separated Values): Widely used for storing tabular data. Easy to read and write, and can be opened by most spreadsheet programs like Microsoft Excel, Google Sheets, etc. Ideal for relatively simple datasets without complex structures.\n",
    "2. Excel Files (.xlsx or .xls): Commonly used when sharing data with non-technical stakeholders or when additional formatting and data organization (like multiple sheets) are required.\n",
    "3. Pickle Files (.pkl): Python-specific binary format. Used for saving Python objects, including DataFrames, preserving their data types and index structures. Not human-readable and not suitable for sharing data across different programming environments.\n",
    "4. JSON (JavaScript Object Notation): Useful for storing data in a structured, hierarchical format. Human-readable and commonly used for web data and API interactions. Good for data that fits well into a nested, key-value structure.\n",
    "5. Parquet and Feather Formats: Efficient, columnar storage formats. Ideal for large datasets, and used in big data processing and analytics. Feather is particularly useful for data interchange between Python and R.\n",
    "6. HDF5 (Hierarchical Data Format version 5): Suitable for storing large quantities of scientific data. Supports data compression and can handle complex data structures.\n",
    "7. SQL Databases: For projects involving relational databases, saving data directly to SQL databases (like SQLite, MySQL, PostgreSQL) is common. Useful for structured data that needs to be queried or joined with other data in a database.\n",
    "8. Python Scripts (.py) and Jupyter Notebooks (.ipynb): For saving code, analysis, and documentation. Jupyter Notebooks are particularly popular for exploratory data analysis, as they allow you to combine code, text, and visualizations.\n",
    "\n",
    "Saving your DataFrame `data` (or `df2`) as a CSV file using pandas is straightforward. You can use the `to_csv` method provided by pandas. Here's how you can do it with chuncks (when you have large data, like `data`):"
   ]
  },
  {
   "cell_type": "code",
   "execution_count": 143,
   "id": "3a986a65",
   "metadata": {},
   "outputs": [
    {
     "name": "stdout",
     "output_type": "stream",
     "text": [
      "5819079\n"
     ]
    }
   ],
   "source": [
    "print(len(df))"
   ]
  },
  {
   "cell_type": "code",
   "execution_count": 141,
   "id": "7936589b",
   "metadata": {},
   "outputs": [],
   "source": [
    "chunk_size = 500000  # Size of each chunk - this is just an example\n",
    "for i in range(0, len(data), chunk_size):\n",
    "    df[i:i+chunk_size].to_csv(f'data_{i}.csv', index=False)"
   ]
  },
  {
   "cell_type": "markdown",
   "id": "2c0b2118",
   "metadata": {},
   "source": [
    "When working with data that's been split into multiple files or batches due to its size, and you need to perform search operations or apply conditions to select specific observations, you typically need to run the search or filter algorithm on each batch. Here's a general approach to how this can be done:\n",
    "\n",
    "1. **Iterate Through Each Chunk:** Loop through each file (chunk) and perform the necessary search or filtering operation on each one. This can be done by loading each chunk into a pandas DataFrame, applying your conditions to filter or search the data, and then either processing the data immediately or storing the results for further use.\n",
    "2. **Store or Aggregate Results:** As you process each chunk, you can either: Store the filtered/selected data from each chunk into a new file or a database for later use. Aggregate or summarize the data in memory, if feasible. \n",
    "3. **Combine Results if Necessary:** After processing all chunks, you might end up with multiple smaller datasets (each representing the filtered data from one chunk). These can be combined, if necessary and if memory allows, or can be left as separate files for further processing."
   ]
  },
  {
   "cell_type": "code",
   "execution_count": 144,
   "id": "1357087f",
   "metadata": {
    "scrolled": true
   },
   "outputs": [
    {
     "name": "stderr",
     "output_type": "stream",
     "text": [
      "/var/folders/wt/4xtk6v051vd349k3wktfld480000gn/T/ipykernel_14181/51342753.py:12: DtypeWarning: Columns (7,8) have mixed types. Specify dtype option on import or set low_memory=False.\n",
      "  chunk = pd.read_csv(filename)\n",
      "/var/folders/wt/4xtk6v051vd349k3wktfld480000gn/T/ipykernel_14181/51342753.py:12: DtypeWarning: Columns (7,8) have mixed types. Specify dtype option on import or set low_memory=False.\n",
      "  chunk = pd.read_csv(filename)\n"
     ]
    }
   ],
   "source": [
    "import glob\n",
    "\n",
    "# Condition/filter function\n",
    "def filter_data(df):\n",
    "    return df[df['DESTINATION_AIRPORT'] == \"MIA\"]\n",
    "\n",
    "# List to hold the filtered data from each chunk\n",
    "filtered_data = []\n",
    "\n",
    "# Iterate through each chunk\n",
    "for filename in glob.glob('data_*.csv'):\n",
    "    chunk = pd.read_csv(filename)\n",
    "    filtered_chunk = filter_data(chunk)\n",
    "    filtered_data.append(filtered_chunk)\n",
    "\n",
    "# Combine all filtered data into one DataFrame\n",
    "final_data = pd.concat(filtered_data)\n"
   ]
  },
  {
   "cell_type": "code",
   "execution_count": 145,
   "id": "25fa26e8",
   "metadata": {},
   "outputs": [
    {
     "name": "stdout",
     "output_type": "stream",
     "text": [
      "     YEAR  MONTH  DAY  DAY_OF_WEEK AIRLINE  FLIGHT_NUMBER TAIL_NUMBER  \\\n",
      "305  2015      6    7            7      AA           1324      N3DRAA   \n",
      "417  2015      6    7            7      AA            349      N016AA   \n",
      "481  2015      6    7            7      UA           1615      N17229   \n",
      "730  2015      6    7            7      AA           2471      N3GDAA   \n",
      "834  2015      6    7            7      AA            919      N004AA   \n",
      "\n",
      "    ORIGIN_AIRPORT DESTINATION_AIRPORT  SCHEDULED_DEPARTURE  ...  \\\n",
      "305            LGA                 MIA                 2100  ...   \n",
      "417            ATL                 MIA                 2110  ...   \n",
      "481            EWR                 MIA                 2115  ...   \n",
      "730            LAX                 MIA                 2145  ...   \n",
      "834            TPA                 MIA                 2155  ...   \n",
      "\n",
      "     ARRIVAL_TIME  ARRIVAL_DELAY  DIVERTED  CANCELLED  CANCELLATION_REASON  \\\n",
      "305        2357.0          -20.0         0          0                  NaN   \n",
      "417        2348.0           39.0         0          0                  NaN   \n",
      "481          13.0          -17.0         0          0                  NaN   \n",
      "730         604.0           12.0         0          0                  NaN   \n",
      "834        2238.0          -22.0         0          0                  NaN   \n",
      "\n",
      "     AIR_SYSTEM_DELAY  SECURITY_DELAY  AIRLINE_DELAY  LATE_AIRCRAFT_DELAY  \\\n",
      "305               NaN             NaN            NaN                  NaN   \n",
      "417               0.0             0.0           39.0                  0.0   \n",
      "481               NaN             NaN            NaN                  NaN   \n",
      "730               NaN             NaN            NaN                  NaN   \n",
      "834               NaN             NaN            NaN                  NaN   \n",
      "\n",
      "     WEATHER_DELAY  \n",
      "305            NaN  \n",
      "417            0.0  \n",
      "481            NaN  \n",
      "730            NaN  \n",
      "834            NaN  \n",
      "\n",
      "[5 rows x 31 columns]\n"
     ]
    }
   ],
   "source": [
    "print(final_data.head())"
   ]
  },
  {
   "cell_type": "markdown",
   "id": "7254d66c",
   "metadata": {},
   "source": [
    "If you want to add an additional condition to your filtering process, you can modify the filter_data function to include this new condition. In addition to filtering rows where `DESTINATION_AIRPORT` is \"MIA\", you also want to filter based on another condition, such as 'ORIGIN_AIRPORT' being \"LAX\". You can use the logical AND operator (`&`) to combine these conditions in `pandas`.  "
   ]
  },
  {
   "cell_type": "code",
   "execution_count": 148,
   "id": "501888e3",
   "metadata": {},
   "outputs": [
    {
     "name": "stdout",
     "output_type": "stream",
     "text": [
      "      YEAR  MONTH  DAY  DAY_OF_WEEK AIRLINE  FLIGHT_NUMBER TAIL_NUMBER  \\\n",
      "730   2015      6    7            7      AA           2471      N3GDAA   \n",
      "1166  2015      6    7            7      DL           1168       N3766   \n",
      "1498  2015      6    7            7      AA           1538      N3KHAA   \n",
      "1539  2015      6    8            1      AA            260      N3HMAA   \n",
      "4126  2015      6    8            1      AA             68      N5EAAA   \n",
      "\n",
      "     ORIGIN_AIRPORT DESTINATION_AIRPORT  SCHEDULED_DEPARTURE  ...  \\\n",
      "730             LAX                 MIA                 2145  ...   \n",
      "1166            LAX                 MIA                 2220  ...   \n",
      "1498            LAX                 MIA                 2355  ...   \n",
      "1539            LAX                 MIA                   10  ...   \n",
      "4126            LAX                 MIA                  735  ...   \n",
      "\n",
      "      ARRIVAL_TIME  ARRIVAL_DELAY  DIVERTED  CANCELLED  CANCELLATION_REASON  \\\n",
      "730          604.0           12.0         0          0                  NaN   \n",
      "1166         621.0           -3.0         0          0                  NaN   \n",
      "1498         742.0          -19.0         0          0                  NaN   \n",
      "1539         803.0          -19.0         0          0                  NaN   \n",
      "4126        1519.0          -32.0         0          0                  NaN   \n",
      "\n",
      "      AIR_SYSTEM_DELAY  SECURITY_DELAY  AIRLINE_DELAY  LATE_AIRCRAFT_DELAY  \\\n",
      "730                NaN             NaN            NaN                  NaN   \n",
      "1166               NaN             NaN            NaN                  NaN   \n",
      "1498               NaN             NaN            NaN                  NaN   \n",
      "1539               NaN             NaN            NaN                  NaN   \n",
      "4126               NaN             NaN            NaN                  NaN   \n",
      "\n",
      "      WEATHER_DELAY  \n",
      "730             NaN  \n",
      "1166            NaN  \n",
      "1498            NaN  \n",
      "1539            NaN  \n",
      "4126            NaN  \n",
      "\n",
      "[5 rows x 31 columns]\n"
     ]
    }
   ],
   "source": [
    "# If you're confident that pandas' type inference won't adversely affect your analysis,\n",
    "# you can choose to ignore this warning.\n",
    "\n",
    "import warnings\n",
    "warnings.filterwarnings('ignore', category=pd.errors.DtypeWarning)\n",
    "\n",
    "def filter_data(df):\n",
    "    condition1 = df['DESTINATION_AIRPORT'] == \"MIA\"\n",
    "    condition2 = df['ORIGIN_AIRPORT'] == \"LAX\"\n",
    "    return df[condition1 & condition2]\n",
    "\n",
    "# List to hold the filtered data from each chunk\n",
    "filtered_data = []\n",
    "\n",
    "# Iterate through each chunk\n",
    "for filename in glob.glob('data_*.csv'):\n",
    "    chunk = pd.read_csv(filename)\n",
    "    filtered_chunk = filter_data(chunk)\n",
    "    filtered_data.append(filtered_chunk)\n",
    "\n",
    "# Combine all filtered data into one DataFrame\n",
    "final_data = pd.concat(filtered_data)\n",
    "\n",
    "print(final_data.head())"
   ]
  },
  {
   "cell_type": "markdown",
   "id": "eba139b8",
   "metadata": {},
   "source": [
    "## Use R Magic in Python Notebooks:\n",
    "\n",
    "If you primarily use Python but need to run some R code, you can use the `%R` magic command in a Python notebook. This requires the `rpy2` package in Python. Install `rpy2` via `pip install rpy2`\n",
    "Then, at the start of your Python notebook, load the R magic:"
   ]
  },
  {
   "cell_type": "code",
   "execution_count": 1,
   "id": "fce7f978",
   "metadata": {},
   "outputs": [],
   "source": [
    "%load_ext rpy2.ipython"
   ]
  },
  {
   "cell_type": "code",
   "execution_count": 11,
   "id": "2a1f5138",
   "metadata": {
    "scrolled": true
   },
   "outputs": [
    {
     "name": "stdout",
     "output_type": "stream",
     "text": [
      "# A tibble: 6 × 31\n",
      "   YEAR MONTH   DAY DAY_OF_WEEK AIRLINE FLIGHT_NUMBER TAIL_NUMBER ORIGIN_AIRPORT\n",
      "  <dbl> <dbl> <dbl>       <dbl> <chr>           <dbl> <chr>       <chr>         \n",
      "1  2015     1     1           4 AA                258 N3HYAA      LAX           \n",
      "2  2015     1     1           4 AA                115 N3CTAA      LAX           \n",
      "3  2015     1     1           4 AA                306 N859AA      LAX           \n",
      "4  2015     1     1           4 AA                208 N355AA      LAX           \n",
      "5  2015     1     1           4 AA                124 N7BEAA      LAX           \n",
      "6  2015     1     1           4 AA                 28 N358AA      LAX           \n",
      "# ℹ 23 more variables: DESTINATION_AIRPORT <chr>, SCHEDULED_DEPARTURE <dbl>,\n",
      "#   DEPARTURE_TIME <dbl>, DEPARTURE_DELAY <dbl>, TAXI_OUT <dbl>,\n",
      "#   WHEELS_OFF <dbl>, SCHEDULED_TIME <dbl>, ELAPSED_TIME <dbl>, AIR_TIME <dbl>,\n",
      "#   DISTANCE <dbl>, WHEELS_ON <dbl>, TAXI_IN <dbl>, SCHEDULED_ARRIVAL <dbl>,\n",
      "#   ARRIVAL_TIME <dbl>, ARRIVAL_DELAY <dbl>, DIVERTED <dbl>, CANCELLED <dbl>,\n",
      "#   CANCELLATION_REASON <chr>, AIR_SYSTEM_DELAY <dbl>, SECURITY_DELAY <dbl>,\n",
      "#   AIRLINE_DELAY <dbl>, LATE_AIRCRAFT_DELAY <dbl>, WEATHER_DELAY <dbl>\n"
     ]
    }
   ],
   "source": [
    "%%R\n",
    "library(tidyverse)\n",
    "\n",
    "filter_data <- function(df) {\n",
    "  df %>% filter(DESTINATION_AIRPORT == \"MIA\", ORIGIN_AIRPORT == \"LAX\")\n",
    "}\n",
    "\n",
    "read_csv_quietly <- function(filename) {\n",
    "  read_csv(filename, show_col_types = FALSE)\n",
    "}\n",
    "\n",
    "# Get the list of files\n",
    "# list.files() function with the apptern argument is to list files in the CD that\n",
    "# matches a specific pattern\n",
    "files <- list.files(pattern = \"data_.*\\\\.csv\")\n",
    "\n",
    "# Read, filter, and combine data from each file\n",
    "final_data <- files %>%\n",
    "  map(read_csv_quietly) %>%\n",
    "  map(filter_data) %>%\n",
    "  bind_rows()\n",
    "\n",
    "# Display the head of the final data frame\n",
    "head(final_data)"
   ]
  },
  {
   "cell_type": "markdown",
   "id": "48e71879",
   "metadata": {},
   "source": [
    "In the code snippet provided above, `map` is a function from the `purrr` package, which is part of the tidyverse suite of packages in R. The map function is used to apply a function to each element of a list or vector and is particularly useful for performing operations on lists in a concise and readable way."
   ]
  },
  {
   "cell_type": "code",
   "execution_count": 18,
   "id": "970a5113",
   "metadata": {},
   "outputs": [
    {
     "name": "stdout",
     "output_type": "stream",
     "text": [
      "  YEAR MONTH DAY DAY_OF_WEEK AIRLINE FLIGHT_NUMBER TAIL_NUMBER ORIGIN_AIRPORT\n",
      "1 2015     1   1           4      AA           258      N3HYAA            LAX\n",
      "2 2015     1   1           4      AA           115      N3CTAA            LAX\n",
      "3 2015     1   1           4      AA           306      N859AA            LAX\n",
      "4 2015     1   1           4      AA           208      N355AA            LAX\n",
      "5 2015     1   1           4      AA           124      N7BEAA            LAX\n",
      "6 2015     1   1           4      AA            28      N358AA            LAX\n",
      "  DESTINATION_AIRPORT SCHEDULED_DEPARTURE DEPARTURE_TIME DEPARTURE_DELAY\n",
      "1                 MIA                  20             15              -5\n",
      "2                 MIA                 105            103              -2\n",
      "3                 MIA                 800            759              -1\n",
      "4                 MIA                 840            842               2\n",
      "5                 MIA                1250           1305              15\n",
      "6                 MIA                1500           1456              -4\n",
      "  TAXI_OUT WHEELS_OFF SCHEDULED_TIME ELAPSED_TIME AIR_TIME DISTANCE WHEELS_ON\n",
      "1       15         30            285          281      258     2342       748\n",
      "2       14        117            286          276      255     2342       832\n",
      "3       13        812            292          280      257     2342      1529\n",
      "4       19        901            293          285      264     2342      1625\n",
      "5       17       1322            285          277      256     2342      2038\n",
      "6       19       1515            290          305      284     2342      2259\n",
      "  TAXI_IN SCHEDULED_ARRIVAL ARRIVAL_TIME ARRIVAL_DELAY DIVERTED CANCELLED\n",
      "1       8               805          756            -9        0         0\n",
      "2       7               851          839           -12        0         0\n",
      "3      10              1552         1539           -13        0         0\n",
      "4       2              1633         1627            -6        0         0\n",
      "5       4              2035         2042             7        0         0\n",
      "6       2              2250         2301            11        0         0\n",
      "  CANCELLATION_REASON AIR_SYSTEM_DELAY SECURITY_DELAY AIRLINE_DELAY\n",
      "1                <NA>               NA             NA            NA\n",
      "2                <NA>               NA             NA            NA\n",
      "3                <NA>               NA             NA            NA\n",
      "4                <NA>               NA             NA            NA\n",
      "5                <NA>               NA             NA            NA\n",
      "6                <NA>               NA             NA            NA\n",
      "  LATE_AIRCRAFT_DELAY WEATHER_DELAY\n",
      "1                  NA            NA\n",
      "2                  NA            NA\n",
      "3                  NA            NA\n",
      "4                  NA            NA\n",
      "5                  NA            NA\n",
      "6                  NA            NA\n"
     ]
    }
   ],
   "source": [
    "%%R\n",
    "\n",
    "# OR\n",
    "\n",
    "library(tidyverse)\n",
    "\n",
    "filter_data <- function(dff){\n",
    "  dff %>% filter(DESTINATION_AIRPORT == \"MIA\", ORIGIN_AIRPORT == \"LAX\")\n",
    "}\n",
    "\n",
    "# matches a specific pattern\n",
    "files <- list.files(pattern = \"data_.*\\\\.csv\")\n",
    "\n",
    "filtered_data <- NULL\n",
    "\n",
    "# Iterate through each chunk\n",
    "for (filename in files) {\n",
    "  chunk <- read_csv(filename, show_col_types = FALSE)\n",
    "  filtered_chunk <- filter_data(chunk)\n",
    "  filtered_data <- rbind(filtered_data, filtered_chunk)\n",
    "}\n",
    "\n",
    "head(as.data.frame(filtered_data))"
   ]
  },
  {
   "cell_type": "markdown",
   "id": "0a7dd168",
   "metadata": {},
   "source": [
    "# Conditions\n",
    "Often, depending on the evaluation of an expression, one wants to perform one operation rather than another."
   ]
  },
  {
   "cell_type": "markdown",
   "id": "5d902383",
   "metadata": {},
   "source": [
    "## if\n",
    "if expression:\n",
    "    instruction"
   ]
  },
  {
   "cell_type": "code",
   "execution_count": 19,
   "id": "90538a34",
   "metadata": {},
   "outputs": [
    {
     "name": "stdout",
     "output_type": "stream",
     "text": [
      "Hello\n"
     ]
    }
   ],
   "source": [
    "x = 2\n",
    "if x == 2:\n",
    "  print(\"Hello\")"
   ]
  },
  {
   "cell_type": "code",
   "execution_count": 20,
   "id": "cd902a61",
   "metadata": {},
   "outputs": [],
   "source": [
    "# Not this\n",
    "x=3\n",
    "if x == 2:\n",
    "  print(\"Hello\")"
   ]
  },
  {
   "cell_type": "markdown",
   "id": "ecbe6cc3",
   "metadata": {},
   "source": [
    "Inside the block, several instructions can be written that will be evaluated if the expression is True:"
   ]
  },
  {
   "cell_type": "code",
   "execution_count": 21,
   "id": "f4d07c94",
   "metadata": {},
   "outputs": [
    {
     "name": "stdout",
     "output_type": "stream",
     "text": [
      "Hello, x is : 2\n"
     ]
    }
   ],
   "source": [
    "x=2\n",
    "if x == 2:\n",
    "    y = \"Hello\"\n",
    "    print(y + \", x is : \" + str(x))"
   ]
  },
  {
   "cell_type": "markdown",
   "id": "4965cb8d",
   "metadata": {},
   "source": [
    "## if-else\n",
    "if expression:\n",
    "    instructions\n",
    "else:\n",
    "    other_instruction"
   ]
  },
  {
   "cell_type": "code",
   "execution_count": 22,
   "id": "7af81da3",
   "metadata": {},
   "outputs": [
    {
     "name": "stdout",
     "output_type": "stream",
     "text": [
      "It is cold out there\n"
     ]
    }
   ],
   "source": [
    "temperature = 26\n",
    "heat = \"\"\n",
    "\n",
    "if temperature > 28:\n",
    "    heat = \"hot\"\n",
    "else:\n",
    "    heat = \"cold\"\n",
    "    \n",
    "print(\"It is \" + heat + \" out there\")"
   ]
  },
  {
   "cell_type": "markdown",
   "id": "f69509a7",
   "metadata": {},
   "source": [
    "## if-elif"
   ]
  },
  {
   "cell_type": "code",
   "execution_count": 23,
   "id": "250d1a79",
   "metadata": {},
   "outputs": [
    {
     "name": "stdout",
     "output_type": "stream",
     "text": [
      "It is very cold out there\n"
     ]
    }
   ],
   "source": [
    "temperature = -4\n",
    "heat = \"\"\n",
    "\n",
    "if temperature > 28:\n",
    "    heat = \"hot\"\n",
    "elif temperature <= 28 and temperature > 15:\n",
    "    heat = \"not too hot\"\n",
    "elif temperature <= 15 and temperature > 0:\n",
    "    heat = \"cold\"\n",
    "else:\n",
    "    heat = \"very cold\"\n",
    "\n",
    "print(\"It is \" + heat + \" out there\")"
   ]
  },
  {
   "cell_type": "markdown",
   "id": "47828604",
   "metadata": {},
   "source": [
    "# Loops\n",
    "When the same operation has to be repeated several times, for a given number of times or as long as a condition is verified (or as long as it is not verified), loops can be used, which is much less painful than evaluating by hand or by copying and pasting the same instruction.\n",
    "\n",
    "We will discuss two types of loops in this chapter:\n",
    "  \n",
    "- those for which we do not know a priori the number of iterations (the number of repetitions) to be performed: `while()` loops \n",
    "- those for which we know a priori how many iterations are necessary: `for()` loops  "
   ]
  },
  {
   "cell_type": "code",
   "execution_count": 24,
   "id": "c1db6280",
   "metadata": {
    "scrolled": true
   },
   "outputs": [
    {
     "name": "stdout",
     "output_type": "stream",
     "text": [
      "33.333333333333336\n",
      "11.111111111111112\n",
      "3.703703703703704\n",
      "1.234567901234568\n"
     ]
    }
   ],
   "source": [
    "x = 100\n",
    "while x/3 > 1:\n",
    "    print(x/3)\n",
    "    x = x/3"
   ]
  },
  {
   "cell_type": "code",
   "execution_count": 28,
   "id": "b59fa717",
   "metadata": {},
   "outputs": [
    {
     "name": "stdout",
     "output_type": "stream",
     "text": [
      "Total is: 24\n"
     ]
    }
   ],
   "source": [
    "# Single loop\n",
    "total = 0\n",
    "for value in [3, 2, 19]:\n",
    "    total += value\n",
    "\n",
    "print('Total is: {0}'.format(total)) "
   ]
  },
  {
   "cell_type": "markdown",
   "id": "167a8556",
   "metadata": {},
   "source": [
    "We also took advantage of the increment notation in Python: the expression `a += b` increment is equivalent to `a = a + b`. R doesn't have an in-built shorthand operator for incrementing a variable. So, the expression `a += b` that you would use in other languages is written as `a = a + b` in R."
   ]
  },
  {
   "cell_type": "code",
   "execution_count": 29,
   "id": "52a3b93c",
   "metadata": {},
   "outputs": [
    {
     "name": "stdout",
     "output_type": "stream",
     "text": [
      "Total is: 3\n",
      "Total is: 5\n",
      "Total is: 24\n"
     ]
    }
   ],
   "source": [
    "# See the difference\n",
    "\n",
    "total = 0\n",
    "for value in [3, 2, 19]:\n",
    "    total += value\n",
    "    print('Total is: {0}'.format(total)) "
   ]
  },
  {
   "cell_type": "code",
   "execution_count": 30,
   "id": "3899794e",
   "metadata": {},
   "outputs": [
    {
     "name": "stdout",
     "output_type": "stream",
     "text": [
      "Total is: 144\n"
     ]
    }
   ],
   "source": [
    "## Double loop\n",
    "total = 0\n",
    "for value in [2,3,19]:\n",
    "    for weight in [3, 2, 1]:\n",
    "        total += value * weight\n",
    "\n",
    "print('Total is: {0}'.format(total))"
   ]
  },
  {
   "cell_type": "markdown",
   "id": "008b16e7",
   "metadata": {},
   "source": [
    "When we know the number of iterations in advance, we can use a `for()`loop. The syntax is as follows:"
   ]
  },
  {
   "cell_type": "code",
   "execution_count": 25,
   "id": "2b595941",
   "metadata": {},
   "outputs": [
    {
     "name": "stdout",
     "output_type": "stream",
     "text": [
      "The squared value of 0 is 0\n",
      "The squared value of 1 is 1\n",
      "The squared value of 2 is 4\n",
      "The squared value of 3 is 9\n",
      "The squared value of 4 is 16\n",
      "The squared value of 5 is 25\n",
      "The squared value of 6 is 36\n",
      "The squared value of 7 is 49\n",
      "The squared value of 8 is 64\n",
      "The squared value of 9 is 81\n",
      "The squared value of 10 is 100\n"
     ]
    }
   ],
   "source": [
    "message = \"The squared value of {} is {}\"\n",
    "n = 10\n",
    "for i in range(0, n + 1):\n",
    "    print(message.format(i, i ** 2))"
   ]
  },
  {
   "cell_type": "markdown",
   "id": "401d19ab",
   "metadata": {},
   "source": [
    "If we want to store the result in a list:"
   ]
  },
  {
   "cell_type": "code",
   "execution_count": 26,
   "id": "81a60fce",
   "metadata": {},
   "outputs": [
    {
     "name": "stdout",
     "output_type": "stream",
     "text": [
      "[0, 1, 4, 9, 16, 25, 36, 49, 64, 81, 100]\n"
     ]
    }
   ],
   "source": [
    "n=10\n",
    "n_squares = []\n",
    "\n",
    "for i in range(0, n+1):\n",
    "    n_squares.append(i**2)\n",
    "    \n",
    "print(n_squares)"
   ]
  },
  {
   "cell_type": "code",
   "execution_count": 27,
   "id": "8fb34ed4",
   "metadata": {},
   "outputs": [
    {
     "name": "stdout",
     "output_type": "stream",
     "text": [
      " [1]   0   1   4   9  16  25  36  49  64  81 100\n"
     ]
    }
   ],
   "source": [
    "%%R\n",
    "\n",
    "n <- 10\n",
    "n_squares <- c()  # Initialize an empty vector\n",
    "\n",
    "# R starts at 1 not zero:-)\n",
    "for (i in 0:n) {\n",
    "  n_squares <- c(n_squares, i^2)  # Append the square of i to the vector\n",
    "}\n",
    "\n",
    "print(n_squares)"
   ]
  },
  {
   "cell_type": "code",
   "execution_count": 30,
   "id": "73dc8827",
   "metadata": {
    "scrolled": true
   },
   "outputs": [
    {
     "name": "stdout",
     "output_type": "stream",
     "text": [
      "There is(are) 9 letter(s) in the name: Pascaline\n",
      "There is(are) 8 letter(s) in the name: Gauthier\n",
      "There is(are) 4 letter(s) in the name: Xuan\n",
      "There is(are) 5 letter(s) in the name: Jimmy\n",
      "There is(are) 9 letter(s) in the name: Pascaline\n",
      "There is(are) 8 letter(s) in the name: Gauthier\n",
      "There is(are) 4 letter(s) in the name: Xuan\n",
      "There is(are) 5 letter(s) in the name: Jimmy\n"
     ]
    }
   ],
   "source": [
    "message = \"There is(are) {} letter(s) in the name: {}\"\n",
    "for first_name in [\"Pascaline\", \"Gauthier\", \"Xuan\", \"Jimmy\"]:\n",
    "  print(message.format(len(first_name), first_name))\n",
    "\n",
    "# Cleaner\n",
    "\n",
    "message = \"There is(are) {} letter(s) in the name: {}\"\n",
    "for i in [\"Pascaline\", \"Gauthier\", \"Xuan\", \"Jimmy\"]:\n",
    "    print(message.format(len(i), i))"
   ]
  },
  {
   "cell_type": "markdown",
   "id": "6bf99e46",
   "metadata": {},
   "source": [
    "Here is the R code, where `sprintf()` is used to format the message. It replaces `%s` with the number of characters in the name (`nchar(first_name)`) and the name itself (`first_name`)."
   ]
  },
  {
   "cell_type": "code",
   "execution_count": 32,
   "id": "7282ba7c",
   "metadata": {},
   "outputs": [
    {
     "name": "stdout",
     "output_type": "stream",
     "text": [
      "[1] \"There is(are) 9 letter(s) in the name: Pascaline\"\n",
      "[1] \"There is(are) 8 letter(s) in the name: Gauthier\"\n",
      "[1] \"There is(are) 4 letter(s) in the name: Xuan\"\n",
      "[1] \"There is(are) 5 letter(s) in the name: Jimmy\"\n",
      "[1] \"There is(are) 9 letter(s) in the name: Pascaline\"\n",
      "[1] \"There is(are) 8 letter(s) in the name: Gauthier\"\n",
      "[1] \"There is(are) 4 letter(s) in the name: Xuan\"\n",
      "[1] \"There is(are) 5 letter(s) in the name: Jimmy\"\n"
     ]
    }
   ],
   "source": [
    "%%R\n",
    "\n",
    "message <- \"There is(are) %s letter(s) in the name: %s\"\n",
    "first_names <- c(\"Pascaline\", \"Gauthier\", \"Xuan\", \"Jimmy\")\n",
    "\n",
    "for (i in first_names) {\n",
    "  formatted_message <- sprintf(message, nchar(i), i)\n",
    "  print(formatted_message)\n",
    "}\n",
    "\n",
    "# OR\n",
    "\n",
    "message <- \"There is(are) %s letter(s) in the name: %s\"\n",
    "\n",
    "for (i in c(\"Pascaline\", \"Gauthier\", \"Xuan\", \"Jimmy\")) {\n",
    "  formatted_message <- sprintf(message, nchar(i), i)\n",
    "  print(formatted_message)\n",
    "}"
   ]
  },
  {
   "cell_type": "code",
   "execution_count": 35,
   "id": "22d4d655",
   "metadata": {},
   "outputs": [
    {
     "name": "stdout",
     "output_type": "stream",
     "text": [
      "i equals 2 and j equals 2\r"
     ]
    }
   ],
   "source": [
    "# This will be intresting for more complex loops\n",
    "import time  # Importing time for demonstration purposes\n",
    "\n",
    "for i in range(3):\n",
    "    for j in range(3):\n",
    "        print(f\"i equals {i} and j equals {j}\", end=\"\\r\")\n",
    "        time.sleep(1)  # Adding a delay for demonstration purposes"
   ]
  },
  {
   "cell_type": "code",
   "execution_count": 39,
   "id": "bff11fd4",
   "metadata": {},
   "outputs": [],
   "source": [
    "%%R\n",
    "\n",
    "# Try it in RStudio!  Doesn't work here:-)\n",
    "\n",
    "library(progress)\n",
    "\n",
    "# Define the total number of iterations\n",
    "total <- 3 * 3  # As we have two loops running from 0 to 2\n",
    "\n",
    "# Create a progress bar\n",
    "pb <- progress_bar$new(\n",
    "  format = \"[:bar] :percent :elapsedfull\", \n",
    "  total = total, \n",
    "  clear = FALSE, \n",
    "  width = 60\n",
    ")\n",
    "\n",
    "# Iterate with a progress bar\n",
    "for (i in 0:2) {\n",
    "  for (j in 0:2) {\n",
    "    # Update the progress bar\n",
    "    pb$tick()\n",
    "    \n",
    "    # Your loop content goes here\n",
    "    # ...\n",
    "    \n",
    "    Sys.sleep(0.1)  # Added only to slow down the loop for demonstration\n",
    "  }\n",
    "}"
   ]
  },
  {
   "cell_type": "code",
   "execution_count": 40,
   "id": "a93b94ef",
   "metadata": {},
   "outputs": [
    {
     "data": {
      "application/vnd.jupyter.widget-view+json": {
       "model_id": "a7eebf99032a4ef8bcd73641db923cd9",
       "version_major": 2,
       "version_minor": 0
      },
      "text/plain": [
       "IntProgress(value=0, description='Loading:', max=9)"
      ]
     },
     "metadata": {},
     "output_type": "display_data"
    }
   ],
   "source": [
    "import ipywidgets as widgets\n",
    "from IPython.display import display\n",
    "import time\n",
    "\n",
    "progress = widgets.IntProgress(value=0, min=0, max=9, description='Loading:')\n",
    "display(progress)\n",
    "\n",
    "for i in range(9):\n",
    "    time.sleep(0.5)  # Simulating work\n",
    "    progress.value += 1"
   ]
  },
  {
   "cell_type": "markdown",
   "id": "c4b57cce",
   "metadata": {},
   "source": [
    "We don't need to memorize these, but when we need them, we know they exist!"
   ]
  },
  {
   "cell_type": "code",
   "execution_count": 41,
   "id": "32554726",
   "metadata": {
    "scrolled": true
   },
   "outputs": [
    {
     "name": "stdout",
     "output_type": "stream",
     "text": [
      "New value for j: 15\n",
      "New value for j: 20\n",
      "New value for j: 25\n",
      "New value for j: 30\n"
     ]
    }
   ],
   "source": [
    "message = \"New value for j: {}\" \n",
    "j = 10\n",
    "for i in range(0, 4):\n",
    "    j += 5\n",
    "    print(message.format(j))"
   ]
  },
  {
   "cell_type": "markdown",
   "id": "4659b6d9",
   "metadata": {},
   "source": [
    "In a loop, if we want to increment a counter, we can use the symbol `+=` rather than writing ‘counter = counter + . . . “.  But this is not availbale in R"
   ]
  },
  {
   "cell_type": "code",
   "execution_count": 42,
   "id": "6e9e04eb",
   "metadata": {},
   "outputs": [
    {
     "name": "stdout",
     "output_type": "stream",
     "text": [
      "New value for j: 15 \n",
      "New value for j: 20 \n",
      "New value for j: 25 \n",
      "New value for j: 30 \n"
     ]
    }
   ],
   "source": [
    "%%R\n",
    "\n",
    "j <- 10\n",
    "for (i in 1:4) {\n",
    "    j <- j + 5\n",
    "    cat(\"New value for j:\", j, \"\\n\")\n",
    "}"
   ]
  },
  {
   "cell_type": "markdown",
   "id": "6326f299",
   "metadata": {},
   "source": [
    "Here is a good example: Choose a ‘mystery’ number between 1 and 100, and store it in an object called `mystere_number`. Then, create a loop that at each iteration performs a random draw of an integer between 1 and 100. As long as the number drawn is different from the mystery number, the loop must continue. At the output of the loop, a variable called `nb_drawings` will contain the number of prints made to obtain the mystery number."
   ]
  },
  {
   "cell_type": "code",
   "execution_count": 64,
   "id": "80072eab",
   "metadata": {},
   "outputs": [
    {
     "name": "stdout",
     "output_type": "stream",
     "text": [
      "[1] 39 39\n"
     ]
    }
   ],
   "source": [
    "%%R\n",
    "\n",
    "mystere_number <- sample(1:100, 1)\n",
    "rd <- 0\n",
    "\n",
    "while (rd != mystere_number) {\n",
    "    rd <- sample(1:100, 1)\n",
    "}\n",
    "\n",
    "c(mystere_number, nb_drawings)"
   ]
  },
  {
   "cell_type": "code",
   "execution_count": 94,
   "id": "3c34e572",
   "metadata": {},
   "outputs": [
    {
     "data": {
      "application/vnd.jupyter.widget-view+json": {
       "model_id": "4ada95c715ee4dcbac5c872f4aeadc3a",
       "version_major": 2,
       "version_minor": 0
      },
      "text/plain": [
       "IntProgress(value=0, description='Loading:', max=3000)"
      ]
     },
     "metadata": {},
     "output_type": "display_data"
    },
    {
     "name": "stdout",
     "output_type": "stream",
     "text": [
      "1746 1746\n"
     ]
    }
   ],
   "source": [
    "import random\n",
    "import ipywidgets as widgets\n",
    "from IPython.display import display\n",
    "import time\n",
    "\n",
    "progress = widgets.IntProgress(value=0, min=0, max=3000, description='Loading:')\n",
    "display(progress)\n",
    "\n",
    "\n",
    "mystere_number = random.randint(0, 2000)\n",
    "rd = 0\n",
    "\n",
    "while rd != mystere_number:\n",
    "    rd = random.randint(0, 2000)\n",
    "    progress.value += 1\n",
    "\n",
    "print(mystere_number, rd)    "
   ]
  },
  {
   "cell_type": "markdown",
   "id": "649a70c5",
   "metadata": {},
   "source": [
    "Use a loop to scan integers from 1 to 20 using a for loop, displaying in the console at each iteration if the current number is even."
   ]
  },
  {
   "cell_type": "code",
   "execution_count": 96,
   "id": "1cfecaa3",
   "metadata": {
    "scrolled": true
   },
   "outputs": [
    {
     "name": "stdout",
     "output_type": "stream",
     "text": [
      "The value 1 is not even\n",
      "The value 2 is even\n",
      "The value 3 is not even\n",
      "The value 4 is even\n",
      "The value 5 is not even\n",
      "The value 6 is even\n",
      "The value 7 is not even\n",
      "The value 8 is even\n",
      "The value 9 is not even\n",
      "The value 10 is even\n",
      "The value 11 is not even\n",
      "The value 12 is even\n",
      "The value 13 is not even\n",
      "The value 14 is even\n",
      "The value 15 is not even\n",
      "The value 16 is even\n",
      "The value 17 is not even\n",
      "The value 18 is even\n",
      "The value 19 is not even\n",
      "The value 20 is even\n"
     ]
    }
   ],
   "source": [
    "message1 = \"The value {} is even\"\n",
    "message2 = \"The value {} is not even\" \n",
    "\n",
    "for i in range(1, 21):\n",
    "    if i % 2 == 0: \n",
    "        print(message1.format(i))\n",
    "    else:\n",
    "        print(message2.format(i))"
   ]
  },
  {
   "cell_type": "code",
   "execution_count": 97,
   "id": "e8d66e46",
   "metadata": {},
   "outputs": [
    {
     "name": "stdout",
     "output_type": "stream",
     "text": [
      "The value 1 is not even \n",
      "The value 2 is even \n",
      "The value 3 is not even \n",
      "The value 4 is even \n",
      "The value 5 is not even \n",
      "The value 6 is even \n",
      "The value 7 is not even \n",
      "The value 8 is even \n",
      "The value 9 is not even \n",
      "The value 10 is even \n",
      "The value 11 is not even \n",
      "The value 12 is even \n",
      "The value 13 is not even \n",
      "The value 14 is even \n",
      "The value 15 is not even \n",
      "The value 16 is even \n",
      "The value 17 is not even \n",
      "The value 18 is even \n",
      "The value 19 is not even \n",
      "The value 20 is even \n"
     ]
    }
   ],
   "source": [
    "%%R\n",
    "\n",
    "message1 <- \"The value %s is even\"\n",
    "message2 <- \"The value %s is not even\"\n",
    "\n",
    "for (i in 1:20) {\n",
    "  if (i %% 2 == 0) {\n",
    "    cat(sprintf(message1, i), \"\\n\")\n",
    "  } else {\n",
    "    cat(sprintf(message2, i), \"\\n\")\n",
    "  }\n",
    "}\n",
    "\n",
    "# OR\n",
    "\n",
    "for (i in 1:20) {\n",
    "  if (i %% 2 == 0) {\n",
    "    paste(\"The value \", i, \" is even\")\n",
    "  } else {\n",
    "    paste(\"The value \", i, \" is not even\")\n",
    "  }\n",
    "}"
   ]
  },
  {
   "cell_type": "markdown",
   "id": "93e394d7",
   "metadata": {},
   "source": [
    "Perhaps a more common task would be to sum over (`value`, `weight`) pairs. For instance, to compute the average value of a random variable that takes on possible values 2, 3 or 19 with probability 0.2, 0.3, 0.5 respectively we would compute the weighted sum. Tasks such as this can often be accomplished using the `zip()` function that loops over a sequence of tuples."
   ]
  },
  {
   "cell_type": "code",
   "execution_count": 31,
   "id": "3ccbba63",
   "metadata": {},
   "outputs": [
    {
     "name": "stdout",
     "output_type": "stream",
     "text": [
      "Weighted average is: 10.8\n"
     ]
    }
   ],
   "source": [
    "total = 0\n",
    "for value, weight in zip([2,3,19],\n",
    "                         [0.2,0.3,0.5]):\n",
    "    total += weight * value\n",
    "print('Weighted average is: {0}'.format(total))"
   ]
  },
  {
   "cell_type": "code",
   "execution_count": 33,
   "id": "317bec76",
   "metadata": {},
   "outputs": [
    {
     "name": "stdout",
     "output_type": "stream",
     "text": [
      "Weighted average is: 10.8 \n"
     ]
    }
   ],
   "source": [
    "%%R\n",
    "\n",
    "values <- c(2, 3, 19)\n",
    "weights <- c(0.2, 0.3, 0.5)\n",
    "\n",
    "total <- 0\n",
    "for (i in 1:length(values)) {\n",
    "    total <- total + weights[i] * values[i]\n",
    "}\n",
    "\n",
    "cat('Weighted average is:', total, '\\n')"
   ]
  },
  {
   "cell_type": "markdown",
   "id": "5518e5cc",
   "metadata": {},
   "source": [
    "Wow, how stu...d it's!  A Simple version would be you'd perform a vectorized operation in NumPy"
   ]
  },
  {
   "cell_type": "code",
   "execution_count": 32,
   "id": "0cd81e68",
   "metadata": {},
   "outputs": [
    {
     "name": "stdout",
     "output_type": "stream",
     "text": [
      "Weighted average is: 10.8\n"
     ]
    }
   ],
   "source": [
    "import numpy as np\n",
    "\n",
    "values = np.array([2, 3, 19])\n",
    "weights = np.array([0.2, 0.3, 0.5])\n",
    "\n",
    "total = np.sum(weights * values)\n",
    "print('Weighted average is:', total)"
   ]
  },
  {
   "cell_type": "code",
   "execution_count": 34,
   "id": "589b1e9f",
   "metadata": {},
   "outputs": [
    {
     "name": "stdout",
     "output_type": "stream",
     "text": [
      "Weighted average is: 10.8 \n"
     ]
    }
   ],
   "source": [
    "%%R\n",
    "\n",
    "values <- c(2, 3, 19)\n",
    "weights <- c(0.2, 0.3, 0.5)\n",
    "\n",
    "total <- sum(weights * values)\n",
    "\n",
    "cat('Weighted average is:', total, '\\n')"
   ]
  },
  {
   "cell_type": "markdown",
   "id": "20e86a9a",
   "metadata": {},
   "source": [
    "# FUNCTIONS\n",
    "\n",
    "Most of the time, we use the basic functions or those contained in modules. However, when retrieving data online or formatting data imported from various sources, it may be necessary to create our own functions. \n",
    "\n",
    "`def name_function(arguments): \n",
    "    body of the function4`\n",
    "\n",
    "Once the function is defined, it is called by referring to its name: `name_function()`"
   ]
  },
  {
   "cell_type": "code",
   "execution_count": 98,
   "id": "c21b492e",
   "metadata": {},
   "outputs": [
    {
     "data": {
      "text/plain": [
       "4"
      ]
     },
     "execution_count": 98,
     "metadata": {},
     "output_type": "execute_result"
    }
   ],
   "source": [
    "def square(x):\n",
    "    return x**2\n",
    "\n",
    "square(2)"
   ]
  },
  {
   "cell_type": "code",
   "execution_count": 99,
   "id": "f9077e2e",
   "metadata": {},
   "outputs": [
    {
     "name": "stdout",
     "output_type": "stream",
     "text": [
      "[1] 4\n"
     ]
    }
   ],
   "source": [
    "%%R\n",
    "\n",
    "squarer <- function(x){\n",
    "    return(x^2)\n",
    "}\n",
    "squarer(2)"
   ]
  },
  {
   "cell_type": "markdown",
   "id": "5e743872",
   "metadata": {},
   "source": [
    "In both Python and R, functions can have positional arguments and keyword (named) arguments. However, there are some differences in how these arguments are handled in each language.\n",
    "\n",
    "Python:\n",
    "**Positional Arguments:** These are arguments that can be called by their position in the function definition.\n",
    "**Keyword Arguments:** Also known as named arguments, these are specified by name. One key feature in Python is that you can have default values for keyword arguments.\n",
    "Example in Python:"
   ]
  },
  {
   "cell_type": "code",
   "execution_count": 100,
   "id": "65f725ee",
   "metadata": {},
   "outputs": [
    {
     "name": "stdout",
     "output_type": "stream",
     "text": [
      "Hello Alice\n",
      "Goodbye Bob\n",
      "Hi Eve\n"
     ]
    }
   ],
   "source": [
    "def greet(name, msg=\"Hello\"):\n",
    "    print(msg, name)\n",
    "\n",
    "greet(\"Alice\")             # Uses default value for msg\n",
    "greet(\"Bob\", \"Goodbye\")    # Overrides default value for msg\n",
    "greet(msg=\"Hi\", name=\"Eve\")  # Using named arguments"
   ]
  },
  {
   "cell_type": "code",
   "execution_count": 101,
   "id": "c5f5ea3b",
   "metadata": {},
   "outputs": [
    {
     "name": "stdout",
     "output_type": "stream",
     "text": [
      "Hello Alice \n",
      "Goodbye Bob \n",
      "Hi Eve \n",
      "Hey Charlie \n"
     ]
    }
   ],
   "source": [
    "%%R\n",
    "\n",
    "greet <- function(name, msg=\"Hello\") {\n",
    "  cat(msg, name, \"\\n\")\n",
    "}\n",
    "\n",
    "greet(\"Alice\")                # Uses default msg\n",
    "greet(\"Bob\", \"Goodbye\")       # Overrides default msg\n",
    "greet(name=\"Eve\", msg=\"Hi\")   # Named arguments, order can be changed\n",
    "greet(\"Charlie\", msg=\"Hey\")   # Mix of positional and named arguments"
   ]
  },
  {
   "cell_type": "markdown",
   "id": "4b8d0574",
   "metadata": {},
   "source": [
    "A function can be provided as an argument to another function."
   ]
  },
  {
   "cell_type": "code",
   "execution_count": 103,
   "id": "48f5f430",
   "metadata": {},
   "outputs": [
    {
     "name": "stdout",
     "output_type": "stream",
     "text": [
      "16\n"
     ]
    }
   ],
   "source": [
    "def square(x):\n",
    "    \"\"\"Returns the squared value of x\"\"\" \n",
    "    return x**2\n",
    "\n",
    "def apply_fun_to_4(fun):\n",
    "    \"\"\"Applies the function `fun` to 4\"\"\"\n",
    "    return fun(4)\n",
    "\n",
    "print(apply_fun_to_4(square))"
   ]
  },
  {
   "cell_type": "code",
   "execution_count": 110,
   "id": "c69cb875",
   "metadata": {},
   "outputs": [
    {
     "name": "stdout",
     "output_type": "stream",
     "text": [
      "Result: 16 \n"
     ]
    }
   ],
   "source": [
    "%%R\n",
    "\n",
    "# Define the square function\n",
    "square <- function(x) {\n",
    "  return(x^2)\n",
    "}\n",
    "\n",
    "# Define a function that applies another function to 4\n",
    "apply_fun_to_4 <- function(fun) {\n",
    "  return(fun(4))\n",
    "}\n",
    "\n",
    "# Apply the square function to 4 and print the result\n",
    "result <- apply_fun_to_4(square)\n",
    "cat(\"Result:\", result, \"\\n\") "
   ]
  },
  {
   "cell_type": "code",
   "execution_count": null,
   "id": "ff0a34e1",
   "metadata": {},
   "outputs": [],
   "source": [
    "When a function is called, the body of that function is interpreted. Variables that have been defined in the body of the function are assigned to a local namespace. \n",
    "In other words, they live only within this local space, which is created at the moment of the call of the function and destroyed at the end of it."
   ]
  },
  {
   "cell_type": "code",
   "execution_count": 106,
   "id": "48be5651",
   "metadata": {},
   "outputs": [
    {
     "data": {
      "text/plain": [
       "7"
      ]
     },
     "execution_count": 106,
     "metadata": {},
     "output_type": "execute_result"
    }
   ],
   "source": [
    "value = 10\n",
    "\n",
    "def f(x):\n",
    "    value = 2\n",
    "    return x + value\n",
    "\n",
    "f(5)"
   ]
  },
  {
   "cell_type": "markdown",
   "id": "ab33af24",
   "metadata": {},
   "source": [
    " If a variable is not defined in the body of a function, Python will search in a parent environment."
   ]
  },
  {
   "cell_type": "code",
   "execution_count": 108,
   "id": "2a4250fd",
   "metadata": {},
   "outputs": [
    {
     "data": {
      "text/plain": [
       "15"
      ]
     },
     "execution_count": 108,
     "metadata": {},
     "output_type": "execute_result"
    }
   ],
   "source": [
    "def f(y):\n",
    "    return y + value\n",
    "\n",
    "f(5)"
   ]
  },
  {
   "cell_type": "code",
   "execution_count": 116,
   "id": "8814113e",
   "metadata": {},
   "outputs": [
    {
     "name": "stdout",
     "output_type": "stream",
     "text": [
      "[1]  7 10 15\n"
     ]
    }
   ],
   "source": [
    "%%R\n",
    "\n",
    "# Same for R\n",
    "\n",
    "value = 10\n",
    "\n",
    "f <- function(x) {\n",
    "    value = 2\n",
    "    return(x + value)\n",
    "}\n",
    "\n",
    "\n",
    "# But\n",
    "\n",
    "k <- function(y) {\n",
    "    return(y + value)\n",
    "}\n",
    "\n",
    "c(f(5), value, k(5))"
   ]
  },
  {
   "cell_type": "markdown",
   "id": "4c03a681",
   "metadata": {},
   "source": [
    "Python offers what are called lambdas functions, or anonymous functions. A lambda function has only one instruction whose result is that of the function."
   ]
  },
  {
   "cell_type": "code",
   "execution_count": 117,
   "id": "567fc073",
   "metadata": {},
   "outputs": [
    {
     "name": "stdout",
     "output_type": "stream",
     "text": [
      "16\n"
     ]
    }
   ],
   "source": [
    "def square(x):\n",
    "    return x**2\n",
    "\n",
    "## The same function with lamda\n",
    "square_2 = lambda x: x**2\n",
    "print(square_2(4))"
   ]
  },
  {
   "cell_type": "markdown",
   "id": "05d4e67c",
   "metadata": {},
   "source": [
    "It can sometimes be convenient to return several elements in return for a function. Although the list is a candidate for this feature, it may be better to use a dictionary, to be able to access the values with their key!"
   ]
  },
  {
   "cell_type": "code",
   "execution_count": 122,
   "id": "fc8bc710",
   "metadata": {},
   "outputs": [
    {
     "name": "stdout",
     "output_type": "stream",
     "text": [
      "{'mean': 3.9, 'std_dev': 2.8460498941515415}\n",
      "3.9\n"
     ]
    }
   ],
   "source": [
    "import statistics\n",
    "\n",
    "def stat_des(x):\n",
    "    \"\"\"Returns the mean and standard deviation of `x`\"\"\"\n",
    "    return {\"mean\": statistics.mean(x), \"std_dev\": statistics.stdev(x)}\n",
    "\n",
    "x = [1,3,2,6,4,1,8,9,3,2]\n",
    "res = stat_des(x)\n",
    "print(res)\n",
    "\n",
    "print(res[\"mean\"])"
   ]
  },
  {
   "cell_type": "code",
   "execution_count": 123,
   "id": "8d2e5467",
   "metadata": {},
   "outputs": [
    {
     "name": "stdout",
     "output_type": "stream",
     "text": [
      "$mean\n",
      "[1] 3.9\n",
      "\n",
      "$std_dev\n",
      "[1] 2.84605\n",
      "\n",
      "[1] 3.9\n",
      "[1] 2.84605\n"
     ]
    }
   ],
   "source": [
    "%%R\n",
    "\n",
    "# Define the function\n",
    "stat_des <- function(x) {\n",
    "  return(list(mean = mean(x), std_dev = sd(x)))\n",
    "}\n",
    "\n",
    "# Example data\n",
    "x <- c(1, 3, 2, 6, 4, 1, 8, 9, 3, 2)\n",
    "\n",
    "# Get the result as a named list\n",
    "res <- stat_des(x)\n",
    "print(res)\n",
    "\n",
    "# Access elements of the list\n",
    "print(res$mean)  # Access the mean\n",
    "print(res$std_dev)  # Access the standard deviation"
   ]
  },
  {
   "cell_type": "markdown",
   "id": "d34b7d48",
   "metadata": {},
   "source": [
    "# Introduction to Numpy\n",
    "An important library for numerical calculations: NumPy (abbreviation of Numerical Python). It is common practice to import NumPy by assigning it the alias np: `import numpy as np`"
   ]
  },
  {
   "cell_type": "markdown",
   "id": "7126cd98",
   "metadata": {},
   "source": [
    "## Arrays\n",
    "NumPy offers a popular data structure, arrays, on which calculations can be performed efficiently. In `numpy`,an array is a generic term for a multidimensional set of numbers. We use the `np.array()`function to define x and y, which are one-dimensional arrays, i.e. vectors."
   ]
  },
  {
   "cell_type": "code",
   "execution_count": 2,
   "id": "5c84a98b",
   "metadata": {},
   "outputs": [
    {
     "data": {
      "text/plain": [
       "array([ 7, 13, 12])"
      ]
     },
     "execution_count": 2,
     "metadata": {},
     "output_type": "execute_result"
    }
   ],
   "source": [
    "import numpy as np\n",
    "\n",
    "x = np.array([3, 4, 5])\n",
    "y = np.array([4, 9, 7])\n",
    "\n",
    "x + y"
   ]
  },
  {
   "cell_type": "markdown",
   "id": "b0be209a",
   "metadata": {},
   "source": [
    "In numpy, matrices are typically represented as two-dimensional arrays, and vectors as one-dimensional arrays. We can create a two-dimensional array as follows."
   ]
  },
  {
   "cell_type": "code",
   "execution_count": 3,
   "id": "80f595c8",
   "metadata": {},
   "outputs": [
    {
     "data": {
      "text/plain": [
       "array([[1, 2],\n",
       "       [3, 4]])"
      ]
     },
     "execution_count": 3,
     "metadata": {},
     "output_type": "execute_result"
    }
   ],
   "source": [
    "x = np.array([[1, 2], [3, 4]])\n",
    "x"
   ]
  },
  {
   "cell_type": "markdown",
   "id": "9d33ccb7",
   "metadata": {},
   "source": [
    "The object `x` has several attributes, or associated objects. To access an attribute of `x`, we type `x.attribute`, where we replace attribute with the name of the attribute. For instance, we can access the `ndim` attribute of x as follows."
   ]
  },
  {
   "cell_type": "code",
   "execution_count": 6,
   "id": "28aa7b93",
   "metadata": {
    "scrolled": true
   },
   "outputs": [
    {
     "name": "stdout",
     "output_type": "stream",
     "text": [
      "2\n",
      "int64\n"
     ]
    }
   ],
   "source": [
    "print(x.ndim)\n",
    "print(x.dtype)"
   ]
  },
  {
   "cell_type": "markdown",
   "id": "5d927333",
   "metadata": {},
   "source": [
    "Why is `x` comprised of integers? This is because we created `x` by passing in exclusively integers to the `np.array()` function. If we had passed in any decimals, then we would have obtained an array of floating point numbers (i.e. real-valued numbers)."
   ]
  },
  {
   "cell_type": "code",
   "execution_count": 7,
   "id": "5912bbc9",
   "metadata": {},
   "outputs": [
    {
     "data": {
      "text/plain": [
       "dtype('float64')"
      ]
     },
     "execution_count": 7,
     "metadata": {},
     "output_type": "execute_result"
    }
   ],
   "source": [
    "np.array([[1, 2], [3.0, 4]]).dtype"
   ]
  },
  {
   "cell_type": "markdown",
   "id": "bc38c6f6",
   "metadata": {},
   "source": [
    "The array `x` is two-dimensional. We can find out the number of rows and columns by looking at its shape attribute"
   ]
  },
  {
   "cell_type": "code",
   "execution_count": 8,
   "id": "73ab5c54",
   "metadata": {},
   "outputs": [
    {
     "data": {
      "text/plain": [
       "(2, 2)"
      ]
     },
     "execution_count": 8,
     "metadata": {},
     "output_type": "execute_result"
    }
   ],
   "source": [
    "x.shape"
   ]
  },
  {
   "cell_type": "markdown",
   "id": "9dbf2404",
   "metadata": {},
   "source": [
    "A method is a function that is associated with an object. For instance, given an array `x`, the expression `x.sum()` sums all of its elements, using the `sum()` method for arrays. The call `x.sum()` automatically provides `x` as the first argument to its `sum()` method."
   ]
  },
  {
   "cell_type": "code",
   "execution_count": 9,
   "id": "4dd75317",
   "metadata": {
    "scrolled": true
   },
   "outputs": [
    {
     "data": {
      "text/plain": [
       "10"
      ]
     },
     "execution_count": 9,
     "metadata": {},
     "output_type": "execute_result"
    }
   ],
   "source": [
    "x = np.array([1, 2, 3, 4])\n",
    "x.sum()"
   ]
  },
  {
   "cell_type": "markdown",
   "id": "6ab309ac",
   "metadata": {},
   "source": [
    "We could also sum the elements of `x` by passing in `x` as an argument to the `np.sum()` function."
   ]
  },
  {
   "cell_type": "code",
   "execution_count": 10,
   "id": "d863b7af",
   "metadata": {
    "scrolled": true
   },
   "outputs": [
    {
     "data": {
      "text/plain": [
       "10"
      ]
     },
     "execution_count": 10,
     "metadata": {},
     "output_type": "execute_result"
    }
   ],
   "source": [
    "x = np.array([1, 2, 3, 4])\n",
    "np.sum(x)"
   ]
  },
  {
   "cell_type": "markdown",
   "id": "47baf988",
   "metadata": {},
   "source": [
    "Pay attention here:"
   ]
  },
  {
   "cell_type": "code",
   "execution_count": 13,
   "id": "d451476c",
   "metadata": {
    "scrolled": false
   },
   "outputs": [
    {
     "name": "stdout",
     "output_type": "stream",
     "text": [
      "[1 2 3 4 5 6]\n",
      "[[1 2 3]\n",
      " [4 5 6]]\n",
      "[5 2 3 4 5 6]\n",
      "[[5 2 3]\n",
      " [4 5 6]]\n"
     ]
    }
   ],
   "source": [
    "x = np.array([1, 2, 3, 4, 5, 6])\n",
    "print(x)\n",
    "\n",
    "x_reshaped = x.reshape((2, 3))\n",
    "print(x_reshaped)\n",
    "\n",
    "#Change the first element to 5\n",
    "x_reshaped[0, 0] = 5\n",
    "\n",
    "print(x_reshaped)\n",
    "print(x)"
   ]
  },
  {
   "cell_type": "markdown",
   "id": "51e576d1",
   "metadata": {},
   "source": [
    "To our surprise, we discover that the first element of x has been modified as well! Modifying `x_reshaped` also modified `x` because the two objects occupy the same space in memory."
   ]
  },
  {
   "cell_type": "markdown",
   "id": "fccfdd5b",
   "metadata": {},
   "source": [
    "## Random data\n",
    "In data analytics, we often want to generate random data. the `np.random.normal()` function generates a vector of random normal variables. We can learn more about this function by looking at the help page, via a call to `np.random.normal?`. The first line of the help page reads `normal(loc=0.0, scale=1.0, size=None)`. This signature line tells us that the function’s arguments are `loc`, `scale`, and `size`. These are keyword arguments, which means that when they are passed into the function, they can be referred to by name (in any order). By default, this function will generate random normal variable(s) with mean (`loc`) 0 and standard deviation (`scale`) 1; further more, a single random variable will be generated unless the argument to size is changed."
   ]
  },
  {
   "cell_type": "code",
   "execution_count": 14,
   "id": "1b92bffd",
   "metadata": {},
   "outputs": [
    {
     "data": {
      "text/plain": [
       "array([-3.98758621e-01, -1.32585520e+00,  2.99086619e-01, -9.00467046e-01,\n",
       "       -6.24377293e-01,  1.38433653e+00, -1.98727515e+00, -1.33082457e-01,\n",
       "       -9.71992791e-01,  6.63398551e-01,  3.46517153e-01, -1.63397597e+00,\n",
       "        3.33672263e-01, -9.34686339e-01, -1.41242974e+00, -1.34432196e-01,\n",
       "       -1.72489169e+00,  1.60784233e-01, -1.05829487e+00, -2.18321556e-02,\n",
       "        1.89588479e-01, -1.39836483e-01, -8.93383689e-01, -7.83250154e-02,\n",
       "        1.17285345e+00, -3.39760151e-01,  7.51434322e-02,  1.19200948e+00,\n",
       "       -5.65394550e-01, -7.84100601e-01, -9.63238726e-02,  1.05682617e+00,\n",
       "       -2.19975770e-03, -3.12787509e-01, -4.09556939e-01, -4.53440641e-03,\n",
       "       -5.26438184e-01, -3.48628682e+00,  5.96224387e-01,  1.29367128e+00,\n",
       "       -3.66914424e-01,  1.05576017e+00,  1.34325270e+00,  1.01442394e+00,\n",
       "        1.16487534e+00, -2.99751323e-01,  1.61316775e+00,  3.66836276e-01,\n",
       "       -2.25382573e-01,  1.15627344e-02])"
      ]
     },
     "execution_count": 14,
     "metadata": {},
     "output_type": "execute_result"
    }
   ],
   "source": [
    "x = np.random.normal(size=50)\n",
    "x"
   ]
  },
  {
   "cell_type": "markdown",
   "id": "cd8b28be",
   "metadata": {},
   "source": [
    "We create an array `y` by adding an independent `N(50,1)` random variable to each element of `x`."
   ]
  },
  {
   "cell_type": "code",
   "execution_count": 17,
   "id": "c7f016a5",
   "metadata": {
    "scrolled": false
   },
   "outputs": [
    {
     "data": {
      "text/plain": [
       "array([50.91313043, 48.35385782, 50.80903044, 50.54994561, 48.69165226,\n",
       "       50.60932749, 48.78877271, 50.15383787, 48.42220353, 49.80142401,\n",
       "       51.68320569, 47.47239158, 50.91925555, 49.34482161, 49.16704937,\n",
       "       49.48369408, 47.72670698, 50.40858947, 49.02627041, 51.47861593,\n",
       "       48.97465266, 49.92856398, 50.42015717, 50.57461143, 52.15778099,\n",
       "       47.33148267, 49.79171346, 51.46796316, 50.55562685, 47.51896059,\n",
       "       50.43897447, 51.001371  , 51.77533076, 49.44005047, 50.68029124,\n",
       "       51.48579121, 50.05814013, 47.42541796, 50.95767462, 51.35853017,\n",
       "       48.78070351, 49.77239821, 50.46416671, 50.91403132, 53.04549545,\n",
       "       50.24357539, 51.88093265, 50.81059912, 49.5126853 , 51.05077079])"
      ]
     },
     "execution_count": 17,
     "metadata": {},
     "output_type": "execute_result"
    }
   ],
   "source": [
    "y = x + np.random.normal(loc=50, scale=1, size=50)\n",
    "y"
   ]
  },
  {
   "cell_type": "markdown",
   "id": "af427fbe",
   "metadata": {},
   "source": [
    "In order to ensure that our code provides exactly the same results each time it is run, we can set a random seed using the `np.random.default_rng()`"
   ]
  },
  {
   "cell_type": "code",
   "execution_count": 24,
   "id": "b90f1203",
   "metadata": {},
   "outputs": [
    {
     "name": "stdout",
     "output_type": "stream",
     "text": [
      "[ 4.09482632 -1.07485605]\n",
      "[ 4.09482632 -1.07485605]\n"
     ]
    }
   ],
   "source": [
    "rng = np.random.default_rng(1303)\n",
    "print(rng.normal(scale=5, size=2))\n",
    "\n",
    "rng2 = np.random.default_rng(1303)\n",
    "print(rng2.normal(scale=5, size=2))"
   ]
  },
  {
   "cell_type": "code",
   "execution_count": 27,
   "id": "22859272",
   "metadata": {},
   "outputs": [
    {
     "data": {
      "text/plain": [
       "(-0.1126795190952861, -0.1126795190952861)"
      ]
     },
     "execution_count": 27,
     "metadata": {},
     "output_type": "execute_result"
    }
   ],
   "source": [
    "# Some statistical operations\n",
    "rng = np.random.default_rng(3)\n",
    "y = rng.standard_normal(10)\n",
    "np.mean(y), y.mean()"
   ]
  },
  {
   "cell_type": "code",
   "execution_count": 28,
   "id": "1dc20884",
   "metadata": {},
   "outputs": [
    {
     "data": {
      "text/plain": [
       "(2.7243406406465125, 2.7243406406465125, 2.7243406406465125)"
      ]
     },
     "execution_count": 28,
     "metadata": {},
     "output_type": "execute_result"
    }
   ],
   "source": [
    "#And\n",
    "np.var(y), y.var(), np.mean((y - y.mean())**2)"
   ]
  },
  {
   "cell_type": "markdown",
   "id": "5796ea69",
   "metadata": {},
   "source": [
    "## Column/Row operations\n",
    "The `np.mean()`, `np.var()`, and `np.std()` functions can also be applied to the rows and columns of a matrix. To see this, we construct a 10 × 3 matrix of N(0,1) random variables, and consider computing its row sums."
   ]
  },
  {
   "cell_type": "code",
   "execution_count": 29,
   "id": "5b1310b3",
   "metadata": {},
   "outputs": [
    {
     "data": {
      "text/plain": [
       "array([[ 0.22578661, -0.35263079, -0.28128742],\n",
       "       [-0.66804635, -1.05515055, -0.39080098],\n",
       "       [ 0.48194539, -0.23855361,  0.9577587 ],\n",
       "       [-0.19980213,  0.02425957,  1.54582085],\n",
       "       [ 0.54510552, -0.50522874, -0.18283897],\n",
       "       [ 0.54052513,  1.93508803, -0.26962033],\n",
       "       [-0.24355868,  1.0023136 , -0.88645994],\n",
       "       [-0.29172023,  0.88253897,  0.58035002],\n",
       "       [ 0.0915167 ,  0.67010435, -2.82816231],\n",
       "       [ 1.02130682, -0.95964476, -1.66861984]])"
      ]
     },
     "execution_count": 29,
     "metadata": {},
     "output_type": "execute_result"
    }
   ],
   "source": [
    "X = rng.standard_normal((10, 3))\n",
    "X"
   ]
  },
  {
   "cell_type": "code",
   "execution_count": 30,
   "id": "2e1e492f",
   "metadata": {},
   "outputs": [
    {
     "data": {
      "text/plain": [
       "array([ 0.15030588,  0.14030961, -0.34238602])"
      ]
     },
     "execution_count": 30,
     "metadata": {},
     "output_type": "execute_result"
    }
   ],
   "source": [
    "X.mean(axis=0)\n",
    "# Sum of its rows by columns"
   ]
  },
  {
   "cell_type": "code",
   "execution_count": 31,
   "id": "e7b0aafd",
   "metadata": {},
   "outputs": [
    {
     "data": {
      "text/plain": [
       "array([-0.13604387, -0.70466596,  0.40038349,  0.45675943, -0.04765406,\n",
       "        0.73533095, -0.04256834,  0.39038958, -0.68884708, -0.53565259])"
      ]
     },
     "execution_count": 31,
     "metadata": {},
     "output_type": "execute_result"
    }
   ],
   "source": [
    "X.mean(axis=1)\n",
    "# Sum of its columns by rows"
   ]
  },
  {
   "cell_type": "markdown",
   "id": "345d29fd",
   "metadata": {},
   "source": [
    "## Speed  \n",
    "Arrays are a useful structure for performing basic statistical operations as well as pseudo-random number generation. The structure of the tables is similar to that of the lists, but the latter are slower to process and use more memory. To be convinced:"
   ]
  },
  {
   "cell_type": "code",
   "execution_count": 19,
   "id": "1cbe2788",
   "metadata": {},
   "outputs": [
    {
     "name": "stdout",
     "output_type": "stream",
     "text": [
      "24.6 µs ± 328 ns per loop (mean ± std. dev. of 7 runs, 10,000 loops each)\n"
     ]
    }
   ],
   "source": [
    "# first lists\n",
    "\n",
    "from random import random\n",
    "from operator import truediv\n",
    "l1 = [random() for i in range(1000)]\n",
    "l2 = [random() for i in range(1000)]\n",
    "%timeit s = sum(map(truediv,l1,l2))"
   ]
  },
  {
   "cell_type": "markdown",
   "id": "583da273",
   "metadata": {},
   "source": [
    "To write the Python expression `l1 = [random() for i in range(1000)]` using a traditional for loop, you would first initialize an empty list and then append a random number to this list in each iteration of the loop. Here's how you can do it:"
   ]
  },
  {
   "cell_type": "code",
   "execution_count": 23,
   "id": "24290692",
   "metadata": {},
   "outputs": [],
   "source": [
    "from random import random\n",
    "\n",
    "l1 = []  # Initialize an empty list\n",
    "for i in range(1000):\n",
    "    l1.append(random())  # Append a random number to the list in each iteration"
   ]
  },
  {
   "cell_type": "markdown",
   "id": "b16fff6f",
   "metadata": {},
   "source": [
    "The output tells you that the code was very quick to execute, with an average time of 26.8 microseconds per loop, and the execution time was quite consistent, with a standard deviation of about 828 nanoseconds. The measurement was based on a total of 70,000 executions of the loop (10,000 loops per run over 7 runs)."
   ]
  },
  {
   "cell_type": "code",
   "execution_count": 6,
   "id": "1c58b7a1",
   "metadata": {},
   "outputs": [
    {
     "name": "stdout",
     "output_type": "stream",
     "text": [
      "Unit: microseconds\n",
      "            expr   min     lq    mean median     uq    max neval\n",
      " s <- sum(l1/l2) 2.764 2.8045 3.20613 2.8495 2.9435 17.567   100\n"
     ]
    }
   ],
   "source": [
    "%%R\n",
    "\n",
    "library(microbenchmark)\n",
    "\n",
    "# Generate random numbers\n",
    "l1 <- runif(1000)\n",
    "l2 <- runif(1000)\n",
    "\n",
    "# Time the operation\n",
    "timing_result <- microbenchmark(\n",
    "  s <- sum(l1 / l2),\n",
    "  times = 100L  # Number of times to run the expression\n",
    ")\n",
    "\n",
    "print(timing_result)"
   ]
  },
  {
   "cell_type": "markdown",
   "id": "4b71c3d9",
   "metadata": {},
   "source": [
    "The R results show that the operation is very quick, with most executions taking between 3.4 to 5.8 microseconds, but with some variability as indicated by the range from the minimum to the maximum times. The mean and median are close in value, suggesting a relatively symmetric distribution of execution times.\n",
    "\n",
    "`l1 <- runif(1000)` in R is more concise compared to the equivalent Python code `l1 = [random() for i in range(1000)]`. This difference in conciseness can often be seen between R and Python, especially in tasks related to data generation and statistical operations.\n",
    "\n",
    "R is a language designed specifically for statistical computing and has many built-in functions that are highly optimized for such tasks. Functions like `runif` provide a very straightforward and concise way to generate random numbers, which is a common requirement in statistical analysis and simulation.\n",
    "\n",
    "Python, while extremely versatile and powerful, is a general-purpose programming language. Operations like generating random numbers require either using list comprehensions (as in your example) or loops, along with the standard library functions like random.random(). Python's approach is more verbose but also very flexible, allowing for complex operations within list comprehensions and loops.\n",
    "\n",
    "Each language has its strengths, and in this case, R's specialized nature for statistical tasks makes it more concise for generating a sequence of random numbers."
   ]
  },
  {
   "cell_type": "markdown",
   "id": "fdb01ad9",
   "metadata": {},
   "source": [
    "Now, let’s transform the two lists into NumPy tables with the `array()` method, and do the same calculation with a NumPy method:"
   ]
  },
  {
   "cell_type": "code",
   "execution_count": 8,
   "id": "cd15007e",
   "metadata": {},
   "outputs": [
    {
     "name": "stdout",
     "output_type": "stream",
     "text": [
      "5.6 µs ± 36 ns per loop (mean ± std. dev. of 7 runs, 100,000 loops each)\n"
     ]
    }
   ],
   "source": [
    "a1 = np.array(l1)\n",
    "a2 = np.array(l2)\n",
    "%timeit s = np.sum(a1/a2)"
   ]
  },
  {
   "cell_type": "markdown",
   "id": "5f14c4c2",
   "metadata": {},
   "source": [
    "As can be seen by executing these codes in an IPython environment, the execution time is much faster with the NumPy methods for this calculation. The creation of an array can be done with the `array()` method, from a list, as we just did:"
   ]
  },
  {
   "cell_type": "code",
   "execution_count": 13,
   "id": "e228fcdd",
   "metadata": {},
   "outputs": [
    {
     "name": "stdout",
     "output_type": "stream",
     "text": [
      "[1 2 4]\n",
      "[1 2 4]\n",
      "[[1 2 3]\n",
      " [4 5 6]]\n",
      "<class 'numpy.ndarray'>\n"
     ]
    }
   ],
   "source": [
    "list = [1,2,4]\n",
    "table = np.array(list)\n",
    "print(table)\n",
    "\n",
    "# OR\n",
    "\n",
    "table2 = np.array([1,2,4])\n",
    "print(table2)\n",
    "\n",
    "# Or\n",
    "\n",
    "list_2 = [ [1,2,3], [4,5,6] ]\n",
    "table_2 = np.array(list_2)\n",
    "print(table_2)\n",
    "\n",
    "print(type(table_2))"
   ]
  },
  {
   "cell_type": "markdown",
   "id": "bd6f1687",
   "metadata": {},
   "source": [
    "Arrays in NumPy (Numerical Python) are commonly used for creating and working with matrices in Python. NumPy provides a powerful array object, which is a multi-dimensional (n-dimensional) homogeneous array. It's a central data structure of the NumPy library.\n",
    "\n",
    "NumPy arrays can be used to represent both vectors (1D arrays) and matrices (2D arrays), as well as higher-dimensional data structures. For matrix operations, 2D arrays are typically used. Here's a basic example of how you can create and manipulate matrices with NumPy:"
   ]
  },
  {
   "cell_type": "code",
   "execution_count": 14,
   "id": "50a2f068",
   "metadata": {},
   "outputs": [
    {
     "name": "stdout",
     "output_type": "stream",
     "text": [
      "[[1 2 3]\n",
      " [4 5 6]]\n",
      "Transpose:\n",
      " [[1 4]\n",
      " [2 5]\n",
      " [3 6]]\n",
      "Matrix Product:\n",
      " [[14 32]\n",
      " [32 77]]\n"
     ]
    }
   ],
   "source": [
    "# Create a 2x3 matrix\n",
    "matrix = np.array([[1, 2, 3], [4, 5, 6]])\n",
    "print(matrix)\n",
    "\n",
    "# Perform matrix operations\n",
    "transpose = matrix.T  # Transpose of the matrix\n",
    "print(\"Transpose:\\n\", transpose)\n",
    "\n",
    "product = np.dot(matrix, transpose)  # Matrix multiplication\n",
    "print(\"Matrix Product:\\n\", product)"
   ]
  },
  {
   "cell_type": "markdown",
   "id": "59b35095",
   "metadata": {},
   "source": [
    "## Some Functions Generating array Objects"
   ]
  },
  {
   "cell_type": "code",
   "execution_count": 20,
   "id": "8a7db1c1",
   "metadata": {},
   "outputs": [
    {
     "name": "stdout",
     "output_type": "stream",
     "text": [
      "[0. 0. 0. 0.]\n",
      "float64\n",
      "int64\n",
      "[[0. 0. 0.]\n",
      " [0. 0. 0.]\n",
      " [0. 0. 0.]\n",
      " [0. 0. 0.]]\n",
      "[[[0. 0. 0.]\n",
      "  [0. 0. 0.]\n",
      "  [0. 0. 0.]\n",
      "  [0. 0. 0.]]\n",
      "\n",
      " [[0. 0. 0.]\n",
      "  [0. 0. 0.]\n",
      "  [0. 0. 0.]\n",
      "  [0. 0. 0.]]]\n"
     ]
    }
   ],
   "source": [
    "x = np.zeros(4)\n",
    "print(x)\n",
    "\n",
    "#The type of zeros (e. g. int, int32, int64, int64, float, float32, float64, etc.) \n",
    "#can be specified using the dtype argument:\n",
    "\n",
    "print(x.dtype)\n",
    "\n",
    "x = x.astype(\"int\")\n",
    "print(x.dtype)\n",
    "\n",
    "y = np.zeros((4,3))\n",
    "print(y)\n",
    "\n",
    "z = np.zeros((2,4,3))\n",
    "print(z)"
   ]
  },
  {
   "cell_type": "code",
   "execution_count": 15,
   "id": "6ff3ae73",
   "metadata": {
    "scrolled": true
   },
   "outputs": [
    {
     "name": "stdout",
     "output_type": "stream",
     "text": [
      "[1, 2, 3, 4, 5, 6, 7, 8, 9, 10]\n",
      "[[ 1  2  3  4  5]\n",
      " [ 6  7  8  9 10]]\n",
      "(2, 5)\n"
     ]
    },
    {
     "data": {
      "text/plain": [
       "(2, 5)"
      ]
     },
     "execution_count": 15,
     "metadata": {},
     "output_type": "execute_result"
    }
   ],
   "source": [
    "x = list(range(1,11))\n",
    "print(x)\n",
    "\n",
    "y = np.array(x).reshape(2,5)\n",
    "print(y)\n",
    "\n",
    "# Two ways to use shape\n",
    "print(y.shape)\n",
    "np.shape(y)"
   ]
  },
  {
   "cell_type": "code",
   "execution_count": 33,
   "id": "45f7ba8f",
   "metadata": {},
   "outputs": [
    {
     "name": "stdout",
     "output_type": "stream",
     "text": [
      "Number of rows: 2\n",
      "Number of columns: 5\n",
      "2 5\n"
     ]
    }
   ],
   "source": [
    "shape = np.shape(y)\n",
    "# Number of rows\n",
    "n_rows = shape[0]\n",
    "print(\"Number of rows:\", n_rows)\n",
    "\n",
    "# Number of columns\n",
    "n_cols = shape[1]\n",
    "print(\"Number of columns:\", n_cols)\n",
    "\n",
    "print(y.shape[0], y.shape[1])"
   ]
  },
  {
   "cell_type": "markdown",
   "id": "f70162c2",
   "metadata": {},
   "source": [
    "R is particularly well-suited for statistical and matrix operations, and as such, it often provides more straightforward ways to perform these kinds of tasks. The matrix function in R is a great example of this. R's matrix function directly takes the data (or, the vector x) and the desired dimensions (number of rows and columns) as arguments, making it very concise and easy to use for creating matrices.\n",
    "\n",
    "This ease of use for matrix and array operations is one of the reasons why R is so popular in data analysis, statistics, and related fields. Python also has powerful capabilities for these tasks, especially with libraries like NumPy, but the syntax can be more verbose compared to R for certain operations."
   ]
  },
  {
   "cell_type": "code",
   "execution_count": 12,
   "id": "298fb09b",
   "metadata": {
    "scrolled": true
   },
   "outputs": [
    {
     "name": "stdout",
     "output_type": "stream",
     "text": [
      "     [,1] [,2] [,3] [,4] [,5]\n",
      "[1,]    1    3    5    7    9\n",
      "[2,]    2    4    6    8   10\n",
      "[1] 2 5\n"
     ]
    }
   ],
   "source": [
    "%%R\n",
    "y <- matrix(1:10, 2, 5)\n",
    "print(y)\n",
    "dim(y)"
   ]
  },
  {
   "cell_type": "markdown",
   "id": "73f85efa",
   "metadata": {},
   "source": []
  },
  {
   "cell_type": "markdown",
   "id": "68cdd737",
   "metadata": {},
   "source": [
    "## Extracting Elements from an Array\n",
    "Access to the elements of an array is done in the same way as for lists, using indexes. The syntax is as follows:\n",
    "`array[lower:upper:step]`\n",
    "- When `lower` is not specified, the first element (indexed 0) is considered as the value assigned to lower.\n",
    "- When `upper` is not specified, the last element is considered as the value assigned toupper’.\n",
    "- When `step` is not specified, a step of 1 is assigned by default."
   ]
  },
  {
   "cell_type": "code",
   "execution_count": 21,
   "id": "37e19922",
   "metadata": {
    "scrolled": true
   },
   "outputs": [
    {
     "name": "stdout",
     "output_type": "stream",
     "text": [
      "[[ 1  2  3  4  5]\n",
      " [ 6  7  8  9 10]]\n"
     ]
    },
    {
     "data": {
      "text/plain": [
       "9"
      ]
     },
     "execution_count": 21,
     "metadata": {},
     "output_type": "execute_result"
    }
   ],
   "source": [
    "print(y)\n",
    "y[1,3]"
   ]
  },
  {
   "cell_type": "code",
   "execution_count": 22,
   "id": "69ab820a",
   "metadata": {
    "scrolled": true
   },
   "outputs": [
    {
     "ename": "SyntaxError",
     "evalue": "invalid syntax (4194564222.py, line 1)",
     "output_type": "error",
     "traceback": [
      "\u001b[0;36m  Cell \u001b[0;32mIn[22], line 1\u001b[0;36m\u001b[0m\n\u001b[0;31m    y[,3]\u001b[0m\n\u001b[0m      ^\u001b[0m\n\u001b[0;31mSyntaxError\u001b[0m\u001b[0;31m:\u001b[0m invalid syntax\n"
     ]
    }
   ],
   "source": [
    "y[,3]"
   ]
  },
  {
   "cell_type": "code",
   "execution_count": 23,
   "id": "38716911",
   "metadata": {},
   "outputs": [
    {
     "data": {
      "text/plain": [
       "array([4, 9])"
      ]
     },
     "execution_count": 23,
     "metadata": {},
     "output_type": "execute_result"
    }
   ],
   "source": [
    "y[:,3]"
   ]
  },
  {
   "cell_type": "code",
   "execution_count": 27,
   "id": "6939f03c",
   "metadata": {},
   "outputs": [
    {
     "data": {
      "text/plain": [
       "array([1, 2, 3, 4, 5])"
      ]
     },
     "execution_count": 27,
     "metadata": {},
     "output_type": "execute_result"
    }
   ],
   "source": [
    "y[0,:]"
   ]
  },
  {
   "cell_type": "code",
   "execution_count": 28,
   "id": "3b04b563",
   "metadata": {
    "scrolled": true
   },
   "outputs": [
    {
     "data": {
      "text/plain": [
       "array([1, 2, 3, 4])"
      ]
     },
     "execution_count": 28,
     "metadata": {},
     "output_type": "execute_result"
    }
   ],
   "source": [
    "y[0,:-1]"
   ]
  },
  {
   "cell_type": "code",
   "execution_count": 36,
   "id": "1c72cca9",
   "metadata": {},
   "outputs": [
    {
     "data": {
      "text/plain": [
       "array([3, 4])"
      ]
     },
     "execution_count": 36,
     "metadata": {},
     "output_type": "execute_result"
    }
   ],
   "source": [
    "y[0,2:4]"
   ]
  },
  {
   "cell_type": "code",
   "execution_count": 29,
   "id": "530b9780",
   "metadata": {},
   "outputs": [
    {
     "data": {
      "text/plain": [
       "4"
      ]
     },
     "execution_count": 29,
     "metadata": {},
     "output_type": "execute_result"
    }
   ],
   "source": [
    "len(y[0,:-1])"
   ]
  },
  {
   "cell_type": "code",
   "execution_count": 38,
   "id": "2330f11a",
   "metadata": {},
   "outputs": [
    {
     "data": {
      "text/plain": [
       "array([[ 0,  1,  2,  3],\n",
       "       [ 4,  5,  6,  7],\n",
       "       [ 8,  9, 10, 11],\n",
       "       [12, 13, 14, 15]])"
      ]
     },
     "execution_count": 38,
     "metadata": {},
     "output_type": "execute_result"
    }
   ],
   "source": [
    "A = np.array(np.arange(16)).reshape((4, 4))\n",
    "A"
   ]
  },
  {
   "cell_type": "code",
   "execution_count": 37,
   "id": "7134e0bf",
   "metadata": {},
   "outputs": [
    {
     "data": {
      "text/plain": [
       "6"
      ]
     },
     "execution_count": 37,
     "metadata": {},
     "output_type": "execute_result"
    }
   ],
   "source": [
    "A[1,2]"
   ]
  },
  {
   "cell_type": "markdown",
   "id": "00251edc",
   "metadata": {},
   "source": [
    "To select multiple rows at a time, we can pass in a list specifying our selection. For instance, `[1,2]` will retrieve the second and third rows:"
   ]
  },
  {
   "cell_type": "code",
   "execution_count": 39,
   "id": "cbad57b5",
   "metadata": {},
   "outputs": [
    {
     "data": {
      "text/plain": [
       "array([[ 4,  5,  6,  7],\n",
       "       [ 8,  9, 10, 11]])"
      ]
     },
     "execution_count": 39,
     "metadata": {},
     "output_type": "execute_result"
    }
   ],
   "source": [
    "A[[1,2]]"
   ]
  },
  {
   "cell_type": "markdown",
   "id": "293300f7",
   "metadata": {},
   "source": [
    "To select the first and third columns, we pass in `[0,2]` as the second argument in the square brackets. In this case we need to supply the first argument `:` which selects all rows."
   ]
  },
  {
   "cell_type": "code",
   "execution_count": 40,
   "id": "22da578c",
   "metadata": {},
   "outputs": [
    {
     "data": {
      "text/plain": [
       "array([[ 0,  2],\n",
       "       [ 4,  6],\n",
       "       [ 8, 10],\n",
       "       [12, 14]])"
      ]
     },
     "execution_count": 40,
     "metadata": {},
     "output_type": "execute_result"
    }
   ],
   "source": [
    "A[:,[0,2]]"
   ]
  },
  {
   "cell_type": "markdown",
   "id": "ad7de8e7",
   "metadata": {},
   "source": [
    "Now, suppose that we want to select the submatrix made up of the second and fourth rows as well as the first and third columns. This is where indexing gets slightly tricky. It is natural to try to use lists to retrieve the rows and columns:"
   ]
  },
  {
   "cell_type": "code",
   "execution_count": 41,
   "id": "01d027bb",
   "metadata": {},
   "outputs": [
    {
     "data": {
      "text/plain": [
       "array([ 4, 14])"
      ]
     },
     "execution_count": 41,
     "metadata": {},
     "output_type": "execute_result"
    }
   ],
   "source": [
    "A[[1,3],[0,2]]"
   ]
  },
  {
   "cell_type": "markdown",
   "id": "4f7c990e",
   "metadata": {},
   "source": [
    "When supplied with two indexing lists, the numpy interpretation is that these provide pairs of i, j indices for a series of entries. That is why the pair of lists must have the same length. However, that was not our intent, since we are looking for a submatrix. One easy way to do this is as follows. We first create a submatrix by subsetting the rows of `A`, and then on the fly we make a further submatrix by subsetting its columns."
   ]
  },
  {
   "cell_type": "code",
   "execution_count": 42,
   "id": "ce28714a",
   "metadata": {
    "scrolled": true
   },
   "outputs": [
    {
     "data": {
      "text/plain": [
       "array([[ 4,  6],\n",
       "       [12, 14]])"
      ]
     },
     "execution_count": 42,
     "metadata": {},
     "output_type": "execute_result"
    }
   ],
   "source": [
    "A[[1,3]][:,[0,2]]"
   ]
  },
  {
   "cell_type": "raw",
   "id": "741d1fe3",
   "metadata": {},
   "source": [
    "An easier way:"
   ]
  },
  {
   "cell_type": "code",
   "execution_count": 43,
   "id": "b89c1b13",
   "metadata": {
    "scrolled": true
   },
   "outputs": [
    {
     "data": {
      "text/plain": [
       "array([[ 4,  6,  7],\n",
       "       [12, 14, 15]])"
      ]
     },
     "execution_count": 43,
     "metadata": {},
     "output_type": "execute_result"
    }
   ],
   "source": [
    "idx = np.ix_([1,3],[0,2,3])\n",
    "A[idx]"
   ]
  },
  {
   "cell_type": "markdown",
   "id": "eca433d2",
   "metadata": {},
   "source": [
    "The convenience function `np.ix_()` allows us to extract a submatrix using lists, by creating an intermediate mesh object."
   ]
  },
  {
   "cell_type": "markdown",
   "id": "19bdf041",
   "metadata": {},
   "source": [
    "Here, the function `np.all()` has checked whether all entries of an array are `True`. A similar function, `np.any()`, can be used to check whether any entries of an array are `True`."
   ]
  },
  {
   "cell_type": "code",
   "execution_count": 44,
   "id": "9282173b",
   "metadata": {
    "scrolled": true
   },
   "outputs": [
    {
     "data": {
      "text/plain": [
       "False"
      ]
     },
     "execution_count": 44,
     "metadata": {},
     "output_type": "execute_result"
    }
   ],
   "source": [
    "np.all(A == 0)"
   ]
  },
  {
   "cell_type": "code",
   "execution_count": 45,
   "id": "d84bbd9a",
   "metadata": {},
   "outputs": [
    {
     "data": {
      "text/plain": [
       "True"
      ]
     },
     "execution_count": 45,
     "metadata": {},
     "output_type": "execute_result"
    }
   ],
   "source": [
    "np.any(A == 6)"
   ]
  },
  {
   "cell_type": "markdown",
   "id": "b809992d",
   "metadata": {},
   "source": [
    "## Missing Values\n",
    "In Python, especially when working with data science and machine learning, missing values are commonly represented using `None` or `NaN` (Not a Number). The choice between these two depends on the context and the type of data you are dealing with. `None`: This is the Python equivalent of `NULL` in other languages. It's a Python object that often represents the absence of a value. None is used in general Python programming to denote the absence of a value or a null state. `NaN`: This is a special floating-point value defined in the IEEE floating-point standard. It is used to represent missing or undefined numerical data. In Python, NaN is used primarily in numerical arrays and is part of the NumPy library, which is extensively used in data science and machine learning.\n",
    "\n",
    "When working with pandas, a popular data manipulation library in Python, both `None` and `NaN` can represent missing data. Pandas treats `None` and `NaN` as essentially interchangeable for indicating missing or null values. To facilitate this convention, there are several methods for detecting, removing, and replacing null values in pandas \n",
    "\n",
    "In NumPy, which is a core library for numerical computing in Python, missing values are typically represented using `numpy.nan` for floating-point data. Unlike Python's general-purpose `None`, which can be used with any data type, `numpy.nan` is specifically a floating-point value and fits naturally into arrays of floats."
   ]
  },
  {
   "cell_type": "code",
   "execution_count": 47,
   "id": "65cfc84a",
   "metadata": {
    "scrolled": false
   },
   "outputs": [
    {
     "ename": "NameError",
     "evalue": "name 'NaN' is not defined",
     "output_type": "error",
     "traceback": [
      "\u001b[0;31m---------------------------------------------------------------------------\u001b[0m",
      "\u001b[0;31mNameError\u001b[0m                                 Traceback (most recent call last)",
      "Cell \u001b[0;32mIn[47], line 1\u001b[0m\n\u001b[0;32m----> 1\u001b[0m a \u001b[38;5;241m=\u001b[39m np\u001b[38;5;241m.\u001b[39marray([\u001b[38;5;241m1.0\u001b[39m, \u001b[38;5;241m2.0\u001b[39m, \u001b[43mNaN\u001b[49m, \u001b[38;5;241m4.0\u001b[39m])\n",
      "\u001b[0;31mNameError\u001b[0m: name 'NaN' is not defined"
     ]
    }
   ],
   "source": [
    "a = np.array([1.0, 2.0, NaN, 4.0])"
   ]
  },
  {
   "cell_type": "code",
   "execution_count": 57,
   "id": "46e99b97",
   "metadata": {},
   "outputs": [
    {
     "data": {
      "text/plain": [
       "array([1.0, 2.0, None, 4.0], dtype=object)"
      ]
     },
     "execution_count": 57,
     "metadata": {},
     "output_type": "execute_result"
    }
   ],
   "source": [
    "a = np.array([1.0, 2.0, None, 4.0])\n",
    "a"
   ]
  },
  {
   "cell_type": "code",
   "execution_count": 60,
   "id": "90acfb56",
   "metadata": {},
   "outputs": [
    {
     "data": {
      "text/plain": [
       "array([ 1.,  2., nan,  4.])"
      ]
     },
     "execution_count": 60,
     "metadata": {},
     "output_type": "execute_result"
    }
   ],
   "source": [
    "b = np.array([1.0, 2.0, np.nan, 4.0])\n",
    "b"
   ]
  },
  {
   "cell_type": "code",
   "execution_count": 51,
   "id": "1c8ba76b",
   "metadata": {},
   "outputs": [
    {
     "data": {
      "text/plain": [
       "array([False, False,  True, False])"
      ]
     },
     "execution_count": 51,
     "metadata": {},
     "output_type": "execute_result"
    }
   ],
   "source": [
    "np.isnan(a)"
   ]
  },
  {
   "cell_type": "code",
   "execution_count": 61,
   "id": "a7752d1e",
   "metadata": {},
   "outputs": [
    {
     "data": {
      "text/plain": [
       "array([False, False,  True, False])"
      ]
     },
     "execution_count": 61,
     "metadata": {},
     "output_type": "execute_result"
    }
   ],
   "source": [
    "np.isnan(b)"
   ]
  },
  {
   "cell_type": "code",
   "execution_count": 52,
   "id": "82b5a275",
   "metadata": {},
   "outputs": [
    {
     "data": {
      "text/plain": [
       "True"
      ]
     },
     "execution_count": 52,
     "metadata": {},
     "output_type": "execute_result"
    }
   ],
   "source": [
    "np.isnan(a).any()"
   ]
  },
  {
   "cell_type": "code",
   "execution_count": 53,
   "id": "7ffaee65",
   "metadata": {},
   "outputs": [
    {
     "data": {
      "text/plain": [
       "2.3333333333333335"
      ]
     },
     "execution_count": 53,
     "metadata": {},
     "output_type": "execute_result"
    }
   ],
   "source": [
    "# Calculate the mean, ignoring NaN values\n",
    "np.nanmean(a)"
   ]
  },
  {
   "cell_type": "code",
   "execution_count": 62,
   "id": "a82e3841",
   "metadata": {},
   "outputs": [
    {
     "data": {
      "text/plain": [
       "2.3333333333333335"
      ]
     },
     "execution_count": 62,
     "metadata": {},
     "output_type": "execute_result"
    }
   ],
   "source": [
    "np.nanmean(b)"
   ]
  },
  {
   "cell_type": "code",
   "execution_count": 54,
   "id": "8d2ad3bf",
   "metadata": {},
   "outputs": [
    {
     "name": "stdout",
     "output_type": "stream",
     "text": [
      "[ 5. inf  6. inf]\n"
     ]
    },
    {
     "name": "stderr",
     "output_type": "stream",
     "text": [
      "/var/folders/wt/4xtk6v051vd349k3wktfld480000gn/T/ipykernel_55077/1948954575.py:6: RuntimeWarning: divide by zero encountered in divide\n",
      "  d = np.divide(b, c)\n"
     ]
    }
   ],
   "source": [
    "# Example arrays\n",
    "b = np.array([10, 20, 30, 40])\n",
    "c = np.array([2, 0, 5, 0])\n",
    "\n",
    "d = np.divide(b, c)\n",
    "\n",
    "print(d)"
   ]
  },
  {
   "cell_type": "code",
   "execution_count": 56,
   "id": "1dbf51c8",
   "metadata": {},
   "outputs": [
    {
     "name": "stdout",
     "output_type": "stream",
     "text": [
      "[ 5. -0.  6. -0.]\n"
     ]
    }
   ],
   "source": [
    "# Safe division\n",
    "d = np.divide(b, c, where=c!=0)\n",
    "\n",
    "print(d)\n"
   ]
  },
  {
   "cell_type": "code",
   "execution_count": 63,
   "id": "b8a30f06",
   "metadata": {},
   "outputs": [
    {
     "name": "stdout",
     "output_type": "stream",
     "text": [
      "     A    B    C\n",
      "0  1.0  4.0  7.0\n",
      "1  2.0  NaN  8.0\n",
      "2  NaN  6.0  NaN\n"
     ]
    }
   ],
   "source": [
    "import pandas as pd\n",
    "\n",
    "# Create a DataFrame with missing values\n",
    "# Will See Pandas in CH.10 Below\n",
    "df = pd.DataFrame({'A': [1, 2, None], 'B': [4, None, 6], 'C': [7, 8, np.nan]})\n",
    "\n",
    "# Output the DataFrame\n",
    "print(df)"
   ]
  },
  {
   "cell_type": "markdown",
   "id": "b0f01147",
   "metadata": {},
   "source": [
    "## Conditional indexing\n",
    "Conditional indexing in Python, especially with NumPy arrays and Pandas DataFrames, is a powerful feature that allows you to select elements based on some condition. Let's go through examples for both NumPy arrays and Pandas DataFrames:"
   ]
  },
  {
   "cell_type": "code",
   "execution_count": 41,
   "id": "92f49738",
   "metadata": {},
   "outputs": [
    {
     "name": "stdout",
     "output_type": "stream",
     "text": [
      "[ 6  7  8  9 10]\n",
      "[6 7 8 9]\n"
     ]
    },
    {
     "data": {
      "text/plain": [
       "False"
      ]
     },
     "execution_count": 41,
     "metadata": {},
     "output_type": "execute_result"
    }
   ],
   "source": [
    "import numpy as np\n",
    "\n",
    "# Creating a NumPy array\n",
    "arr = np.array([1, 2, 3, 4, 5, 6, 7, 8, 9, 10])\n",
    "\n",
    "# Condition: Select elements greater than 5\n",
    "selected_elements = arr[arr > 5]\n",
    "print(selected_elements)\n",
    "\n",
    "# Creating a 2D NumPy array (matrix)\n",
    "matrix = np.array([[1, 2, 3], \n",
    "                   [4, 5, 6], \n",
    "                   [7, 8, 9]])\n",
    "\n",
    "# Condition: Select elements greater than 5\n",
    "selected_elements = matrix[matrix > 5]\n",
    "print(selected_elements)\n",
    "\n",
    "matrix[matrix > 5]"
   ]
  },
  {
   "cell_type": "code",
   "execution_count": 43,
   "id": "3a3e0b12",
   "metadata": {},
   "outputs": [
    {
     "name": "stdout",
     "output_type": "stream",
     "text": [
      "(array([1, 2, 2, 2]), array([2, 0, 1, 2]))\n",
      "[1 2 2 2]\n",
      "[2 0 1 2]\n"
     ]
    }
   ],
   "source": [
    "# Condition: Find indices of elements greater than 5\n",
    "indices = np.where(matrix > 5)\n",
    "\n",
    "print(indices)\n",
    "print(indices[0])\n",
    "print(indices[1])"
   ]
  },
  {
   "cell_type": "code",
   "execution_count": 44,
   "id": "42075dc2",
   "metadata": {},
   "outputs": [
    {
     "name": "stdout",
     "output_type": "stream",
     "text": [
      "[6 7 8 9]\n"
     ]
    }
   ],
   "source": [
    "# Using indices to extract the values from the matrix\n",
    "selected_values = matrix[indices]\n",
    "\n",
    "print(selected_values)"
   ]
  },
  {
   "cell_type": "code",
   "execution_count": 37,
   "id": "4cfbfdc7",
   "metadata": {},
   "outputs": [
    {
     "name": "stdout",
     "output_type": "stream",
     "text": [
      "   A  B  C\n",
      "2  3  3  4\n",
      "3  4  2  5\n",
      "4  5  1  6\n",
      "   A  B  C\n",
      "2  3  3  4\n",
      "3  4  2  5\n",
      "4  5  1  6\n"
     ]
    }
   ],
   "source": [
    "import pandas as pd\n",
    "\n",
    "# Creating a DataFrame\n",
    "df = pd.DataFrame({\n",
    "    'A': [1, 2, 3, 4, 5],\n",
    "    'B': [5, 4, 3, 2, 1],\n",
    "    'C': [2, 3, 4, 5, 6]\n",
    "})\n",
    "\n",
    "# Condition: Select rows where column 'A' is greater than 2\n",
    "selected_rows = df[df['A'] > 2]\n",
    "print(selected_rows)\n",
    "\n",
    "# Condition: Select rows where 'A' is greater than 2 and 'B' is less than 5\n",
    "selected_rows = df[(df['A'] > 2) & (df['B'] < 5)]\n",
    "print(selected_rows)\n"
   ]
  },
  {
   "cell_type": "code",
   "execution_count": 49,
   "id": "b5409971",
   "metadata": {},
   "outputs": [
    {
     "name": "stdout",
     "output_type": "stream",
     "text": [
      "[1]  6  7  8  9 10\n",
      "     row col\n",
      "[1,]   2   3\n",
      "[2,]   1   4\n",
      "[3,]   2   4\n",
      "[4,]   1   5\n",
      "[5,]   2   5\n",
      "[1]  6  7  8  9 10\n"
     ]
    }
   ],
   "source": [
    "%%R\n",
    "\n",
    "X <- matrix(1:10, 2, 5)\n",
    "print(X[X>5])\n",
    "\n",
    "# or\n",
    "\n",
    "ind <- which(X>5, arr.ind = TRUE)\n",
    "print(ind)\n",
    "\n",
    "print(X[ind])\n"
   ]
  },
  {
   "cell_type": "code",
   "execution_count": 53,
   "id": "039a996c",
   "metadata": {},
   "outputs": [
    {
     "name": "stdout",
     "output_type": "stream",
     "text": [
      "  A B C\n",
      "3 3 3 4\n",
      "4 4 2 5\n",
      "5 5 1 6\n",
      "  A B C\n",
      "3 3 3 4\n",
      "4 4 2 5\n",
      "5 5 1 6\n",
      "  A B C\n",
      "3 3 3 4\n",
      "4 4 2 5\n",
      "5 5 1 6\n"
     ]
    }
   ],
   "source": [
    "%%R\n",
    "\n",
    "# Creating a DataFrame\n",
    "df = data.frame(A = 1:5,\n",
    "                B = 5:1,\n",
    "                C = 2:6)\n",
    "                \n",
    "# Condition: Select rows where column 'A' is greater than 2\n",
    "selected_rows = df[df$A > 2, ]\n",
    "print(selected_rows)\n",
    "\n",
    "# Condition: Select rows where 'A' is greater than 2 and 'B' is less than 5\n",
    "selected_rows = df[df$A > 2 & df$B < 5, ]\n",
    "print(selected_rows)\n",
    "\n",
    "# which()\n",
    "\n",
    "ind <- which(df$A > 2 & df$B < 5) \n",
    "selected_rows = df[ind, ]\n",
    "print(selected_rows)"
   ]
  },
  {
   "cell_type": "markdown",
   "id": "49c6cfeb",
   "metadata": {},
   "source": [
    "R has a reputation for being particularly concise and straightforward for certain types of data operations, especially those involving matrices and data frames. This is largely because R is specifically designed for statistical computing and data analysis, so operations like matrix manipulation are very streamlined.\n",
    "\n",
    "In R, functions like `rbind()` and `cbind()` are directly tailored for adding rows and columns to matrices, making the syntax very clean and intuitive for these operations. This focus on data-centric tasks is one of the strengths of R and a reason why it's so popular in the statistics and data science communities.\n",
    "\n",
    "Python, being a more general-purpose language, can require more verbose code for the same operations, particularly when using libraries like NumPy for numerical computing. However, Python's broad applicability across different domains, from web development to machine learning, makes it a versatile choice.\n",
    "\n",
    "Both languages have their strengths, and the choice often depends on the specific needs and context of the task at hand. For pure data analysis and statistical work, R might be more convenient, while Python offers greater flexibility for a wide range of applications."
   ]
  },
  {
   "cell_type": "code",
   "execution_count": 54,
   "id": "1aa67396",
   "metadata": {},
   "outputs": [
    {
     "name": "stdout",
     "output_type": "stream",
     "text": [
      "            co\n",
      "  1 4  7 19.00\n",
      "  2 5  8  0.57\n",
      "  3 6  9 22.00\n",
      "r 1 1 -5 42.00\n"
     ]
    }
   ],
   "source": [
    "%%R\n",
    "\n",
    "mat <- matrix(1:9, 3, 3)\n",
    "r <- c(1,1,-5)\n",
    "co <- c(19, 0.57, 22, 42)\n",
    "\n",
    "mat1 <- rbind(mat, r)\n",
    "mat2 <- cbind(mat1, co)\n",
    "mat2"
   ]
  },
  {
   "cell_type": "code",
   "execution_count": 2,
   "id": "f69f77f2",
   "metadata": {},
   "outputs": [
    {
     "name": "stdout",
     "output_type": "stream",
     "text": [
      "Original Matrix:\n",
      " [[1 2 3]\n",
      " [4 5 6]\n",
      " [7 8 9]]\n",
      "Matrix with New Row:\n",
      " [[ 1  2  3]\n",
      " [ 4  5  6]\n",
      " [ 7  8  9]\n",
      " [ 1  1 -5]]\n",
      "Matrix with New Row and Column:\n",
      " [[ 1.    2.    3.   19.  ]\n",
      " [ 4.    5.    6.    0.57]\n",
      " [ 7.    8.    9.   22.  ]\n",
      " [ 1.    1.   -5.   42.  ]]\n"
     ]
    }
   ],
   "source": [
    "import numpy as np\n",
    "\n",
    "# Create a 3x3 matrix\n",
    "mat = np.array([[1, 2, 3],\n",
    "                [4, 5, 6],\n",
    "                [7, 8, 9]])\n",
    "\n",
    "# New row and column to be added\n",
    "r = np.array([1, 1, -5])\n",
    "co = np.array([19, 0.57, 22, 42])\n",
    "\n",
    "# Add the new row to the bottom of the matrix\n",
    "mat1 = np.vstack([mat, r])\n",
    "\n",
    "# Add the new column to the right of the matrix\n",
    "# First, reshape 'co' to be a 4x1 column vector\n",
    "co = co.reshape(-1, 1)  # '-1' lets NumPy automatically calculate the size\n",
    "mat2 = np.hstack([mat1, co])\n",
    "\n",
    "print(\"Original Matrix:\\n\", mat)\n",
    "print(\"Matrix with New Row:\\n\", mat1)\n",
    "print(\"Matrix with New Row and Column:\\n\", mat2)\n"
   ]
  },
  {
   "cell_type": "markdown",
   "id": "ba7baf0b",
   "metadata": {},
   "source": [
    "In Python, the append method for lists and the `numpy.append` function for NumPy arrays work differently than the `vstack` and `hstack` functions we used above. Let's clarify the differences:\n",
    "\n",
    "List append Method in Python:\n",
    "- The append method is used with Python lists to add a single element to the end of the list.\n",
    "- It does not return a new list; rather, it modifies the existing list in place.\n",
    "- It cannot be used directly for adding a row or a column to a 2D list or a NumPy array in the way `vstack` or `hstack` do."
   ]
  },
  {
   "cell_type": "code",
   "execution_count": null,
   "id": "d6b31655",
   "metadata": {},
   "outputs": [],
   "source": [
    "my_list = [1, 2, 3]\n",
    "my_list.append(4)  # Adds 4 to the end of my_list\n",
    "print(my_list)  # Output: [1, 2, 3, 4]"
   ]
  },
  {
   "cell_type": "markdown",
   "id": "7d21f23d",
   "metadata": {},
   "source": [
    "NumPy append Function:\n",
    "- `numpy.append` adds values to the end of an array.\n",
    "- Unlike list append, it returns a new array and does not modify the original array in place.\n",
    "- It flattens the array by default if you don't specify the axis, which means it will return a 1D array even if you append a row or a column to a 2D array.\n",
    "- To use it for adding a row or a column without flattening, you need to specify the axis parameter."
   ]
  },
  {
   "cell_type": "code",
   "execution_count": 58,
   "id": "83a8ab05",
   "metadata": {},
   "outputs": [
    {
     "name": "stdout",
     "output_type": "stream",
     "text": [
      "[[1 2 3]\n",
      " [4 5 6]\n",
      " [7 8 9]]\n"
     ]
    },
    {
     "ename": "ValueError",
     "evalue": "all the input array dimensions for the concatenation axis must match exactly, but along dimension 0, the array at index 0 has size 2 and the array at index 1 has size 1",
     "output_type": "error",
     "traceback": [
      "\u001b[0;31m---------------------------------------------------------------------------\u001b[0m",
      "\u001b[0;31mValueError\u001b[0m                                Traceback (most recent call last)",
      "Cell \u001b[0;32mIn[58], line 12\u001b[0m\n\u001b[1;32m     10\u001b[0m \u001b[38;5;66;03m# Appending a new column without flattening\u001b[39;00m\n\u001b[1;32m     11\u001b[0m new_col \u001b[38;5;241m=\u001b[39m np\u001b[38;5;241m.\u001b[39marray([\u001b[38;5;241m7\u001b[39m, \u001b[38;5;241m8\u001b[39m])\n\u001b[0;32m---> 12\u001b[0m mat_with_col \u001b[38;5;241m=\u001b[39m \u001b[43mnp\u001b[49m\u001b[38;5;241;43m.\u001b[39;49m\u001b[43mappend\u001b[49m\u001b[43m(\u001b[49m\u001b[43mmat\u001b[49m\u001b[43m,\u001b[49m\u001b[43m \u001b[49m\u001b[43m[\u001b[49m\u001b[43mnew_col\u001b[49m\u001b[43m]\u001b[49m\u001b[43m,\u001b[49m\u001b[43m \u001b[49m\u001b[43maxis\u001b[49m\u001b[38;5;241;43m=\u001b[39;49m\u001b[38;5;241;43m1\u001b[39;49m\u001b[43m)\u001b[49m\n\u001b[1;32m     13\u001b[0m \u001b[38;5;28mprint\u001b[39m(mat_with_col)\n",
      "File \u001b[0;32m<__array_function__ internals>:180\u001b[0m, in \u001b[0;36mappend\u001b[0;34m(*args, **kwargs)\u001b[0m\n",
      "File \u001b[0;32m~/anaconda3/lib/python3.10/site-packages/numpy/lib/function_base.py:5444\u001b[0m, in \u001b[0;36mappend\u001b[0;34m(arr, values, axis)\u001b[0m\n\u001b[1;32m   5442\u001b[0m     values \u001b[38;5;241m=\u001b[39m ravel(values)\n\u001b[1;32m   5443\u001b[0m     axis \u001b[38;5;241m=\u001b[39m arr\u001b[38;5;241m.\u001b[39mndim\u001b[38;5;241m-\u001b[39m\u001b[38;5;241m1\u001b[39m\n\u001b[0;32m-> 5444\u001b[0m \u001b[38;5;28;01mreturn\u001b[39;00m \u001b[43mconcatenate\u001b[49m\u001b[43m(\u001b[49m\u001b[43m(\u001b[49m\u001b[43marr\u001b[49m\u001b[43m,\u001b[49m\u001b[43m \u001b[49m\u001b[43mvalues\u001b[49m\u001b[43m)\u001b[49m\u001b[43m,\u001b[49m\u001b[43m \u001b[49m\u001b[43maxis\u001b[49m\u001b[38;5;241;43m=\u001b[39;49m\u001b[43maxis\u001b[49m\u001b[43m)\u001b[49m\n",
      "File \u001b[0;32m<__array_function__ internals>:180\u001b[0m, in \u001b[0;36mconcatenate\u001b[0;34m(*args, **kwargs)\u001b[0m\n",
      "\u001b[0;31mValueError\u001b[0m: all the input array dimensions for the concatenation axis must match exactly, but along dimension 0, the array at index 0 has size 2 and the array at index 1 has size 1"
     ]
    }
   ],
   "source": [
    "mat = np.array([[1, 2, 3], [4, 5, 6]])\n",
    "new_row = np.array([7, 8, 9])\n",
    "\n",
    "# Appending a new row without flattening\n",
    "mat_with_row = np.append(mat, [new_row], axis=0)\n",
    "print(mat_with_row)\n",
    "\n",
    "new_row = np.array([7, 8, 9])\n",
    "\n",
    "# Appending a new column without flattening\n",
    "new_col = np.array([7, 8])\n",
    "mat_with_col = np.append(mat, [new_col], axis=1)\n",
    "print(mat_with_col)"
   ]
  },
  {
   "cell_type": "markdown",
   "id": "b34efa28",
   "metadata": {},
   "source": [
    "For column-wise appending (along `axis=1`), as in appending `new_col` to `mat`, you often need to reshape the array to match the number of rows in `mat`, especially if `new_col` starts as a 1D array. But for row-wise appending (along `axis=0`), as long as the number of elements in the row being appended matches the number of columns in the matrix, additional reshaping isn't necessary.\n",
    "\n",
    "Also note that, in our row-wise appending above, when appending `new_row` to mat using `np.append`, the square brackets `[new_row]` are used to ensure that `new_row` is treated as a two-dimensional array with one row, rather than as a one-dimensional array. This is important for aligning the dimensions correctly when appending along `axis=0` (the row axis)."
   ]
  },
  {
   "cell_type": "code",
   "execution_count": 59,
   "id": "25f3cb99",
   "metadata": {},
   "outputs": [
    {
     "name": "stdout",
     "output_type": "stream",
     "text": [
      "[[1 2 3 7]\n",
      " [4 5 6 8]]\n"
     ]
    }
   ],
   "source": [
    "new_col = np.array([7, 8])\n",
    "mat_with_col = np.append(mat, new_col.reshape(2, 1), axis=1)\n",
    "print(mat_with_col)"
   ]
  },
  {
   "cell_type": "markdown",
   "id": "92b1103f",
   "metadata": {},
   "source": [
    "## Squences and Slice Notations\n",
    "The function `np.linspace()` can be used to create a sequence of numbers."
   ]
  },
  {
   "cell_type": "code",
   "execution_count": 32,
   "id": "b6dcc792",
   "metadata": {},
   "outputs": [
    {
     "data": {
      "text/plain": [
       "array([ 0.,  1.,  2.,  3.,  4.,  5.,  6.,  7.,  8.,  9., 10.])"
      ]
     },
     "execution_count": 32,
     "metadata": {},
     "output_type": "execute_result"
    }
   ],
   "source": [
    "seq1 = np.linspace(0, 10, 11)\n",
    "seq1"
   ]
  },
  {
   "cell_type": "markdown",
   "id": "faa09d22",
   "metadata": {},
   "source": [
    "The function `np.arange()` returns a sequence of numbers spaced out by `step`. If `step` is not specified, then a default value of 1 is used. Let’s create a sequence that starts at 0 and ends at 10."
   ]
  },
  {
   "cell_type": "code",
   "execution_count": 33,
   "id": "3fbb3eef",
   "metadata": {},
   "outputs": [
    {
     "data": {
      "text/plain": [
       "array([0, 1, 2, 3, 4, 5, 6, 7, 8, 9])"
      ]
     },
     "execution_count": 33,
     "metadata": {},
     "output_type": "execute_result"
    }
   ],
   "source": [
    "seq2 = np.arange(0,10)\n",
    "seq2"
   ]
  },
  {
   "cell_type": "markdown",
   "id": "2edd64ea",
   "metadata": {},
   "source": [
    "Why isn’t 10 output above? This has to do with slice notation in Python. Slice notation is used to index sequences such as lists, tuples and arrays. Suppose we want to retrieve the fourth through sixth (inclusive) entries of a string. We obtain a slice of the string using the indexing notation `[3:6]`"
   ]
  },
  {
   "cell_type": "code",
   "execution_count": 34,
   "id": "222e4a42",
   "metadata": {},
   "outputs": [
    {
     "data": {
      "text/plain": [
       "'lo '"
      ]
     },
     "execution_count": 34,
     "metadata": {},
     "output_type": "execute_result"
    }
   ],
   "source": [
    "\"hello world\"[3:6]"
   ]
  },
  {
   "cell_type": "markdown",
   "id": "587d6fca",
   "metadata": {},
   "source": [
    "In the code block above, the notation `3:6` is shorthand for `slice(3,6)` when used inside `[]`."
   ]
  },
  {
   "cell_type": "code",
   "execution_count": 35,
   "id": "3f765a8c",
   "metadata": {},
   "outputs": [
    {
     "data": {
      "text/plain": [
       "'lo '"
      ]
     },
     "execution_count": 35,
     "metadata": {},
     "output_type": "execute_result"
    }
   ],
   "source": [
    "\"hello world\"[slice(3,6)]"
   ]
  },
  {
   "cell_type": "markdown",
   "id": "c577466f",
   "metadata": {},
   "source": [
    "You might have expected `slice(3,6)` to output the fourth through seventh characters in the text string (recalling that Python begins its indexing at zero), but instead it output the fourth through sixth. This also explains why the earlier `np.arange(0, 10)` command output only the integers from 0 to 9. See the documentation slice? for useful options in creating slices"
   ]
  },
  {
   "cell_type": "code",
   "execution_count": 36,
   "id": "1ff229d6",
   "metadata": {},
   "outputs": [
    {
     "data": {
      "text/plain": [
       "array([[ 0,  1,  2,  3],\n",
       "       [ 4,  5,  6,  7],\n",
       "       [ 8,  9, 10, 11],\n",
       "       [12, 13, 14, 15]])"
      ]
     },
     "execution_count": 36,
     "metadata": {},
     "output_type": "execute_result"
    }
   ],
   "source": [
    "A = np.array(np.arange(16)).reshape((4, 4))\n",
    "A"
   ]
  },
  {
   "cell_type": "markdown",
   "id": "181dd1a1",
   "metadata": {},
   "source": [
    "# Graphics\n",
    "In Python, common practice is to use the library `matplotlib` for graphics. However, since Python was not written with data analysis in mind, the no- tion of plotting is not intrinsic to the language. We will use the `subplots()` function from `matplotlib.pyplot` to create a figure and the axes onto which we plot our data. For many more examples of how to make plots in Python, readers are encouraged to visit matplotlib.org/stable/gallery/."
   ]
  },
  {
   "cell_type": "code",
   "execution_count": 5,
   "id": "fb6b5d84",
   "metadata": {},
   "outputs": [
    {
     "data": {
      "image/png": "[encoded data removed]",
      "text/plain": [
       "<Figure size 500x500 with 1 Axes>"
      ]
     },
     "metadata": {},
     "output_type": "display_data"
    }
   ],
   "source": [
    "from matplotlib.pyplot import subplots\n",
    "\n",
    "# Create a random number generator instance\n",
    "rng = np.random.default_rng()\n",
    "\n",
    "fig, ax = subplots(figsize=(5, 5))\n",
    "x = rng.standard_normal(100)\n",
    "y = rng.standard_normal(100)\n",
    "ax.plot(x, y)"
   ]
  },
  {
   "cell_type": "code",
   "execution_count": 6,
   "id": "b4730fa4",
   "metadata": {},
   "outputs": [
    {
     "data": {
      "image/png": "[encoded data removed]",
      "text/plain": [
       "<Figure size 500x500 with 1 Axes>"
      ]
     },
     "metadata": {},
     "output_type": "display_data"
    }
   ],
   "source": [
    "fig, ax = subplots(figsize=(5, 5))\n",
    "ax.plot(x, y, 'o')"
   ]
  },
  {
   "cell_type": "code",
   "execution_count": 8,
   "id": "39ab840a",
   "metadata": {},
   "outputs": [
    {
     "data": {
      "image/png": "[encoded data removed]",
      "text/plain": [
       "<Figure size 500x500 with 1 Axes>"
      ]
     },
     "metadata": {},
     "output_type": "display_data"
    }
   ],
   "source": [
    "fig, ax = subplots(figsize=(5, 5))\n",
    "ax.scatter(x, y, marker='o')\n",
    "ax.set_xlabel(\"this is the x-axis\")\n",
    "ax.set_ylabel(\"this is the y-axis\")\n",
    "ax.set_title(\"Plot of X vs Y\");"
   ]
  },
  {
   "cell_type": "code",
   "execution_count": 27,
   "id": "78dc282f",
   "metadata": {},
   "outputs": [
    {
     "data": {
      "text/plain": [
       "<Figure size 640x480 with 0 Axes>"
      ]
     },
     "metadata": {},
     "output_type": "display_data"
    },
    {
     "data": {
      "image/png": "[encoded data removed]",
      "text/plain": [
       "<Figure size 1500x500 with 4 Axes>"
      ]
     },
     "metadata": {},
     "output_type": "display_data"
    }
   ],
   "source": [
    "import matplotlib.pyplot as plt\n",
    "\n",
    "# Clear any existing plots\n",
    "plt.clf()\n",
    "\n",
    "# Create a random number generator instance\n",
    "rng = np.random.default_rng()\n",
    "\n",
    "# Generate random data\n",
    "x = rng.standard_normal(100)\n",
    "y = rng.standard_normal(100)\n",
    "z = rng.standard_normal(100)\n",
    "w = rng.standard_normal(100)\n",
    "\n",
    "# Create a 2x2 grid of subplots\n",
    "fig, axes = subplots(nrows=2, ncols=2, figsize=(15, 5))\n",
    "\n",
    "# Plot in the first subplot\n",
    "axes[0,0].plot(x, y, 'o') \n",
    "axes[1,0].plot(x, y, '+')\n",
    "# Scatter plot in the second subplot\n",
    "axes[0,1].scatter(z, w, marker='+')\n",
    "axes[1,1].scatter(z, w, marker='o')\n",
    "plt.show()"
   ]
  },
  {
   "cell_type": "markdown",
   "id": "d6e27d1f",
   "metadata": {},
   "source": [
    "# Pandas\n",
    "Data sets often contain different types of data, and may have names as- sociated with the rows or columns. For these reasons, they typically are best accommodated using a data frame. We can think of a data frame as a sequence of arrays of identical length; these are the columns. Entries in the different arrays can be combined to form a row. The pandas library can be used to create and work with data frame objects."
   ]
  },
  {
   "cell_type": "markdown",
   "id": "1f5045fa",
   "metadata": {},
   "source": [
    "#### Reading in a Data Set\n",
    "The first step of most analyses involves importing a data set into Python. Before attempting to load a data set, we must make sure that Python knows where to find the file containing it. If the file is in the same location as this notebook file, then we are all set. Otherwise, the command `os.chdir()` can be used to change directory. (You will need to call `import os` before calling `os.chdir()`.)  We will begin by reading in `Auto.csv`. This is a comma-separated file, and can be read in using `pd.read_csv()`:"
   ]
  },
  {
   "cell_type": "code",
   "execution_count": 3,
   "id": "34abc1e3",
   "metadata": {},
   "outputs": [
    {
     "data": {
      "text/html": [
       "<div>\n",
       "<style scoped>\n",
       "    .dataframe tbody tr th:only-of-type {\n",
       "        vertical-align: middle;\n",
       "    }\n",
       "\n",
       "    .dataframe tbody tr th {\n",
       "        vertical-align: top;\n",
       "    }\n",
       "\n",
       "    .dataframe thead th {\n",
       "        text-align: right;\n",
       "    }\n",
       "</style>\n",
       "<table border=\"1\" class=\"dataframe\">\n",
       "  <thead>\n",
       "    <tr style=\"text-align: right;\">\n",
       "      <th></th>\n",
       "      <th>mpg</th>\n",
       "      <th>cylinders</th>\n",
       "      <th>displacement</th>\n",
       "      <th>horsepower</th>\n",
       "      <th>weight</th>\n",
       "      <th>acceleration</th>\n",
       "      <th>year</th>\n",
       "      <th>origin</th>\n",
       "      <th>name</th>\n",
       "    </tr>\n",
       "  </thead>\n",
       "  <tbody>\n",
       "    <tr>\n",
       "      <th>0</th>\n",
       "      <td>18.0</td>\n",
       "      <td>8</td>\n",
       "      <td>307.0</td>\n",
       "      <td>130</td>\n",
       "      <td>3504</td>\n",
       "      <td>12.0</td>\n",
       "      <td>70</td>\n",
       "      <td>1</td>\n",
       "      <td>chevrolet chevelle malibu</td>\n",
       "    </tr>\n",
       "    <tr>\n",
       "      <th>1</th>\n",
       "      <td>15.0</td>\n",
       "      <td>8</td>\n",
       "      <td>350.0</td>\n",
       "      <td>165</td>\n",
       "      <td>3693</td>\n",
       "      <td>11.5</td>\n",
       "      <td>70</td>\n",
       "      <td>1</td>\n",
       "      <td>buick skylark 320</td>\n",
       "    </tr>\n",
       "    <tr>\n",
       "      <th>2</th>\n",
       "      <td>18.0</td>\n",
       "      <td>8</td>\n",
       "      <td>318.0</td>\n",
       "      <td>150</td>\n",
       "      <td>3436</td>\n",
       "      <td>11.0</td>\n",
       "      <td>70</td>\n",
       "      <td>1</td>\n",
       "      <td>plymouth satellite</td>\n",
       "    </tr>\n",
       "    <tr>\n",
       "      <th>3</th>\n",
       "      <td>16.0</td>\n",
       "      <td>8</td>\n",
       "      <td>304.0</td>\n",
       "      <td>150</td>\n",
       "      <td>3433</td>\n",
       "      <td>12.0</td>\n",
       "      <td>70</td>\n",
       "      <td>1</td>\n",
       "      <td>amc rebel sst</td>\n",
       "    </tr>\n",
       "    <tr>\n",
       "      <th>4</th>\n",
       "      <td>17.0</td>\n",
       "      <td>8</td>\n",
       "      <td>302.0</td>\n",
       "      <td>140</td>\n",
       "      <td>3449</td>\n",
       "      <td>10.5</td>\n",
       "      <td>70</td>\n",
       "      <td>1</td>\n",
       "      <td>ford torino</td>\n",
       "    </tr>\n",
       "    <tr>\n",
       "      <th>...</th>\n",
       "      <td>...</td>\n",
       "      <td>...</td>\n",
       "      <td>...</td>\n",
       "      <td>...</td>\n",
       "      <td>...</td>\n",
       "      <td>...</td>\n",
       "      <td>...</td>\n",
       "      <td>...</td>\n",
       "      <td>...</td>\n",
       "    </tr>\n",
       "    <tr>\n",
       "      <th>392</th>\n",
       "      <td>27.0</td>\n",
       "      <td>4</td>\n",
       "      <td>140.0</td>\n",
       "      <td>86</td>\n",
       "      <td>2790</td>\n",
       "      <td>15.6</td>\n",
       "      <td>82</td>\n",
       "      <td>1</td>\n",
       "      <td>ford mustang gl</td>\n",
       "    </tr>\n",
       "    <tr>\n",
       "      <th>393</th>\n",
       "      <td>44.0</td>\n",
       "      <td>4</td>\n",
       "      <td>97.0</td>\n",
       "      <td>52</td>\n",
       "      <td>2130</td>\n",
       "      <td>24.6</td>\n",
       "      <td>82</td>\n",
       "      <td>2</td>\n",
       "      <td>vw pickup</td>\n",
       "    </tr>\n",
       "    <tr>\n",
       "      <th>394</th>\n",
       "      <td>32.0</td>\n",
       "      <td>4</td>\n",
       "      <td>135.0</td>\n",
       "      <td>84</td>\n",
       "      <td>2295</td>\n",
       "      <td>11.6</td>\n",
       "      <td>82</td>\n",
       "      <td>1</td>\n",
       "      <td>dodge rampage</td>\n",
       "    </tr>\n",
       "    <tr>\n",
       "      <th>395</th>\n",
       "      <td>28.0</td>\n",
       "      <td>4</td>\n",
       "      <td>120.0</td>\n",
       "      <td>79</td>\n",
       "      <td>2625</td>\n",
       "      <td>18.6</td>\n",
       "      <td>82</td>\n",
       "      <td>1</td>\n",
       "      <td>ford ranger</td>\n",
       "    </tr>\n",
       "    <tr>\n",
       "      <th>396</th>\n",
       "      <td>31.0</td>\n",
       "      <td>4</td>\n",
       "      <td>119.0</td>\n",
       "      <td>82</td>\n",
       "      <td>2720</td>\n",
       "      <td>19.4</td>\n",
       "      <td>82</td>\n",
       "      <td>1</td>\n",
       "      <td>chevy s-10</td>\n",
       "    </tr>\n",
       "  </tbody>\n",
       "</table>\n",
       "<p>397 rows × 9 columns</p>\n",
       "</div>"
      ],
      "text/plain": [
       "      mpg  cylinders  displacement horsepower  weight  acceleration  year  \\\n",
       "0    18.0          8         307.0        130    3504          12.0    70   \n",
       "1    15.0          8         350.0        165    3693          11.5    70   \n",
       "2    18.0          8         318.0        150    3436          11.0    70   \n",
       "3    16.0          8         304.0        150    3433          12.0    70   \n",
       "4    17.0          8         302.0        140    3449          10.5    70   \n",
       "..    ...        ...           ...        ...     ...           ...   ...   \n",
       "392  27.0          4         140.0         86    2790          15.6    82   \n",
       "393  44.0          4          97.0         52    2130          24.6    82   \n",
       "394  32.0          4         135.0         84    2295          11.6    82   \n",
       "395  28.0          4         120.0         79    2625          18.6    82   \n",
       "396  31.0          4         119.0         82    2720          19.4    82   \n",
       "\n",
       "     origin                       name  \n",
       "0         1  chevrolet chevelle malibu  \n",
       "1         1          buick skylark 320  \n",
       "2         1         plymouth satellite  \n",
       "3         1              amc rebel sst  \n",
       "4         1                ford torino  \n",
       "..      ...                        ...  \n",
       "392       1            ford mustang gl  \n",
       "393       2                  vw pickup  \n",
       "394       1              dodge rampage  \n",
       "395       1                ford ranger  \n",
       "396       1                 chevy s-10  \n",
       "\n",
       "[397 rows x 9 columns]"
      ]
     },
     "execution_count": 3,
     "metadata": {},
     "output_type": "execute_result"
    }
   ],
   "source": [
    "import numpy as np\n",
    "import pandas as pd\n",
    "Auto = pd.read_csv(\"Auto.csv\")\n",
    "Auto    "
   ]
  },
  {
   "cell_type": "code",
   "execution_count": 2,
   "id": "da66468d",
   "metadata": {
    "scrolled": true
   },
   "outputs": [
    {
     "data": {
      "text/plain": [
       "0      130\n",
       "1      165\n",
       "2      150\n",
       "3      150\n",
       "4      140\n",
       "      ... \n",
       "392     86\n",
       "393     52\n",
       "394     84\n",
       "395     79\n",
       "396     82\n",
       "Name: horsepower, Length: 397, dtype: object"
      ]
     },
     "execution_count": 2,
     "metadata": {},
     "output_type": "execute_result"
    }
   ],
   "source": [
    "Auto['horsepower']"
   ]
  },
  {
   "cell_type": "code",
   "execution_count": 5,
   "id": "8f8e4968",
   "metadata": {
    "scrolled": true
   },
   "outputs": [
    {
     "data": {
      "text/plain": [
       "array(['100', '102', '103', '105', '107', '108', '110', '112', '113',\n",
       "       '115', '116', '120', '122', '125', '129', '130', '132', '133',\n",
       "       '135', '137', '138', '139', '140', '142', '145', '148', '149',\n",
       "       '150', '152', '153', '155', '158', '160', '165', '167', '170',\n",
       "       '175', '180', '190', '193', '198', '200', '208', '210', '215',\n",
       "       '220', '225', '230', '46', '48', '49', '52', '53', '54', '58',\n",
       "       '60', '61', '62', '63', '64', '65', '66', '67', '68', '69', '70',\n",
       "       '71', '72', '74', '75', '76', '77', '78', '79', '80', '81', '82',\n",
       "       '83', '84', '85', '86', '87', '88', '89', '90', '91', '92', '93',\n",
       "       '94', '95', '96', '97', '98', '?'], dtype=object)"
      ]
     },
     "execution_count": 5,
     "metadata": {},
     "output_type": "execute_result"
    }
   ],
   "source": [
    "np.unique(Auto['horsepower'])"
   ]
  },
  {
   "cell_type": "markdown",
   "id": "0ab746ee",
   "metadata": {},
   "source": [
    "We see the value `?` is being used to encode missing values."
   ]
  },
  {
   "cell_type": "code",
   "execution_count": 6,
   "id": "b582a069",
   "metadata": {},
   "outputs": [
    {
     "data": {
      "text/plain": [
       "array([ 46.,  48.,  49.,  52.,  53.,  54.,  58.,  60.,  61.,  62.,  63.,\n",
       "        64.,  65.,  66.,  67.,  68.,  69.,  70.,  71.,  72.,  74.,  75.,\n",
       "        76.,  77.,  78.,  79.,  80.,  81.,  82.,  83.,  84.,  85.,  86.,\n",
       "        87.,  88.,  89.,  90.,  91.,  92.,  93.,  94.,  95.,  96.,  97.,\n",
       "        98., 100., 102., 103., 105., 107., 108., 110., 112., 113., 115.,\n",
       "       116., 120., 122., 125., 129., 130., 132., 133., 135., 137., 138.,\n",
       "       139., 140., 142., 145., 148., 149., 150., 152., 153., 155., 158.,\n",
       "       160., 165., 167., 170., 175., 180., 190., 193., 198., 200., 208.,\n",
       "       210., 215., 220., 225., 230.,  nan])"
      ]
     },
     "execution_count": 6,
     "metadata": {},
     "output_type": "execute_result"
    }
   ],
   "source": [
    "Auto = pd.read_csv(\"Auto.csv\",\n",
    "                  na_values = [\"?\"])\n",
    "np.unique(Auto['horsepower'])"
   ]
  },
  {
   "cell_type": "code",
   "execution_count": 7,
   "id": "3285cdf0",
   "metadata": {},
   "outputs": [
    {
     "data": {
      "text/plain": [
       "40952.0"
      ]
     },
     "execution_count": 7,
     "metadata": {},
     "output_type": "execute_result"
    }
   ],
   "source": [
    "Auto['horsepower'].sum()"
   ]
  },
  {
   "cell_type": "code",
   "execution_count": 33,
   "id": "f2e1e6de",
   "metadata": {},
   "outputs": [
    {
     "data": {
      "text/plain": [
       "(397, 9)"
      ]
     },
     "execution_count": 33,
     "metadata": {},
     "output_type": "execute_result"
    }
   ],
   "source": [
    "Auto.shape"
   ]
  },
  {
   "cell_type": "code",
   "execution_count": 35,
   "id": "c6f1c49f",
   "metadata": {},
   "outputs": [
    {
     "data": {
      "text/plain": [
       "5"
      ]
     },
     "execution_count": 35,
     "metadata": {},
     "output_type": "execute_result"
    }
   ],
   "source": [
    "Auto.isna().any(axis=1).sum()"
   ]
  },
  {
   "cell_type": "markdown",
   "id": "96c601b0",
   "metadata": {},
   "source": [
    "There are various ways to deal with missing data. In this case, since only five of the rows contain missing observations, we choose to use the `Auto.dropna()` method to simply remove these rows."
   ]
  },
  {
   "cell_type": "code",
   "execution_count": 4,
   "id": "3f59c7b2",
   "metadata": {},
   "outputs": [
    {
     "data": {
      "text/plain": [
       "(397, 9)"
      ]
     },
     "execution_count": 4,
     "metadata": {},
     "output_type": "execute_result"
    }
   ],
   "source": [
    "Auton = Auto.dropna()\n",
    "Auton.shape"
   ]
  },
  {
   "cell_type": "code",
   "execution_count": 40,
   "id": "2b3c2143",
   "metadata": {
    "scrolled": true
   },
   "outputs": [
    {
     "data": {
      "text/plain": [
       "Index(['mpg', 'cylinders', 'displacement', 'horsepower', 'weight',\n",
       "       'acceleration', 'year', 'origin', 'name'],\n",
       "      dtype='object')"
      ]
     },
     "execution_count": 40,
     "metadata": {},
     "output_type": "execute_result"
    }
   ],
   "source": [
    "Auton.columns"
   ]
  },
  {
   "cell_type": "markdown",
   "id": "0794c0fb",
   "metadata": {},
   "source": [
    "Accessing the rows and columns of a data frame is similar, but not identical, to accessing the rows and columns of an array. Recall that the first argument to the `[]` method is always applied to the rows of the array. Similarly, passing in a slice to the `[]` method creates a data frame whose rows are determined by the slice:"
   ]
  },
  {
   "cell_type": "code",
   "execution_count": 38,
   "id": "69771cf5",
   "metadata": {},
   "outputs": [
    {
     "data": {
      "text/html": [
       "<div>\n",
       "<style scoped>\n",
       "    .dataframe tbody tr th:only-of-type {\n",
       "        vertical-align: middle;\n",
       "    }\n",
       "\n",
       "    .dataframe tbody tr th {\n",
       "        vertical-align: top;\n",
       "    }\n",
       "\n",
       "    .dataframe thead th {\n",
       "        text-align: right;\n",
       "    }\n",
       "</style>\n",
       "<table border=\"1\" class=\"dataframe\">\n",
       "  <thead>\n",
       "    <tr style=\"text-align: right;\">\n",
       "      <th></th>\n",
       "      <th>mpg</th>\n",
       "      <th>cylinders</th>\n",
       "      <th>displacement</th>\n",
       "      <th>horsepower</th>\n",
       "      <th>weight</th>\n",
       "      <th>acceleration</th>\n",
       "      <th>year</th>\n",
       "      <th>origin</th>\n",
       "      <th>name</th>\n",
       "    </tr>\n",
       "  </thead>\n",
       "  <tbody>\n",
       "    <tr>\n",
       "      <th>0</th>\n",
       "      <td>18.0</td>\n",
       "      <td>8</td>\n",
       "      <td>307.0</td>\n",
       "      <td>130.0</td>\n",
       "      <td>3504</td>\n",
       "      <td>12.0</td>\n",
       "      <td>70</td>\n",
       "      <td>1</td>\n",
       "      <td>chevrolet chevelle malibu</td>\n",
       "    </tr>\n",
       "    <tr>\n",
       "      <th>1</th>\n",
       "      <td>15.0</td>\n",
       "      <td>8</td>\n",
       "      <td>350.0</td>\n",
       "      <td>165.0</td>\n",
       "      <td>3693</td>\n",
       "      <td>11.5</td>\n",
       "      <td>70</td>\n",
       "      <td>1</td>\n",
       "      <td>buick skylark 320</td>\n",
       "    </tr>\n",
       "    <tr>\n",
       "      <th>2</th>\n",
       "      <td>18.0</td>\n",
       "      <td>8</td>\n",
       "      <td>318.0</td>\n",
       "      <td>150.0</td>\n",
       "      <td>3436</td>\n",
       "      <td>11.0</td>\n",
       "      <td>70</td>\n",
       "      <td>1</td>\n",
       "      <td>plymouth satellite</td>\n",
       "    </tr>\n",
       "  </tbody>\n",
       "</table>\n",
       "</div>"
      ],
      "text/plain": [
       "    mpg  cylinders  displacement  horsepower  weight  acceleration  year  \\\n",
       "0  18.0          8         307.0       130.0    3504          12.0    70   \n",
       "1  15.0          8         350.0       165.0    3693          11.5    70   \n",
       "2  18.0          8         318.0       150.0    3436          11.0    70   \n",
       "\n",
       "   origin                       name  \n",
       "0       1  chevrolet chevelle malibu  \n",
       "1       1          buick skylark 320  \n",
       "2       1         plymouth satellite  "
      ]
     },
     "execution_count": 38,
     "metadata": {},
     "output_type": "execute_result"
    }
   ],
   "source": [
    "Auton[:3]"
   ]
  },
  {
   "cell_type": "code",
   "execution_count": 45,
   "id": "9fa5eb83",
   "metadata": {},
   "outputs": [
    {
     "data": {
      "text/html": [
       "<div>\n",
       "<style scoped>\n",
       "    .dataframe tbody tr th:only-of-type {\n",
       "        vertical-align: middle;\n",
       "    }\n",
       "\n",
       "    .dataframe tbody tr th {\n",
       "        vertical-align: top;\n",
       "    }\n",
       "\n",
       "    .dataframe thead th {\n",
       "        text-align: right;\n",
       "    }\n",
       "</style>\n",
       "<table border=\"1\" class=\"dataframe\">\n",
       "  <thead>\n",
       "    <tr style=\"text-align: right;\">\n",
       "      <th></th>\n",
       "      <th>mpg</th>\n",
       "      <th>cylinders</th>\n",
       "      <th>displacement</th>\n",
       "      <th>horsepower</th>\n",
       "      <th>weight</th>\n",
       "      <th>acceleration</th>\n",
       "      <th>year</th>\n",
       "      <th>origin</th>\n",
       "      <th>name</th>\n",
       "    </tr>\n",
       "  </thead>\n",
       "  <tbody>\n",
       "    <tr>\n",
       "      <th>44</th>\n",
       "      <td>13.0</td>\n",
       "      <td>8</td>\n",
       "      <td>400.0</td>\n",
       "      <td>175.0</td>\n",
       "      <td>5140</td>\n",
       "      <td>12.0</td>\n",
       "      <td>71</td>\n",
       "      <td>1</td>\n",
       "      <td>pontiac safari (sw)</td>\n",
       "    </tr>\n",
       "  </tbody>\n",
       "</table>\n",
       "</div>"
      ],
      "text/plain": [
       "     mpg  cylinders  displacement  horsepower  weight  acceleration  year  \\\n",
       "44  13.0          8         400.0       175.0    5140          12.0    71   \n",
       "\n",
       "    origin                 name  \n",
       "44       1  pontiac safari (sw)  "
      ]
     },
     "execution_count": 45,
     "metadata": {},
     "output_type": "execute_result"
    }
   ],
   "source": [
    "# Conditional Indexing\n",
    "idx_80 = Auton['weight'] > 5000\n",
    "Auton[idx_80]"
   ]
  },
  {
   "cell_type": "markdown",
   "id": "580de419",
   "metadata": {},
   "source": [
    "If we pass in a list of strings to the `[]` method, we obtain a data frame containing the corresponding set of columns."
   ]
  },
  {
   "cell_type": "code",
   "execution_count": 46,
   "id": "42ce5221",
   "metadata": {
    "scrolled": true
   },
   "outputs": [
    {
     "data": {
      "text/html": [
       "<div>\n",
       "<style scoped>\n",
       "    .dataframe tbody tr th:only-of-type {\n",
       "        vertical-align: middle;\n",
       "    }\n",
       "\n",
       "    .dataframe tbody tr th {\n",
       "        vertical-align: top;\n",
       "    }\n",
       "\n",
       "    .dataframe thead th {\n",
       "        text-align: right;\n",
       "    }\n",
       "</style>\n",
       "<table border=\"1\" class=\"dataframe\">\n",
       "  <thead>\n",
       "    <tr style=\"text-align: right;\">\n",
       "      <th></th>\n",
       "      <th>mpg</th>\n",
       "      <th>horsepower</th>\n",
       "    </tr>\n",
       "  </thead>\n",
       "  <tbody>\n",
       "    <tr>\n",
       "      <th>0</th>\n",
       "      <td>18.0</td>\n",
       "      <td>130.0</td>\n",
       "    </tr>\n",
       "    <tr>\n",
       "      <th>1</th>\n",
       "      <td>15.0</td>\n",
       "      <td>165.0</td>\n",
       "    </tr>\n",
       "    <tr>\n",
       "      <th>2</th>\n",
       "      <td>18.0</td>\n",
       "      <td>150.0</td>\n",
       "    </tr>\n",
       "    <tr>\n",
       "      <th>3</th>\n",
       "      <td>16.0</td>\n",
       "      <td>150.0</td>\n",
       "    </tr>\n",
       "    <tr>\n",
       "      <th>4</th>\n",
       "      <td>17.0</td>\n",
       "      <td>140.0</td>\n",
       "    </tr>\n",
       "    <tr>\n",
       "      <th>...</th>\n",
       "      <td>...</td>\n",
       "      <td>...</td>\n",
       "    </tr>\n",
       "    <tr>\n",
       "      <th>392</th>\n",
       "      <td>27.0</td>\n",
       "      <td>86.0</td>\n",
       "    </tr>\n",
       "    <tr>\n",
       "      <th>393</th>\n",
       "      <td>44.0</td>\n",
       "      <td>52.0</td>\n",
       "    </tr>\n",
       "    <tr>\n",
       "      <th>394</th>\n",
       "      <td>32.0</td>\n",
       "      <td>84.0</td>\n",
       "    </tr>\n",
       "    <tr>\n",
       "      <th>395</th>\n",
       "      <td>28.0</td>\n",
       "      <td>79.0</td>\n",
       "    </tr>\n",
       "    <tr>\n",
       "      <th>396</th>\n",
       "      <td>31.0</td>\n",
       "      <td>82.0</td>\n",
       "    </tr>\n",
       "  </tbody>\n",
       "</table>\n",
       "<p>392 rows × 2 columns</p>\n",
       "</div>"
      ],
      "text/plain": [
       "      mpg  horsepower\n",
       "0    18.0       130.0\n",
       "1    15.0       165.0\n",
       "2    18.0       150.0\n",
       "3    16.0       150.0\n",
       "4    17.0       140.0\n",
       "..    ...         ...\n",
       "392  27.0        86.0\n",
       "393  44.0        52.0\n",
       "394  32.0        84.0\n",
       "395  28.0        79.0\n",
       "396  31.0        82.0\n",
       "\n",
       "[392 rows x 2 columns]"
      ]
     },
     "execution_count": 46,
     "metadata": {},
     "output_type": "execute_result"
    }
   ],
   "source": [
    "Auton[['mpg', 'horsepower']]"
   ]
  },
  {
   "cell_type": "markdown",
   "id": "498ebb47",
   "metadata": {},
   "source": [
    "#### Using index for selection\n",
    "In database systems, an index is a data structure that improves the speed of data retrieval operations on a database table. Indexes are used to quickly locate data without having to search every row in a database table every time a database table is accessed. When you apply a filter or a query on a column that has an index, the database management system can use the index to find rows faster. This is analogous to an index in a book - instead of reading every page, you refer to the index to find the pages you need. For example, if you have an indexed column `employee_id`, and you query for `employee_id = 12345`, the database can use the index to quickly locate this record.\n",
    "\n",
    "In data analysis tools like Pandas in Python, indexing can also help in faster data retrieval and filtering. Pandas allows you to set indexes on DataFrames for similar purposes.\n",
    "\n",
    "When we loaded our data frame, the rows are labeled using integers 0 to 396."
   ]
  },
  {
   "cell_type": "code",
   "execution_count": 47,
   "id": "3a796df3",
   "metadata": {
    "scrolled": true
   },
   "outputs": [
    {
     "data": {
      "text/plain": [
       "Int64Index([  0,   1,   2,   3,   4,   5,   6,   7,   8,   9,\n",
       "            ...\n",
       "            387, 388, 389, 390, 391, 392, 393, 394, 395, 396],\n",
       "           dtype='int64', length=392)"
      ]
     },
     "execution_count": 47,
     "metadata": {},
     "output_type": "execute_result"
    }
   ],
   "source": [
    "Auton.index"
   ]
  },
  {
   "cell_type": "code",
   "execution_count": 5,
   "id": "772fb4ec",
   "metadata": {
    "scrolled": true
   },
   "outputs": [
    {
     "data": {
      "text/html": [
       "<div>\n",
       "<style scoped>\n",
       "    .dataframe tbody tr th:only-of-type {\n",
       "        vertical-align: middle;\n",
       "    }\n",
       "\n",
       "    .dataframe tbody tr th {\n",
       "        vertical-align: top;\n",
       "    }\n",
       "\n",
       "    .dataframe thead th {\n",
       "        text-align: right;\n",
       "    }\n",
       "</style>\n",
       "<table border=\"1\" class=\"dataframe\">\n",
       "  <thead>\n",
       "    <tr style=\"text-align: right;\">\n",
       "      <th></th>\n",
       "      <th>mpg</th>\n",
       "      <th>cylinders</th>\n",
       "      <th>displacement</th>\n",
       "      <th>horsepower</th>\n",
       "      <th>weight</th>\n",
       "      <th>acceleration</th>\n",
       "      <th>year</th>\n",
       "      <th>origin</th>\n",
       "    </tr>\n",
       "    <tr>\n",
       "      <th>name</th>\n",
       "      <th></th>\n",
       "      <th></th>\n",
       "      <th></th>\n",
       "      <th></th>\n",
       "      <th></th>\n",
       "      <th></th>\n",
       "      <th></th>\n",
       "      <th></th>\n",
       "    </tr>\n",
       "  </thead>\n",
       "  <tbody>\n",
       "    <tr>\n",
       "      <th>chevrolet chevelle malibu</th>\n",
       "      <td>18.0</td>\n",
       "      <td>8</td>\n",
       "      <td>307.0</td>\n",
       "      <td>130</td>\n",
       "      <td>3504</td>\n",
       "      <td>12.0</td>\n",
       "      <td>70</td>\n",
       "      <td>1</td>\n",
       "    </tr>\n",
       "    <tr>\n",
       "      <th>buick skylark 320</th>\n",
       "      <td>15.0</td>\n",
       "      <td>8</td>\n",
       "      <td>350.0</td>\n",
       "      <td>165</td>\n",
       "      <td>3693</td>\n",
       "      <td>11.5</td>\n",
       "      <td>70</td>\n",
       "      <td>1</td>\n",
       "    </tr>\n",
       "    <tr>\n",
       "      <th>plymouth satellite</th>\n",
       "      <td>18.0</td>\n",
       "      <td>8</td>\n",
       "      <td>318.0</td>\n",
       "      <td>150</td>\n",
       "      <td>3436</td>\n",
       "      <td>11.0</td>\n",
       "      <td>70</td>\n",
       "      <td>1</td>\n",
       "    </tr>\n",
       "    <tr>\n",
       "      <th>amc rebel sst</th>\n",
       "      <td>16.0</td>\n",
       "      <td>8</td>\n",
       "      <td>304.0</td>\n",
       "      <td>150</td>\n",
       "      <td>3433</td>\n",
       "      <td>12.0</td>\n",
       "      <td>70</td>\n",
       "      <td>1</td>\n",
       "    </tr>\n",
       "    <tr>\n",
       "      <th>ford torino</th>\n",
       "      <td>17.0</td>\n",
       "      <td>8</td>\n",
       "      <td>302.0</td>\n",
       "      <td>140</td>\n",
       "      <td>3449</td>\n",
       "      <td>10.5</td>\n",
       "      <td>70</td>\n",
       "      <td>1</td>\n",
       "    </tr>\n",
       "    <tr>\n",
       "      <th>...</th>\n",
       "      <td>...</td>\n",
       "      <td>...</td>\n",
       "      <td>...</td>\n",
       "      <td>...</td>\n",
       "      <td>...</td>\n",
       "      <td>...</td>\n",
       "      <td>...</td>\n",
       "      <td>...</td>\n",
       "    </tr>\n",
       "    <tr>\n",
       "      <th>ford mustang gl</th>\n",
       "      <td>27.0</td>\n",
       "      <td>4</td>\n",
       "      <td>140.0</td>\n",
       "      <td>86</td>\n",
       "      <td>2790</td>\n",
       "      <td>15.6</td>\n",
       "      <td>82</td>\n",
       "      <td>1</td>\n",
       "    </tr>\n",
       "    <tr>\n",
       "      <th>vw pickup</th>\n",
       "      <td>44.0</td>\n",
       "      <td>4</td>\n",
       "      <td>97.0</td>\n",
       "      <td>52</td>\n",
       "      <td>2130</td>\n",
       "      <td>24.6</td>\n",
       "      <td>82</td>\n",
       "      <td>2</td>\n",
       "    </tr>\n",
       "    <tr>\n",
       "      <th>dodge rampage</th>\n",
       "      <td>32.0</td>\n",
       "      <td>4</td>\n",
       "      <td>135.0</td>\n",
       "      <td>84</td>\n",
       "      <td>2295</td>\n",
       "      <td>11.6</td>\n",
       "      <td>82</td>\n",
       "      <td>1</td>\n",
       "    </tr>\n",
       "    <tr>\n",
       "      <th>ford ranger</th>\n",
       "      <td>28.0</td>\n",
       "      <td>4</td>\n",
       "      <td>120.0</td>\n",
       "      <td>79</td>\n",
       "      <td>2625</td>\n",
       "      <td>18.6</td>\n",
       "      <td>82</td>\n",
       "      <td>1</td>\n",
       "    </tr>\n",
       "    <tr>\n",
       "      <th>chevy s-10</th>\n",
       "      <td>31.0</td>\n",
       "      <td>4</td>\n",
       "      <td>119.0</td>\n",
       "      <td>82</td>\n",
       "      <td>2720</td>\n",
       "      <td>19.4</td>\n",
       "      <td>82</td>\n",
       "      <td>1</td>\n",
       "    </tr>\n",
       "  </tbody>\n",
       "</table>\n",
       "<p>397 rows × 8 columns</p>\n",
       "</div>"
      ],
      "text/plain": [
       "                            mpg  cylinders  displacement horsepower  weight  \\\n",
       "name                                                                          \n",
       "chevrolet chevelle malibu  18.0          8         307.0        130    3504   \n",
       "buick skylark 320          15.0          8         350.0        165    3693   \n",
       "plymouth satellite         18.0          8         318.0        150    3436   \n",
       "amc rebel sst              16.0          8         304.0        150    3433   \n",
       "ford torino                17.0          8         302.0        140    3449   \n",
       "...                         ...        ...           ...        ...     ...   \n",
       "ford mustang gl            27.0          4         140.0         86    2790   \n",
       "vw pickup                  44.0          4          97.0         52    2130   \n",
       "dodge rampage              32.0          4         135.0         84    2295   \n",
       "ford ranger                28.0          4         120.0         79    2625   \n",
       "chevy s-10                 31.0          4         119.0         82    2720   \n",
       "\n",
       "                           acceleration  year  origin  \n",
       "name                                                   \n",
       "chevrolet chevelle malibu          12.0    70       1  \n",
       "buick skylark 320                  11.5    70       1  \n",
       "plymouth satellite                 11.0    70       1  \n",
       "amc rebel sst                      12.0    70       1  \n",
       "ford torino                        10.5    70       1  \n",
       "...                                 ...   ...     ...  \n",
       "ford mustang gl                    15.6    82       1  \n",
       "vw pickup                          24.6    82       2  \n",
       "dodge rampage                      11.6    82       1  \n",
       "ford ranger                        18.6    82       1  \n",
       "chevy s-10                         19.4    82       1  \n",
       "\n",
       "[397 rows x 8 columns]"
      ]
     },
     "execution_count": 5,
     "metadata": {},
     "output_type": "execute_result"
    }
   ],
   "source": [
    "Auto_re = Auton.set_index('name')\n",
    "Auto_re"
   ]
  },
  {
   "cell_type": "code",
   "execution_count": 49,
   "id": "90f560df",
   "metadata": {},
   "outputs": [
    {
     "data": {
      "text/plain": [
       "Index(['mpg', 'cylinders', 'displacement', 'horsepower', 'weight',\n",
       "       'acceleration', 'year', 'origin'],\n",
       "      dtype='object')"
      ]
     },
     "execution_count": 49,
     "metadata": {},
     "output_type": "execute_result"
    }
   ],
   "source": [
    "# We see that the column 'name' is no longer there.\n",
    "Auto_re.columns"
   ]
  },
  {
   "cell_type": "markdown",
   "id": "001d5ae4",
   "metadata": {},
   "source": [
    "Index entries need not be unique: there are several cars in the data frame named `ford galaxie 500`."
   ]
  },
  {
   "cell_type": "code",
   "execution_count": 56,
   "id": "c202a7ac",
   "metadata": {},
   "outputs": [
    {
     "data": {
      "text/html": [
       "<div>\n",
       "<style scoped>\n",
       "    .dataframe tbody tr th:only-of-type {\n",
       "        vertical-align: middle;\n",
       "    }\n",
       "\n",
       "    .dataframe tbody tr th {\n",
       "        vertical-align: top;\n",
       "    }\n",
       "\n",
       "    .dataframe thead th {\n",
       "        text-align: right;\n",
       "    }\n",
       "</style>\n",
       "<table border=\"1\" class=\"dataframe\">\n",
       "  <thead>\n",
       "    <tr style=\"text-align: right;\">\n",
       "      <th></th>\n",
       "      <th>mpg</th>\n",
       "      <th>origin</th>\n",
       "    </tr>\n",
       "    <tr>\n",
       "      <th>name</th>\n",
       "      <th></th>\n",
       "      <th></th>\n",
       "    </tr>\n",
       "  </thead>\n",
       "  <tbody>\n",
       "    <tr>\n",
       "      <th>ford galaxie 500</th>\n",
       "      <td>15.0</td>\n",
       "      <td>1</td>\n",
       "    </tr>\n",
       "    <tr>\n",
       "      <th>ford galaxie 500</th>\n",
       "      <td>14.0</td>\n",
       "      <td>1</td>\n",
       "    </tr>\n",
       "    <tr>\n",
       "      <th>ford galaxie 500</th>\n",
       "      <td>14.0</td>\n",
       "      <td>1</td>\n",
       "    </tr>\n",
       "  </tbody>\n",
       "</table>\n",
       "</div>"
      ],
      "text/plain": [
       "                   mpg  origin\n",
       "name                          \n",
       "ford galaxie 500  15.0       1\n",
       "ford galaxie 500  14.0       1\n",
       "ford galaxie 500  14.0       1"
      ]
     },
     "execution_count": 56,
     "metadata": {},
     "output_type": "execute_result"
    }
   ],
   "source": [
    "Auto_re.loc['ford galaxie 500', ['mpg', 'origin']]"
   ]
  },
  {
   "cell_type": "markdown",
   "id": "639a0cb2",
   "metadata": {},
   "source": [
    "Now, we can access rows of the data frame by `name` using the `loc[]` method of `Auto`:"
   ]
  },
  {
   "cell_type": "code",
   "execution_count": 50,
   "id": "c268d3dd",
   "metadata": {},
   "outputs": [
    {
     "data": {
      "text/html": [
       "<div>\n",
       "<style scoped>\n",
       "    .dataframe tbody tr th:only-of-type {\n",
       "        vertical-align: middle;\n",
       "    }\n",
       "\n",
       "    .dataframe tbody tr th {\n",
       "        vertical-align: top;\n",
       "    }\n",
       "\n",
       "    .dataframe thead th {\n",
       "        text-align: right;\n",
       "    }\n",
       "</style>\n",
       "<table border=\"1\" class=\"dataframe\">\n",
       "  <thead>\n",
       "    <tr style=\"text-align: right;\">\n",
       "      <th></th>\n",
       "      <th>mpg</th>\n",
       "      <th>cylinders</th>\n",
       "      <th>displacement</th>\n",
       "      <th>horsepower</th>\n",
       "      <th>weight</th>\n",
       "      <th>acceleration</th>\n",
       "      <th>year</th>\n",
       "      <th>origin</th>\n",
       "    </tr>\n",
       "    <tr>\n",
       "      <th>name</th>\n",
       "      <th></th>\n",
       "      <th></th>\n",
       "      <th></th>\n",
       "      <th></th>\n",
       "      <th></th>\n",
       "      <th></th>\n",
       "      <th></th>\n",
       "      <th></th>\n",
       "    </tr>\n",
       "  </thead>\n",
       "  <tbody>\n",
       "    <tr>\n",
       "      <th>amc rebel sst</th>\n",
       "      <td>16.0</td>\n",
       "      <td>8</td>\n",
       "      <td>304.0</td>\n",
       "      <td>150.0</td>\n",
       "      <td>3433</td>\n",
       "      <td>12.0</td>\n",
       "      <td>70</td>\n",
       "      <td>1</td>\n",
       "    </tr>\n",
       "    <tr>\n",
       "      <th>ford torino</th>\n",
       "      <td>17.0</td>\n",
       "      <td>8</td>\n",
       "      <td>302.0</td>\n",
       "      <td>140.0</td>\n",
       "      <td>3449</td>\n",
       "      <td>10.5</td>\n",
       "      <td>70</td>\n",
       "      <td>1</td>\n",
       "    </tr>\n",
       "  </tbody>\n",
       "</table>\n",
       "</div>"
      ],
      "text/plain": [
       "                mpg  cylinders  displacement  horsepower  weight  \\\n",
       "name                                                               \n",
       "amc rebel sst  16.0          8         304.0       150.0    3433   \n",
       "ford torino    17.0          8         302.0       140.0    3449   \n",
       "\n",
       "               acceleration  year  origin  \n",
       "name                                       \n",
       "amc rebel sst          12.0    70       1  \n",
       "ford torino            10.5    70       1  "
      ]
     },
     "execution_count": 50,
     "metadata": {},
     "output_type": "execute_result"
    }
   ],
   "source": [
    "rows = ['amc rebel sst', 'ford torino']\n",
    "Auto_re.loc[rows]"
   ]
  },
  {
   "cell_type": "code",
   "execution_count": 53,
   "id": "7ec0df69",
   "metadata": {
    "scrolled": true
   },
   "outputs": [
    {
     "data": {
      "text/html": [
       "<div>\n",
       "<style scoped>\n",
       "    .dataframe tbody tr th:only-of-type {\n",
       "        vertical-align: middle;\n",
       "    }\n",
       "\n",
       "    .dataframe tbody tr th {\n",
       "        vertical-align: top;\n",
       "    }\n",
       "\n",
       "    .dataframe thead th {\n",
       "        text-align: right;\n",
       "    }\n",
       "</style>\n",
       "<table border=\"1\" class=\"dataframe\">\n",
       "  <thead>\n",
       "    <tr style=\"text-align: right;\">\n",
       "      <th></th>\n",
       "      <th>mpg</th>\n",
       "      <th>cylinders</th>\n",
       "      <th>displacement</th>\n",
       "      <th>horsepower</th>\n",
       "      <th>weight</th>\n",
       "      <th>acceleration</th>\n",
       "      <th>year</th>\n",
       "      <th>origin</th>\n",
       "    </tr>\n",
       "    <tr>\n",
       "      <th>name</th>\n",
       "      <th></th>\n",
       "      <th></th>\n",
       "      <th></th>\n",
       "      <th></th>\n",
       "      <th></th>\n",
       "      <th></th>\n",
       "      <th></th>\n",
       "      <th></th>\n",
       "    </tr>\n",
       "  </thead>\n",
       "  <tbody>\n",
       "    <tr>\n",
       "      <th>amc rebel sst</th>\n",
       "      <td>16.0</td>\n",
       "      <td>8</td>\n",
       "      <td>304.0</td>\n",
       "      <td>150.0</td>\n",
       "      <td>3433</td>\n",
       "      <td>12.0</td>\n",
       "      <td>70</td>\n",
       "      <td>1</td>\n",
       "    </tr>\n",
       "    <tr>\n",
       "      <th>ford torino</th>\n",
       "      <td>17.0</td>\n",
       "      <td>8</td>\n",
       "      <td>302.0</td>\n",
       "      <td>140.0</td>\n",
       "      <td>3449</td>\n",
       "      <td>10.5</td>\n",
       "      <td>70</td>\n",
       "      <td>1</td>\n",
       "    </tr>\n",
       "  </tbody>\n",
       "</table>\n",
       "</div>"
      ],
      "text/plain": [
       "                mpg  cylinders  displacement  horsepower  weight  \\\n",
       "name                                                               \n",
       "amc rebel sst  16.0          8         304.0       150.0    3433   \n",
       "ford torino    17.0          8         302.0       140.0    3449   \n",
       "\n",
       "               acceleration  year  origin  \n",
       "name                                       \n",
       "amc rebel sst          12.0    70       1  \n",
       "ford torino            10.5    70       1  "
      ]
     },
     "execution_count": 53,
     "metadata": {},
     "output_type": "execute_result"
    }
   ],
   "source": [
    "Auto_re.iloc[[3,4]]"
   ]
  },
  {
   "cell_type": "markdown",
   "id": "b503315c",
   "metadata": {},
   "source": [
    "`loc[]` is label-based; it uses the names or labels of rows/columns. `iloc[]` is integer position-based; it uses the numerical positions in the DataFrame, starting from 0. The same results from both methods indicate a match between the label positions and their numerical positions in this particular instance of your DataFrame."
   ]
  },
  {
   "cell_type": "code",
   "execution_count": 54,
   "id": "02b96d7c",
   "metadata": {
    "scrolled": true
   },
   "outputs": [
    {
     "data": {
      "text/html": [
       "<div>\n",
       "<style scoped>\n",
       "    .dataframe tbody tr th:only-of-type {\n",
       "        vertical-align: middle;\n",
       "    }\n",
       "\n",
       "    .dataframe tbody tr th {\n",
       "        vertical-align: top;\n",
       "    }\n",
       "\n",
       "    .dataframe thead th {\n",
       "        text-align: right;\n",
       "    }\n",
       "</style>\n",
       "<table border=\"1\" class=\"dataframe\">\n",
       "  <thead>\n",
       "    <tr style=\"text-align: right;\">\n",
       "      <th></th>\n",
       "      <th>mpg</th>\n",
       "      <th>displacement</th>\n",
       "      <th>horsepower</th>\n",
       "    </tr>\n",
       "    <tr>\n",
       "      <th>name</th>\n",
       "      <th></th>\n",
       "      <th></th>\n",
       "      <th></th>\n",
       "    </tr>\n",
       "  </thead>\n",
       "  <tbody>\n",
       "    <tr>\n",
       "      <th>chevrolet chevelle malibu</th>\n",
       "      <td>18.0</td>\n",
       "      <td>307.0</td>\n",
       "      <td>130.0</td>\n",
       "    </tr>\n",
       "    <tr>\n",
       "      <th>buick skylark 320</th>\n",
       "      <td>15.0</td>\n",
       "      <td>350.0</td>\n",
       "      <td>165.0</td>\n",
       "    </tr>\n",
       "    <tr>\n",
       "      <th>plymouth satellite</th>\n",
       "      <td>18.0</td>\n",
       "      <td>318.0</td>\n",
       "      <td>150.0</td>\n",
       "    </tr>\n",
       "    <tr>\n",
       "      <th>amc rebel sst</th>\n",
       "      <td>16.0</td>\n",
       "      <td>304.0</td>\n",
       "      <td>150.0</td>\n",
       "    </tr>\n",
       "    <tr>\n",
       "      <th>ford torino</th>\n",
       "      <td>17.0</td>\n",
       "      <td>302.0</td>\n",
       "      <td>140.0</td>\n",
       "    </tr>\n",
       "    <tr>\n",
       "      <th>...</th>\n",
       "      <td>...</td>\n",
       "      <td>...</td>\n",
       "      <td>...</td>\n",
       "    </tr>\n",
       "    <tr>\n",
       "      <th>ford mustang gl</th>\n",
       "      <td>27.0</td>\n",
       "      <td>140.0</td>\n",
       "      <td>86.0</td>\n",
       "    </tr>\n",
       "    <tr>\n",
       "      <th>vw pickup</th>\n",
       "      <td>44.0</td>\n",
       "      <td>97.0</td>\n",
       "      <td>52.0</td>\n",
       "    </tr>\n",
       "    <tr>\n",
       "      <th>dodge rampage</th>\n",
       "      <td>32.0</td>\n",
       "      <td>135.0</td>\n",
       "      <td>84.0</td>\n",
       "    </tr>\n",
       "    <tr>\n",
       "      <th>ford ranger</th>\n",
       "      <td>28.0</td>\n",
       "      <td>120.0</td>\n",
       "      <td>79.0</td>\n",
       "    </tr>\n",
       "    <tr>\n",
       "      <th>chevy s-10</th>\n",
       "      <td>31.0</td>\n",
       "      <td>119.0</td>\n",
       "      <td>82.0</td>\n",
       "    </tr>\n",
       "  </tbody>\n",
       "</table>\n",
       "<p>392 rows × 3 columns</p>\n",
       "</div>"
      ],
      "text/plain": [
       "                            mpg  displacement  horsepower\n",
       "name                                                     \n",
       "chevrolet chevelle malibu  18.0         307.0       130.0\n",
       "buick skylark 320          15.0         350.0       165.0\n",
       "plymouth satellite         18.0         318.0       150.0\n",
       "amc rebel sst              16.0         304.0       150.0\n",
       "ford torino                17.0         302.0       140.0\n",
       "...                         ...           ...         ...\n",
       "ford mustang gl            27.0         140.0        86.0\n",
       "vw pickup                  44.0          97.0        52.0\n",
       "dodge rampage              32.0         135.0        84.0\n",
       "ford ranger                28.0         120.0        79.0\n",
       "chevy s-10                 31.0         119.0        82.0\n",
       "\n",
       "[392 rows x 3 columns]"
      ]
     },
     "execution_count": 54,
     "metadata": {},
     "output_type": "execute_result"
    }
   ],
   "source": [
    "# We can also use it to retrieve the 1st, 3rd and and 4th columns \n",
    "Auto_re.iloc[:,[0,2,3]]"
   ]
  },
  {
   "cell_type": "markdown",
   "id": "0e7cb3e9",
   "metadata": {},
   "source": [
    "We can extract the 4th and 5th rows, as well as the 1st, 3rd and 4th columns, using a single call to `iloc[]`:"
   ]
  },
  {
   "cell_type": "code",
   "execution_count": 55,
   "id": "ee4e1157",
   "metadata": {},
   "outputs": [
    {
     "data": {
      "text/html": [
       "<div>\n",
       "<style scoped>\n",
       "    .dataframe tbody tr th:only-of-type {\n",
       "        vertical-align: middle;\n",
       "    }\n",
       "\n",
       "    .dataframe tbody tr th {\n",
       "        vertical-align: top;\n",
       "    }\n",
       "\n",
       "    .dataframe thead th {\n",
       "        text-align: right;\n",
       "    }\n",
       "</style>\n",
       "<table border=\"1\" class=\"dataframe\">\n",
       "  <thead>\n",
       "    <tr style=\"text-align: right;\">\n",
       "      <th></th>\n",
       "      <th>mpg</th>\n",
       "      <th>displacement</th>\n",
       "      <th>horsepower</th>\n",
       "    </tr>\n",
       "    <tr>\n",
       "      <th>name</th>\n",
       "      <th></th>\n",
       "      <th></th>\n",
       "      <th></th>\n",
       "    </tr>\n",
       "  </thead>\n",
       "  <tbody>\n",
       "    <tr>\n",
       "      <th>amc rebel sst</th>\n",
       "      <td>16.0</td>\n",
       "      <td>304.0</td>\n",
       "      <td>150.0</td>\n",
       "    </tr>\n",
       "    <tr>\n",
       "      <th>ford torino</th>\n",
       "      <td>17.0</td>\n",
       "      <td>302.0</td>\n",
       "      <td>140.0</td>\n",
       "    </tr>\n",
       "  </tbody>\n",
       "</table>\n",
       "</div>"
      ],
      "text/plain": [
       "                mpg  displacement  horsepower\n",
       "name                                         \n",
       "amc rebel sst  16.0         304.0       150.0\n",
       "ford torino    17.0         302.0       140.0"
      ]
     },
     "execution_count": 55,
     "metadata": {},
     "output_type": "execute_result"
    }
   ],
   "source": [
    "Auto_re.iloc[[3,4],[0,2,3]]"
   ]
  },
  {
   "cell_type": "markdown",
   "id": "f897bce5",
   "metadata": {},
   "source": [
    "Suppose that we want to create a data frame consisting of the `year` and `origin` of the subset of cars with `weight` greater than 5000 "
   ]
  },
  {
   "cell_type": "code",
   "execution_count": 60,
   "id": "b04321ac",
   "metadata": {},
   "outputs": [
    {
     "data": {
      "text/html": [
       "<div>\n",
       "<style scoped>\n",
       "    .dataframe tbody tr th:only-of-type {\n",
       "        vertical-align: middle;\n",
       "    }\n",
       "\n",
       "    .dataframe tbody tr th {\n",
       "        vertical-align: top;\n",
       "    }\n",
       "\n",
       "    .dataframe thead th {\n",
       "        text-align: right;\n",
       "    }\n",
       "</style>\n",
       "<table border=\"1\" class=\"dataframe\">\n",
       "  <thead>\n",
       "    <tr style=\"text-align: right;\">\n",
       "      <th></th>\n",
       "      <th>weight</th>\n",
       "      <th>origin</th>\n",
       "      <th>year</th>\n",
       "    </tr>\n",
       "    <tr>\n",
       "      <th>name</th>\n",
       "      <th></th>\n",
       "      <th></th>\n",
       "      <th></th>\n",
       "    </tr>\n",
       "  </thead>\n",
       "  <tbody>\n",
       "    <tr>\n",
       "      <th>pontiac safari (sw)</th>\n",
       "      <td>5140</td>\n",
       "      <td>1</td>\n",
       "      <td>71</td>\n",
       "    </tr>\n",
       "  </tbody>\n",
       "</table>\n",
       "</div>"
      ],
      "text/plain": [
       "                     weight  origin  year\n",
       "name                                     \n",
       "pontiac safari (sw)    5140       1    71"
      ]
     },
     "execution_count": 60,
     "metadata": {},
     "output_type": "execute_result"
    }
   ],
   "source": [
    "idx_80 = Auto_re['weight'] > 5000\n",
    "Auto_re.loc[idx_80, ['weight', 'origin', 'year']]"
   ]
  },
  {
   "cell_type": "markdown",
   "id": "9793b819",
   "metadata": {},
   "source": [
    "To do this more concisely, we can use an anonymous function called a `lambda`:"
   ]
  },
  {
   "cell_type": "code",
   "execution_count": 61,
   "id": "543dac96",
   "metadata": {},
   "outputs": [
    {
     "data": {
      "text/html": [
       "<div>\n",
       "<style scoped>\n",
       "    .dataframe tbody tr th:only-of-type {\n",
       "        vertical-align: middle;\n",
       "    }\n",
       "\n",
       "    .dataframe tbody tr th {\n",
       "        vertical-align: top;\n",
       "    }\n",
       "\n",
       "    .dataframe thead th {\n",
       "        text-align: right;\n",
       "    }\n",
       "</style>\n",
       "<table border=\"1\" class=\"dataframe\">\n",
       "  <thead>\n",
       "    <tr style=\"text-align: right;\">\n",
       "      <th></th>\n",
       "      <th>weight</th>\n",
       "      <th>origin</th>\n",
       "      <th>year</th>\n",
       "    </tr>\n",
       "    <tr>\n",
       "      <th>name</th>\n",
       "      <th></th>\n",
       "      <th></th>\n",
       "      <th></th>\n",
       "    </tr>\n",
       "  </thead>\n",
       "  <tbody>\n",
       "    <tr>\n",
       "      <th>pontiac safari (sw)</th>\n",
       "      <td>5140</td>\n",
       "      <td>1</td>\n",
       "      <td>71</td>\n",
       "    </tr>\n",
       "  </tbody>\n",
       "</table>\n",
       "</div>"
      ],
      "text/plain": [
       "                     weight  origin  year\n",
       "name                                     \n",
       "pontiac safari (sw)    5140       1    71"
      ]
     },
     "execution_count": 61,
     "metadata": {},
     "output_type": "execute_result"
    }
   ],
   "source": [
    "Auto_re.loc[lambda df: df['weight'] > 5000, ['weight', 'origin', 'year']]"
   ]
  },
  {
   "cell_type": "markdown",
   "id": "e0fdcb97",
   "metadata": {},
   "source": [
    "As another example of using a `lambda`, suppose that we want all cars built after 1981 that achieve greater than 30 miles per gallon:"
   ]
  },
  {
   "cell_type": "code",
   "execution_count": 5,
   "id": "91735bbd",
   "metadata": {
    "scrolled": true
   },
   "outputs": [
    {
     "data": {
      "text/html": [
       "<div>\n",
       "<style scoped>\n",
       "    .dataframe tbody tr th:only-of-type {\n",
       "        vertical-align: middle;\n",
       "    }\n",
       "\n",
       "    .dataframe tbody tr th {\n",
       "        vertical-align: top;\n",
       "    }\n",
       "\n",
       "    .dataframe thead th {\n",
       "        text-align: right;\n",
       "    }\n",
       "</style>\n",
       "<table border=\"1\" class=\"dataframe\">\n",
       "  <thead>\n",
       "    <tr style=\"text-align: right;\">\n",
       "      <th></th>\n",
       "      <th>weight</th>\n",
       "      <th>origin</th>\n",
       "    </tr>\n",
       "    <tr>\n",
       "      <th>name</th>\n",
       "      <th></th>\n",
       "      <th></th>\n",
       "    </tr>\n",
       "  </thead>\n",
       "  <tbody>\n",
       "    <tr>\n",
       "      <th>chevrolet cavalier 2-door</th>\n",
       "      <td>2395</td>\n",
       "      <td>1</td>\n",
       "    </tr>\n",
       "    <tr>\n",
       "      <th>pontiac j2000 se hatchback</th>\n",
       "      <td>2575</td>\n",
       "      <td>1</td>\n",
       "    </tr>\n",
       "    <tr>\n",
       "      <th>volkswagen rabbit l</th>\n",
       "      <td>1980</td>\n",
       "      <td>2</td>\n",
       "    </tr>\n",
       "    <tr>\n",
       "      <th>mazda glc custom l</th>\n",
       "      <td>2025</td>\n",
       "      <td>3</td>\n",
       "    </tr>\n",
       "    <tr>\n",
       "      <th>mazda glc custom</th>\n",
       "      <td>1970</td>\n",
       "      <td>3</td>\n",
       "    </tr>\n",
       "    <tr>\n",
       "      <th>plymouth horizon miser</th>\n",
       "      <td>2125</td>\n",
       "      <td>1</td>\n",
       "    </tr>\n",
       "    <tr>\n",
       "      <th>mercury lynx l</th>\n",
       "      <td>2125</td>\n",
       "      <td>1</td>\n",
       "    </tr>\n",
       "    <tr>\n",
       "      <th>nissan stanza xe</th>\n",
       "      <td>2160</td>\n",
       "      <td>3</td>\n",
       "    </tr>\n",
       "    <tr>\n",
       "      <th>honda accord</th>\n",
       "      <td>2205</td>\n",
       "      <td>3</td>\n",
       "    </tr>\n",
       "    <tr>\n",
       "      <th>toyota corolla</th>\n",
       "      <td>2245</td>\n",
       "      <td>3</td>\n",
       "    </tr>\n",
       "    <tr>\n",
       "      <th>honda civic</th>\n",
       "      <td>1965</td>\n",
       "      <td>3</td>\n",
       "    </tr>\n",
       "    <tr>\n",
       "      <th>honda civic (auto)</th>\n",
       "      <td>1965</td>\n",
       "      <td>3</td>\n",
       "    </tr>\n",
       "    <tr>\n",
       "      <th>datsun 310 gx</th>\n",
       "      <td>1995</td>\n",
       "      <td>3</td>\n",
       "    </tr>\n",
       "    <tr>\n",
       "      <th>oldsmobile cutlass ciera (diesel)</th>\n",
       "      <td>3015</td>\n",
       "      <td>1</td>\n",
       "    </tr>\n",
       "    <tr>\n",
       "      <th>toyota celica gt</th>\n",
       "      <td>2665</td>\n",
       "      <td>3</td>\n",
       "    </tr>\n",
       "    <tr>\n",
       "      <th>dodge charger 2.2</th>\n",
       "      <td>2370</td>\n",
       "      <td>1</td>\n",
       "    </tr>\n",
       "    <tr>\n",
       "      <th>vw pickup</th>\n",
       "      <td>2130</td>\n",
       "      <td>2</td>\n",
       "    </tr>\n",
       "    <tr>\n",
       "      <th>dodge rampage</th>\n",
       "      <td>2295</td>\n",
       "      <td>1</td>\n",
       "    </tr>\n",
       "    <tr>\n",
       "      <th>chevy s-10</th>\n",
       "      <td>2720</td>\n",
       "      <td>1</td>\n",
       "    </tr>\n",
       "  </tbody>\n",
       "</table>\n",
       "</div>"
      ],
      "text/plain": [
       "                                   weight  origin\n",
       "name                                             \n",
       "chevrolet cavalier 2-door            2395       1\n",
       "pontiac j2000 se hatchback           2575       1\n",
       "volkswagen rabbit l                  1980       2\n",
       "mazda glc custom l                   2025       3\n",
       "mazda glc custom                     1970       3\n",
       "plymouth horizon miser               2125       1\n",
       "mercury lynx l                       2125       1\n",
       "nissan stanza xe                     2160       3\n",
       "honda accord                         2205       3\n",
       "toyota corolla                       2245       3\n",
       "honda civic                          1965       3\n",
       "honda civic (auto)                   1965       3\n",
       "datsun 310 gx                        1995       3\n",
       "oldsmobile cutlass ciera (diesel)    3015       1\n",
       "toyota celica gt                     2665       3\n",
       "dodge charger 2.2                    2370       1\n",
       "vw pickup                            2130       2\n",
       "dodge rampage                        2295       1\n",
       "chevy s-10                           2720       1"
      ]
     },
     "execution_count": 5,
     "metadata": {},
     "output_type": "execute_result"
    }
   ],
   "source": [
    "Auto_re.loc[lambda df: (df['year'] > 81) & (df['mpg'] > 30),\n",
    "            ['weight', 'origin']\n",
    "           ]"
   ]
  },
  {
   "cell_type": "markdown",
   "id": "45bc920d",
   "metadata": {},
   "source": [
    "As another example, suppose that we want to retrieve all `Ford` and `Datsun` cars with `displacement` less than 80. We check whether each `name` entry contains either the string `ford` or `datsun` using the `str.contains()` method of the index attribute of of the dataframe:"
   ]
  },
  {
   "cell_type": "code",
   "execution_count": 70,
   "id": "5ca07d08",
   "metadata": {
    "scrolled": false
   },
   "outputs": [
    {
     "data": {
      "text/html": [
       "<div>\n",
       "<style scoped>\n",
       "    .dataframe tbody tr th:only-of-type {\n",
       "        vertical-align: middle;\n",
       "    }\n",
       "\n",
       "    .dataframe tbody tr th {\n",
       "        vertical-align: top;\n",
       "    }\n",
       "\n",
       "    .dataframe thead th {\n",
       "        text-align: right;\n",
       "    }\n",
       "</style>\n",
       "<table border=\"1\" class=\"dataframe\">\n",
       "  <thead>\n",
       "    <tr style=\"text-align: right;\">\n",
       "      <th></th>\n",
       "      <th>weight</th>\n",
       "      <th>origin</th>\n",
       "    </tr>\n",
       "    <tr>\n",
       "      <th>name</th>\n",
       "      <th></th>\n",
       "      <th></th>\n",
       "    </tr>\n",
       "  </thead>\n",
       "  <tbody>\n",
       "    <tr>\n",
       "      <th>datsun 1200</th>\n",
       "      <td>1613</td>\n",
       "      <td>3</td>\n",
       "    </tr>\n",
       "    <tr>\n",
       "      <th>datsun b210</th>\n",
       "      <td>1950</td>\n",
       "      <td>3</td>\n",
       "    </tr>\n",
       "  </tbody>\n",
       "</table>\n",
       "</div>"
      ],
      "text/plain": [
       "             weight  origin\n",
       "name                       \n",
       "datsun 1200    1613       3\n",
       "datsun b210    1950       3"
      ]
     },
     "execution_count": 70,
     "metadata": {},
     "output_type": "execute_result"
    }
   ],
   "source": [
    "Auto_re.loc[lambda df: (df['displacement'] < 80)\n",
    "                        & (df.index.str.contains('ford')\n",
    "                        | df.index.str.contains('datsun')),\n",
    "            ['weight', 'origin']\n",
    "           ]"
   ]
  },
  {
   "cell_type": "markdown",
   "id": "6e84d2d1",
   "metadata": {},
   "source": [
    "To replicate this type of data filtering in R, we can use a combination of base R functions and, optionally, functions from the `dplyr` package, which is part of the `tidyverse` and provides a more intuitive syntax for data manipulation. Indexing doesn't work in R as it works in Python. Here's how you can achieve the same result:"
   ]
  },
  {
   "cell_type": "code",
   "execution_count": 17,
   "id": "48633b3e",
   "metadata": {},
   "outputs": [
    {
     "name": "stdout",
     "output_type": "stream",
     "text": [
      "           name weight origin\n",
      "54  datsun 1200   1613      3\n",
      "129 datsun b210   1950      3\n"
     ]
    }
   ],
   "source": [
    "%%R -i Auton\n",
    "\n",
    "# Filter for Ford and Datsun cars with displacement < 80\n",
    "filtered_cars <- Auton[with(Auton, displacement < 80 & \n",
    "                              (grepl(\"ford\", name, ignore.case = TRUE) |\n",
    "                               grepl(\"datsun\", name, ignore.case = TRUE))), \n",
    "                         c(\"name\",\"weight\", \"origin\")]\n",
    "filtered_cars"
   ]
  },
  {
   "cell_type": "markdown",
   "id": "440ff994",
   "metadata": {},
   "source": [
    "If you're using the `dplyr` package, you can achieve the same with a more readable syntax:"
   ]
  },
  {
   "cell_type": "code",
   "execution_count": 25,
   "id": "b92c46b0",
   "metadata": {},
   "outputs": [
    {
     "name": "stdout",
     "output_type": "stream",
     "text": [
      "           name weight origin\n",
      "54  datsun 1200   1613      3\n",
      "129 datsun b210   1950      3\n"
     ]
    }
   ],
   "source": [
    "%%R -i Auton\n",
    "\n",
    "library(dplyr)\n",
    "library(tibble)\n",
    "\n",
    "# Filter using dplyr\n",
    "fil_cars <- Auton %>%\n",
    "  filter(displacement < 80, \n",
    "         grepl(\"ford\", name, ignore.case = TRUE) | \n",
    "         grepl(\"datsun\", name, ignore.case = TRUE)) %>%\n",
    "  select(name, weight, origin)\n",
    "\n",
    "fil_cars"
   ]
  },
  {
   "cell_type": "markdown",
   "id": "7f00cfc2",
   "metadata": {},
   "source": [
    "# Plots and Numerical Summaries"
   ]
  },
  {
   "cell_type": "code",
   "execution_count": 38,
   "id": "822adb7e",
   "metadata": {},
   "outputs": [
    {
     "data": {
      "image/png": "[encoded data removed]",
      "text/plain": [
       "<Figure size 800x800 with 1 Axes>"
      ]
     },
     "metadata": {},
     "output_type": "display_data"
    }
   ],
   "source": [
    "from matplotlib.pyplot import subplots\n",
    "\n",
    "fig, ax = subplots(figsize=(8, 8))\n",
    "ax.plot(Auto['horsepower'], Auto['mpg'], 'o');"
   ]
  },
  {
   "cell_type": "code",
   "execution_count": 40,
   "id": "03451ddf",
   "metadata": {
    "scrolled": true
   },
   "outputs": [
    {
     "data": {
      "text/plain": [
       "Text(0.5, 1.0, 'Horsepower vs. MPG')"
      ]
     },
     "execution_count": 40,
     "metadata": {},
     "output_type": "execute_result"
    },
    {
     "data": {
      "image/png": "[encoded data removed]",
      "text/plain": [
       "<Figure size 640x480 with 1 Axes>"
      ]
     },
     "metadata": {},
     "output_type": "display_data"
    }
   ],
   "source": [
    "# Here we use Auto.plot() so the variables can be accessed by\n",
    "# their names\n",
    "\n",
    "ax = Auto.plot.scatter('horsepower', 'mpg')\n",
    "ax.set_title('Horsepower vs. MPG')\n",
    "\n",
    "# If you want to save\n",
    "# fig = ax.figure\n",
    "# fig.savefig(\"name_of_the figure.png\")"
   ]
  },
  {
   "cell_type": "markdown",
   "id": "106302fc",
   "metadata": {},
   "source": [
    "Consider the `cylinders` variable. Typing in `Auto.cylinders.dtype` reveals that it is being treated as a quantitative variable. However, since there is only a small number of possible values for this variable, we may wish to treat it as qualitative. Below, we replace the `cylinders` column with a categorical version of `Auto.cylinders`. The function `pd.Series()` owes its name to the fact that pandas is often used in time series applications."
   ]
  },
  {
   "cell_type": "code",
   "execution_count": 41,
   "id": "71a5312d",
   "metadata": {
    "scrolled": true
   },
   "outputs": [
    {
     "data": {
      "text/plain": [
       "dtype('int64')"
      ]
     },
     "execution_count": 41,
     "metadata": {},
     "output_type": "execute_result"
    }
   ],
   "source": [
    "Auto.cylinders.dtype"
   ]
  },
  {
   "cell_type": "code",
   "execution_count": 42,
   "id": "3ff0c2a6",
   "metadata": {},
   "outputs": [
    {
     "data": {
      "text/plain": [
       "CategoricalDtype(categories=[3, 4, 5, 6, 8], ordered=False)"
      ]
     },
     "execution_count": 42,
     "metadata": {},
     "output_type": "execute_result"
    }
   ],
   "source": [
    "Auto.cylinders = pd.Series(Auto.cylinders, dtype='category')\n",
    "Auto.cylinders.dtype"
   ]
  },
  {
   "cell_type": "markdown",
   "id": "b79aaacb",
   "metadata": {},
   "source": [
    "Now that cylinders is qualitative, we can display it using the `boxplot()` or the `hist()` method."
   ]
  },
  {
   "cell_type": "code",
   "execution_count": 43,
   "id": "ca4027c8",
   "metadata": {
    "scrolled": true
   },
   "outputs": [
    {
     "data": {
      "image/png": "[encoded data removed]",
      "text/plain": [
       "<Figure size 800x800 with 1 Axes>"
      ]
     },
     "metadata": {},
     "output_type": "display_data"
    }
   ],
   "source": [
    "fig, ax = subplots(figsize=(8, 8))\n",
    "Auto.hist('mpg', ax=ax);"
   ]
  },
  {
   "cell_type": "markdown",
   "id": "ecc0d649",
   "metadata": {},
   "source": [
    "The `describe()` method produces a numerical summary of each column in a data frame."
   ]
  },
  {
   "cell_type": "code",
   "execution_count": 44,
   "id": "2da5fbdc",
   "metadata": {},
   "outputs": [
    {
     "data": {
      "text/html": [
       "<div>\n",
       "<style scoped>\n",
       "    .dataframe tbody tr th:only-of-type {\n",
       "        vertical-align: middle;\n",
       "    }\n",
       "\n",
       "    .dataframe tbody tr th {\n",
       "        vertical-align: top;\n",
       "    }\n",
       "\n",
       "    .dataframe thead th {\n",
       "        text-align: right;\n",
       "    }\n",
       "</style>\n",
       "<table border=\"1\" class=\"dataframe\">\n",
       "  <thead>\n",
       "    <tr style=\"text-align: right;\">\n",
       "      <th></th>\n",
       "      <th>mpg</th>\n",
       "      <th>weight</th>\n",
       "    </tr>\n",
       "  </thead>\n",
       "  <tbody>\n",
       "    <tr>\n",
       "      <th>count</th>\n",
       "      <td>397.000000</td>\n",
       "      <td>397.000000</td>\n",
       "    </tr>\n",
       "    <tr>\n",
       "      <th>mean</th>\n",
       "      <td>23.515869</td>\n",
       "      <td>2970.261965</td>\n",
       "    </tr>\n",
       "    <tr>\n",
       "      <th>std</th>\n",
       "      <td>7.825804</td>\n",
       "      <td>847.904119</td>\n",
       "    </tr>\n",
       "    <tr>\n",
       "      <th>min</th>\n",
       "      <td>9.000000</td>\n",
       "      <td>1613.000000</td>\n",
       "    </tr>\n",
       "    <tr>\n",
       "      <th>25%</th>\n",
       "      <td>17.500000</td>\n",
       "      <td>2223.000000</td>\n",
       "    </tr>\n",
       "    <tr>\n",
       "      <th>50%</th>\n",
       "      <td>23.000000</td>\n",
       "      <td>2800.000000</td>\n",
       "    </tr>\n",
       "    <tr>\n",
       "      <th>75%</th>\n",
       "      <td>29.000000</td>\n",
       "      <td>3609.000000</td>\n",
       "    </tr>\n",
       "    <tr>\n",
       "      <th>max</th>\n",
       "      <td>46.600000</td>\n",
       "      <td>5140.000000</td>\n",
       "    </tr>\n",
       "  </tbody>\n",
       "</table>\n",
       "</div>"
      ],
      "text/plain": [
       "              mpg       weight\n",
       "count  397.000000   397.000000\n",
       "mean    23.515869  2970.261965\n",
       "std      7.825804   847.904119\n",
       "min      9.000000  1613.000000\n",
       "25%     17.500000  2223.000000\n",
       "50%     23.000000  2800.000000\n",
       "75%     29.000000  3609.000000\n",
       "max     46.600000  5140.000000"
      ]
     },
     "execution_count": 44,
     "metadata": {},
     "output_type": "execute_result"
    }
   ],
   "source": [
    "Auto[['mpg', 'weight']].describe()"
   ]
  },
  {
   "cell_type": "markdown",
   "id": "a714226f",
   "metadata": {},
   "source": [
    "# Linear Regression"
   ]
  },
  {
   "cell_type": "code",
   "execution_count": null,
   "id": "f291a78f",
   "metadata": {},
   "outputs": [],
   "source": [
    "import numpy as np\n",
    "import pandas as pd\n",
    "from matplotlib.pyplot import subplots"
   ]
  },
  {
   "cell_type": "markdown",
   "id": "39f1fc69",
   "metadata": {},
   "source": [
    "## TBC:-)"
   ]
  }
 ],
 "metadata": {
  "kernelspec": {
   "display_name": "Python 3 (ipykernel)",
   "language": "python",
   "name": "python3"
  },
  "language_info": {
   "codemirror_mode": {
    "name": "ipython",
    "version": 3
   },
   "file_extension": ".py",
   "mimetype": "text/x-python",
   "name": "python",
   "nbconvert_exporter": "python",
   "pygments_lexer": "ipython3",
   "version": "3.10.9"
  }
 },
 "nbformat": 4,
 "nbformat_minor": 5
}
