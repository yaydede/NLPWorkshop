{
 "cells": [
  {
   "cell_type": "markdown",
   "id": "0e245090-b060-48d7-a02b-88a08b54f142",
   "metadata": {},
   "source": [
    "R Markdown"
   ]
  },
  {
   "cell_type": "code",
   "execution_count": 2,
   "id": "6d86ea70-f6f3-4f0d-a5c1-0dee96a55053",
   "metadata": {},
   "outputs": [
    {
     "data": {
      "text/html": [
       "9"
      ],
      "text/latex": [
       "9"
      ],
      "text/markdown": [
       "9"
      ],
      "text/plain": [
       "[1] 9"
      ]
     },
     "metadata": {},
     "output_type": "display_data"
    }
   ],
   "source": [
    "b = 9\n",
    "a <- b\n",
    "b "
   ]
  }
 ],
 "metadata": {
  "kernelspec": {
   "display_name": "R",
   "language": "R",
   "name": "ir"
  },
  "language_info": {
   "codemirror_mode": "r",
   "file_extension": ".r",
   "mimetype": "text/x-r-source",
   "name": "R",
   "pygments_lexer": "r",
   "version": "4.3.2"
  }
 },
 "nbformat": 4,
 "nbformat_minor": 5
}
