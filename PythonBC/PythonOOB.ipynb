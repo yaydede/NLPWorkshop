{
 "cells": [
  {
   "cell_type": "markdown",
   "metadata": {},
   "source": [
    "# A Simple Banking System\n",
    "\n",
    "Here's an example that demonstrates the basic concepts of Object-Oriented Programming (OOP) in Python, including a class, object, methods, attributes, and some principles like inheritance."
   ]
  },
  {
   "cell_type": "code",
   "execution_count": 2,
   "metadata": {},
   "outputs": [],
   "source": [
    "# Base Class: Account\n",
    "class Account:\n",
    "    def __init__(self, owner, balance=0):\n",
    "        self.owner = owner  # Attribute\n",
    "        self.balance = balance  # Attribute\n",
    "\n",
    "    def deposit(self, amount):  # Method\n",
    "        \"\"\"Method to deposit money to the account.\"\"\"\n",
    "        self.balance += amount\n",
    "        print(f\"${amount} deposited. New balance is: ${self.balance}\")\n",
    "\n",
    "    def withdraw(self, amount):  # Method\n",
    "        \"\"\"Method to withdraw money from the account.\"\"\"\n",
    "        if amount > self.balance:\n",
    "            print(\"Insufficient funds!\")\n",
    "        else:\n",
    "            self.balance -= amount\n",
    "            print(f\"${amount} withdrawn. Remaining balance is: ${self.balance}\")\n",
    "\n",
    "    def __str__(self):  # Special Method\n",
    "        \"\"\"Method to represent the object as a string.\"\"\"\n",
    "        return f\"Account owner: {self.owner}, Account balance: ${self.balance}\"\n",
    "\n",
    "\n",
    "# Derived Class: SavingsAccount (Inheritance)\n",
    "class SavingsAccount(Account):\n",
    "    def __init__(self, owner, balance=0, interest_rate=0.02):\n",
    "        super().__init__(owner, balance)  # Calling the constructor of the base class\n",
    "        self.interest_rate = interest_rate  # Additional attribute specific to SavingsAccount\n",
    "\n",
    "    def add_interest(self):  # Additional method specific to SavingsAccount\n",
    "        \"\"\"Method to add interest to the balance.\"\"\"\n",
    "        interest = self.balance * self.interest_rate\n",
    "        self.balance += interest\n",
    "        print(f\"Interest added: ${interest}. New balance is: ${self.balance}\")\n",
    "\n",
    "# Creating objects\n",
    "john_account = Account(\"John\", 100)  # Creating an object of the Account class\n",
    "emma_savings = SavingsAccount(\"Emma\", 500, 0.03)  # Creating an object of the SavingsAccount class"
   ]
  },
  {
   "cell_type": "code",
   "execution_count": 3,
   "metadata": {},
   "outputs": [
    {
     "name": "stdout",
     "output_type": "stream",
     "text": [
      "Account owner: John, Account balance: $100\n"
     ]
    }
   ],
   "source": [
    "# Using methods\n",
    "print(john_account) # Account owner: John, Account balance: $100 "
   ]
  },
  {
   "cell_type": "code",
   "execution_count": 5,
   "metadata": {},
   "outputs": [
    {
     "name": "stdout",
     "output_type": "stream",
     "text": [
      "$50 deposited. New balance is: $170\n"
     ]
    }
   ],
   "source": [
    "john_account.deposit(50)  # Depositing money\n"
   ]
  },
  {
   "cell_type": "code",
   "execution_count": 6,
   "metadata": {},
   "outputs": [
    {
     "name": "stdout",
     "output_type": "stream",
     "text": [
      "$30 withdrawn. Remaining balance is: $140\n"
     ]
    }
   ],
   "source": [
    "john_account.withdraw(30)  # Withdrawing money\n"
   ]
  },
  {
   "cell_type": "code",
   "execution_count": 7,
   "metadata": {},
   "outputs": [
    {
     "name": "stdout",
     "output_type": "stream",
     "text": [
      "Account owner: John, Account balance: $140\n"
     ]
    }
   ],
   "source": [
    "print(john_account) "
   ]
  },
  {
   "cell_type": "code",
   "execution_count": 8,
   "metadata": {},
   "outputs": [
    {
     "name": "stdout",
     "output_type": "stream",
     "text": [
      "Account owner: Emma, Account balance: $500\n"
     ]
    }
   ],
   "source": [
    "print(emma_savings)"
   ]
  },
  {
   "cell_type": "code",
   "execution_count": 9,
   "metadata": {},
   "outputs": [
    {
     "name": "stdout",
     "output_type": "stream",
     "text": [
      "Interest added: $15.0. New balance is: $515.0\n"
     ]
    }
   ],
   "source": [
    "emma_savings.add_interest()"
   ]
  },
  {
   "cell_type": "code",
   "execution_count": 10,
   "metadata": {},
   "outputs": [
    {
     "name": "stdout",
     "output_type": "stream",
     "text": [
      "Account owner: Emma, Account balance: $515.0\n"
     ]
    }
   ],
   "source": [
    "print(emma_savings) "
   ]
  },
  {
   "cell_type": "markdown",
   "metadata": {},
   "source": [
    "## Explanation:\n",
    "- Class (Account): Defines a blueprint for an Account with attributes owner and balance, and methods like deposit and withdraw.\n",
    "- Object (john_account): An instance of the Account class, representing John's bank account.\n",
    "- Method (deposit, withdraw): Functions defined within a class that operate on objects of that class. For example, deposit adds money to the account's balance.\n",
    "- Attributes (owner, balance): Variables that belong to the object (or class instance). Each account object has its own owner and balance.\n",
    "- Inheritance (SavingsAccount): A derived class that inherits from the Account class and adds a new attribute (interest_rate) and a method (add_interest).\n",
    "\n",
    "This example illustrates the core concepts of OOP in Python: encapsulation (grouping related attributes and methods), inheritance (reusing code in subclasses), polymorphism (methods like __str__), and abstraction (simplifying complex systems).\n",
    "\n",
    "__init__ is a special method in Python classes, also known as a constructor. It is automatically called when a new instance (object) of a class is created. The __init__ method allows you to initialize the attributes of the class with specific values when you create an object.\n",
    "\n",
    "Key Points about __init__:\n",
    "- Initialization: __init__ is used to initialize the object's attributes. When you create an instance of a class, __init__ is automatically invoked to set up the initial state of the object.\n",
    "- Self Parameter: The first parameter of __init__ is always `self`, which is a reference to the current instance of the class. This allows you to access the attributes and methods of the class.\n",
    "\n",
    "Not a Constructor in the Traditional Sense: While __init__ is often called a constructor, it technically is an initializer. The actual object creation happens before __init__ is called."
   ]
  },
  {
   "cell_type": "code",
   "execution_count": 11,
   "metadata": {},
   "outputs": [
    {
     "name": "stdout",
     "output_type": "stream",
     "text": [
      "Buddy\n",
      "Bulldog\n",
      "Buddy says Woof!\n",
      "Max says Woof!\n"
     ]
    }
   ],
   "source": [
    "class Dog:\n",
    "    def __init__(self, name, breed):  # Constructor method\n",
    "        self.name = name  # Attribute 'name' is initialized\n",
    "        self.breed = breed  # Attribute 'breed' is initialized\n",
    "\n",
    "    def bark(self):  # A simple method\n",
    "        print(f\"{self.name} says Woof!\")\n",
    "\n",
    "# Creating objects (instances) of the Dog class\n",
    "my_dog = Dog(\"Buddy\", \"Golden Retriever\")\n",
    "your_dog = Dog(\"Max\", \"Bulldog\")\n",
    "\n",
    "# Accessing attributes and methods\n",
    "print(my_dog.name)  # Output: Buddy\n",
    "print(your_dog.breed)  # Output: Bulldog\n",
    "my_dog.bark()  # Output: Buddy says Woof!\n",
    "your_dog.bark()  # Output: Max says Woof!\n"
   ]
  },
  {
   "cell_type": "markdown",
   "metadata": {},
   "source": [
    "- When my_dog = Dog(\"Buddy\", \"Golden Retriever\") is executed, Python calls the __init__ method of the Dog class.\n",
    "- The name and breed attributes are initialized with the values \"Buddy\" and \"Golden Retriever\", respectively.\n",
    "- self refers to the instance being created (my_dog), so self.name is set to \"Buddy\", and self.breed is set to \"Golden Retriever\".\n",
    "\n",
    "Why Use __init__?\n",
    "- Control Initialization: Allows you to set up an object with a specific initial state.\n",
    "Ease of Use: Makes it easier to create objects with different initial values.\n",
    "- Encapsulation: Helps in encapsulating the internal state of the object, providing a clean and controlled way to initialize attributes."
   ]
  }
 ],
 "metadata": {
  "kernelspec": {
   "display_name": "nlp_env",
   "language": "python",
   "name": "python3"
  },
  "language_info": {
   "codemirror_mode": {
    "name": "ipython",
    "version": 3
   },
   "file_extension": ".py",
   "mimetype": "text/x-python",
   "name": "python",
   "nbconvert_exporter": "python",
   "pygments_lexer": "ipython3",
   "version": "3.9.19"
  }
 },
 "nbformat": 4,
 "nbformat_minor": 2
}
